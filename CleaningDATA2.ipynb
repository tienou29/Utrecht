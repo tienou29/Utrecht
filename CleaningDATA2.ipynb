{
 "cells": [
  {
   "cell_type": "code",
   "execution_count": 1,
   "id": "4068875c",
   "metadata": {},
   "outputs": [],
   "source": [
    "import pandas as pd\n",
    "import seaborn as sns\n",
    "import pandas as pd\n",
    "import matplotlib.pyplot as plt\n",
    "import math\n",
    "from sklearn.linear_model import LinearRegression\n",
    "from sklearn.model_selection import train_test_split\n",
    "from sklearn.metrics import mean_squared_error\n",
    "from sklearn.metrics import r2_score"
   ]
  },
  {
   "cell_type": "markdown",
   "id": "4de98ce2",
   "metadata": {},
   "source": [
    "# DF ACTIVITY"
   ]
  },
  {
   "cell_type": "code",
   "execution_count": 2,
   "id": "c80889c2",
   "metadata": {},
   "outputs": [
    {
     "data": {
      "text/html": [
       "<div>\n",
       "<style scoped>\n",
       "    .dataframe tbody tr th:only-of-type {\n",
       "        vertical-align: middle;\n",
       "    }\n",
       "\n",
       "    .dataframe tbody tr th {\n",
       "        vertical-align: top;\n",
       "    }\n",
       "\n",
       "    .dataframe thead th {\n",
       "        text-align: right;\n",
       "    }\n",
       "</style>\n",
       "<table border=\"1\" class=\"dataframe\">\n",
       "  <thead>\n",
       "    <tr style=\"text-align: right;\">\n",
       "      <th></th>\n",
       "      <th>ActivityType</th>\n",
       "      <th>Duration(min)</th>\n",
       "      <th>totalDistance(km)</th>\n",
       "      <th>totalEnergyBurned(kcal)</th>\n",
       "      <th>averageSpeed(km/h)</th>\n",
       "      <th>BMI</th>\n",
       "    </tr>\n",
       "  </thead>\n",
       "  <tbody>\n",
       "    <tr>\n",
       "      <th>0</th>\n",
       "      <td>Cycling</td>\n",
       "      <td>90.871452</td>\n",
       "      <td>28.572670</td>\n",
       "      <td>726.000000</td>\n",
       "      <td>18.865773</td>\n",
       "      <td>22.877406</td>\n",
       "    </tr>\n",
       "    <tr>\n",
       "      <th>1</th>\n",
       "      <td>Cycling</td>\n",
       "      <td>31.131966</td>\n",
       "      <td>10.923420</td>\n",
       "      <td>308.000000</td>\n",
       "      <td>21.052483</td>\n",
       "      <td>22.019503</td>\n",
       "    </tr>\n",
       "    <tr>\n",
       "      <th>2</th>\n",
       "      <td>Cycling</td>\n",
       "      <td>110.181803</td>\n",
       "      <td>37.696500</td>\n",
       "      <td>1040.000000</td>\n",
       "      <td>20.527800</td>\n",
       "      <td>22.019503</td>\n",
       "    </tr>\n",
       "    <tr>\n",
       "      <th>3</th>\n",
       "      <td>Cycling</td>\n",
       "      <td>27.341850</td>\n",
       "      <td>8.905270</td>\n",
       "      <td>241.000000</td>\n",
       "      <td>19.542064</td>\n",
       "      <td>22.019503</td>\n",
       "    </tr>\n",
       "    <tr>\n",
       "      <th>4</th>\n",
       "      <td>Cycling</td>\n",
       "      <td>28.687284</td>\n",
       "      <td>11.584800</td>\n",
       "      <td>358.000000</td>\n",
       "      <td>24.229829</td>\n",
       "      <td>22.019503</td>\n",
       "    </tr>\n",
       "    <tr>\n",
       "      <th>...</th>\n",
       "      <td>...</td>\n",
       "      <td>...</td>\n",
       "      <td>...</td>\n",
       "      <td>...</td>\n",
       "      <td>...</td>\n",
       "      <td>...</td>\n",
       "    </tr>\n",
       "    <tr>\n",
       "      <th>937</th>\n",
       "      <td>Cycling</td>\n",
       "      <td>50.593861</td>\n",
       "      <td>20.186837</td>\n",
       "      <td>505.113894</td>\n",
       "      <td>23.939866</td>\n",
       "      <td>23.449341</td>\n",
       "    </tr>\n",
       "    <tr>\n",
       "      <th>938</th>\n",
       "      <td>Cycling</td>\n",
       "      <td>16.308763</td>\n",
       "      <td>4.551423</td>\n",
       "      <td>75.102000</td>\n",
       "      <td>16.744703</td>\n",
       "      <td>23.449341</td>\n",
       "    </tr>\n",
       "    <tr>\n",
       "      <th>939</th>\n",
       "      <td>Cycling</td>\n",
       "      <td>16.103479</td>\n",
       "      <td>4.541209</td>\n",
       "      <td>75.988000</td>\n",
       "      <td>16.920103</td>\n",
       "      <td>23.449341</td>\n",
       "    </tr>\n",
       "    <tr>\n",
       "      <th>940</th>\n",
       "      <td>Cycling</td>\n",
       "      <td>58.247580</td>\n",
       "      <td>23.191472</td>\n",
       "      <td>563.620278</td>\n",
       "      <td>23.889204</td>\n",
       "      <td>23.449341</td>\n",
       "    </tr>\n",
       "    <tr>\n",
       "      <th>941</th>\n",
       "      <td>Cycling</td>\n",
       "      <td>64.289885</td>\n",
       "      <td>26.115695</td>\n",
       "      <td>632.016175</td>\n",
       "      <td>24.373068</td>\n",
       "      <td>23.449341</td>\n",
       "    </tr>\n",
       "  </tbody>\n",
       "</table>\n",
       "<p>693 rows × 6 columns</p>\n",
       "</div>"
      ],
      "text/plain": [
       "    ActivityType  Duration(min)  totalDistance(km)  totalEnergyBurned(kcal)  \\\n",
       "0        Cycling      90.871452          28.572670               726.000000   \n",
       "1        Cycling      31.131966          10.923420               308.000000   \n",
       "2        Cycling     110.181803          37.696500              1040.000000   \n",
       "3        Cycling      27.341850           8.905270               241.000000   \n",
       "4        Cycling      28.687284          11.584800               358.000000   \n",
       "..           ...            ...                ...                      ...   \n",
       "937      Cycling      50.593861          20.186837               505.113894   \n",
       "938      Cycling      16.308763           4.551423                75.102000   \n",
       "939      Cycling      16.103479           4.541209                75.988000   \n",
       "940      Cycling      58.247580          23.191472               563.620278   \n",
       "941      Cycling      64.289885          26.115695               632.016175   \n",
       "\n",
       "     averageSpeed(km/h)        BMI  \n",
       "0             18.865773  22.877406  \n",
       "1             21.052483  22.019503  \n",
       "2             20.527800  22.019503  \n",
       "3             19.542064  22.019503  \n",
       "4             24.229829  22.019503  \n",
       "..                  ...        ...  \n",
       "937           23.939866  23.449341  \n",
       "938           16.744703  23.449341  \n",
       "939           16.920103  23.449341  \n",
       "940           23.889204  23.449341  \n",
       "941           24.373068  23.449341  \n",
       "\n",
       "[693 rows x 6 columns]"
      ]
     },
     "execution_count": 2,
     "metadata": {},
     "output_type": "execute_result"
    }
   ],
   "source": [
    "df = pd.read_csv(\"activity.csv\")\n",
    "del df['Unnamed: 0'] \n",
    "df = df[df['ActivityType'] != 'StrengthTraining']\n",
    "df = df[df['ActivityType'] != 'Walking']\n",
    "df = df[df['ActivityType'] != 'Yoga']\n",
    "df = df[df['ActivityType'] != 'Kayak']\n",
    "df = df[df['ActivityType'] != 'Swimming']\n",
    "df = df.dropna()\n",
    "df"
   ]
  },
  {
   "cell_type": "code",
   "execution_count": 3,
   "id": "2c4e2fe3",
   "metadata": {},
   "outputs": [
    {
     "data": {
      "image/png": "[encoded data removed]",
      "text/plain": [
       "<Figure size 900x900 with 30 Axes>"
      ]
     },
     "metadata": {
      "needs_background": "light"
     },
     "output_type": "display_data"
    }
   ],
   "source": [
    "sns.pairplot(df)\n",
    "plt.show()"
   ]
  },
  {
   "cell_type": "code",
   "execution_count": 4,
   "id": "02ec46ab",
   "metadata": {
    "scrolled": false
   },
   "outputs": [
    {
     "data": {
      "text/html": [
       "<div>\n",
       "<style scoped>\n",
       "    .dataframe tbody tr th:only-of-type {\n",
       "        vertical-align: middle;\n",
       "    }\n",
       "\n",
       "    .dataframe tbody tr th {\n",
       "        vertical-align: top;\n",
       "    }\n",
       "\n",
       "    .dataframe thead th {\n",
       "        text-align: right;\n",
       "    }\n",
       "</style>\n",
       "<table border=\"1\" class=\"dataframe\">\n",
       "  <thead>\n",
       "    <tr style=\"text-align: right;\">\n",
       "      <th></th>\n",
       "      <th>Duration(min)</th>\n",
       "      <th>totalDistance(km)</th>\n",
       "      <th>totalEnergyBurned(kcal)</th>\n",
       "      <th>averageSpeed(km/h)</th>\n",
       "      <th>BMI</th>\n",
       "    </tr>\n",
       "  </thead>\n",
       "  <tbody>\n",
       "    <tr>\n",
       "      <th>Duration(min)</th>\n",
       "      <td>1.000000</td>\n",
       "      <td>0.924621</td>\n",
       "      <td>0.898399</td>\n",
       "      <td>0.047902</td>\n",
       "      <td>-0.110966</td>\n",
       "    </tr>\n",
       "    <tr>\n",
       "      <th>totalDistance(km)</th>\n",
       "      <td>0.924621</td>\n",
       "      <td>1.000000</td>\n",
       "      <td>0.878089</td>\n",
       "      <td>0.320447</td>\n",
       "      <td>-0.107456</td>\n",
       "    </tr>\n",
       "    <tr>\n",
       "      <th>totalEnergyBurned(kcal)</th>\n",
       "      <td>0.898399</td>\n",
       "      <td>0.878089</td>\n",
       "      <td>1.000000</td>\n",
       "      <td>0.066533</td>\n",
       "      <td>-0.153603</td>\n",
       "    </tr>\n",
       "    <tr>\n",
       "      <th>averageSpeed(km/h)</th>\n",
       "      <td>0.047902</td>\n",
       "      <td>0.320447</td>\n",
       "      <td>0.066533</td>\n",
       "      <td>1.000000</td>\n",
       "      <td>-0.122911</td>\n",
       "    </tr>\n",
       "    <tr>\n",
       "      <th>BMI</th>\n",
       "      <td>-0.110966</td>\n",
       "      <td>-0.107456</td>\n",
       "      <td>-0.153603</td>\n",
       "      <td>-0.122911</td>\n",
       "      <td>1.000000</td>\n",
       "    </tr>\n",
       "  </tbody>\n",
       "</table>\n",
       "</div>"
      ],
      "text/plain": [
       "                         Duration(min)  totalDistance(km)  \\\n",
       "Duration(min)                 1.000000           0.924621   \n",
       "totalDistance(km)             0.924621           1.000000   \n",
       "totalEnergyBurned(kcal)       0.898399           0.878089   \n",
       "averageSpeed(km/h)            0.047902           0.320447   \n",
       "BMI                          -0.110966          -0.107456   \n",
       "\n",
       "                         totalEnergyBurned(kcal)  averageSpeed(km/h)       BMI  \n",
       "Duration(min)                           0.898399            0.047902 -0.110966  \n",
       "totalDistance(km)                       0.878089            0.320447 -0.107456  \n",
       "totalEnergyBurned(kcal)                 1.000000            0.066533 -0.153603  \n",
       "averageSpeed(km/h)                      0.066533            1.000000 -0.122911  \n",
       "BMI                                    -0.153603           -0.122911  1.000000  "
      ]
     },
     "execution_count": 4,
     "metadata": {},
     "output_type": "execute_result"
    }
   ],
   "source": [
    "df.corr()"
   ]
  },
  {
   "cell_type": "markdown",
   "id": "23f945f3",
   "metadata": {},
   "source": [
    "# DFHR"
   ]
  },
  {
   "cell_type": "code",
   "execution_count": 5,
   "id": "ccbce167",
   "metadata": {},
   "outputs": [
    {
     "data": {
      "text/html": [
       "<div>\n",
       "<style scoped>\n",
       "    .dataframe tbody tr th:only-of-type {\n",
       "        vertical-align: middle;\n",
       "    }\n",
       "\n",
       "    .dataframe tbody tr th {\n",
       "        vertical-align: top;\n",
       "    }\n",
       "\n",
       "    .dataframe thead th {\n",
       "        text-align: right;\n",
       "    }\n",
       "</style>\n",
       "<table border=\"1\" class=\"dataframe\">\n",
       "  <thead>\n",
       "    <tr style=\"text-align: right;\">\n",
       "      <th></th>\n",
       "      <th>dt</th>\n",
       "      <th>bpm</th>\n",
       "      <th>day_of_week_in_number</th>\n",
       "    </tr>\n",
       "  </thead>\n",
       "  <tbody>\n",
       "    <tr>\n",
       "      <th>0</th>\n",
       "      <td>2021-03-06 13:27:34</td>\n",
       "      <td>88</td>\n",
       "      <td>5</td>\n",
       "    </tr>\n",
       "    <tr>\n",
       "      <th>1</th>\n",
       "      <td>2021-03-06 13:32:23</td>\n",
       "      <td>67</td>\n",
       "      <td>5</td>\n",
       "    </tr>\n",
       "    <tr>\n",
       "      <th>2</th>\n",
       "      <td>2021-03-06 13:38:29</td>\n",
       "      <td>74</td>\n",
       "      <td>5</td>\n",
       "    </tr>\n",
       "    <tr>\n",
       "      <th>3</th>\n",
       "      <td>2021-03-06 13:38:34</td>\n",
       "      <td>75</td>\n",
       "      <td>5</td>\n",
       "    </tr>\n",
       "    <tr>\n",
       "      <th>4</th>\n",
       "      <td>2021-03-06 13:38:39</td>\n",
       "      <td>74</td>\n",
       "      <td>5</td>\n",
       "    </tr>\n",
       "    <tr>\n",
       "      <th>...</th>\n",
       "      <td>...</td>\n",
       "      <td>...</td>\n",
       "      <td>...</td>\n",
       "    </tr>\n",
       "    <tr>\n",
       "      <th>251242</th>\n",
       "      <td>2022-05-11 11:53:48</td>\n",
       "      <td>69</td>\n",
       "      <td>2</td>\n",
       "    </tr>\n",
       "    <tr>\n",
       "      <th>251243</th>\n",
       "      <td>2022-05-11 11:56:45</td>\n",
       "      <td>67</td>\n",
       "      <td>2</td>\n",
       "    </tr>\n",
       "    <tr>\n",
       "      <th>251244</th>\n",
       "      <td>2022-05-11 12:07:42</td>\n",
       "      <td>76</td>\n",
       "      <td>2</td>\n",
       "    </tr>\n",
       "    <tr>\n",
       "      <th>251245</th>\n",
       "      <td>2022-05-11 12:04:42</td>\n",
       "      <td>67</td>\n",
       "      <td>2</td>\n",
       "    </tr>\n",
       "    <tr>\n",
       "      <th>251246</th>\n",
       "      <td>2022-05-11 12:08:55</td>\n",
       "      <td>80</td>\n",
       "      <td>2</td>\n",
       "    </tr>\n",
       "  </tbody>\n",
       "</table>\n",
       "<p>251247 rows × 3 columns</p>\n",
       "</div>"
      ],
      "text/plain": [
       "                        dt  bpm  day_of_week_in_number\n",
       "0      2021-03-06 13:27:34   88                      5\n",
       "1      2021-03-06 13:32:23   67                      5\n",
       "2      2021-03-06 13:38:29   74                      5\n",
       "3      2021-03-06 13:38:34   75                      5\n",
       "4      2021-03-06 13:38:39   74                      5\n",
       "...                    ...  ...                    ...\n",
       "251242 2022-05-11 11:53:48   69                      2\n",
       "251243 2022-05-11 11:56:45   67                      2\n",
       "251244 2022-05-11 12:07:42   76                      2\n",
       "251245 2022-05-11 12:04:42   67                      2\n",
       "251246 2022-05-11 12:08:55   80                      2\n",
       "\n",
       "[251247 rows x 3 columns]"
      ]
     },
     "execution_count": 5,
     "metadata": {},
     "output_type": "execute_result"
    }
   ],
   "source": [
    "import datetime\n",
    "dfhr = pd.read_csv(\"hr_export.csv\")\n",
    "dfhr['dt'] = pd.to_datetime(dfhr['dt'])\n",
    "dfhr['day_of_week_in_number'] = dfhr['dt'].dt.dayofweek\n",
    "\n",
    "dfhr\n"
   ]
  },
  {
   "cell_type": "code",
   "execution_count": 6,
   "id": "22954b0f",
   "metadata": {},
   "outputs": [
    {
     "data": {
      "text/html": [
       "<div>\n",
       "<style scoped>\n",
       "    .dataframe tbody tr th:only-of-type {\n",
       "        vertical-align: middle;\n",
       "    }\n",
       "\n",
       "    .dataframe tbody tr th {\n",
       "        vertical-align: top;\n",
       "    }\n",
       "\n",
       "    .dataframe thead th {\n",
       "        text-align: right;\n",
       "    }\n",
       "</style>\n",
       "<table border=\"1\" class=\"dataframe\">\n",
       "  <thead>\n",
       "    <tr style=\"text-align: right;\">\n",
       "      <th></th>\n",
       "      <th>dt</th>\n",
       "      <th>bpm</th>\n",
       "      <th>day_of_week_in_number</th>\n",
       "    </tr>\n",
       "  </thead>\n",
       "  <tbody>\n",
       "    <tr>\n",
       "      <th>252</th>\n",
       "      <td>2021-03-07 00:00:52</td>\n",
       "      <td>102</td>\n",
       "      <td>6</td>\n",
       "    </tr>\n",
       "    <tr>\n",
       "      <th>253</th>\n",
       "      <td>2021-03-07 00:06:39</td>\n",
       "      <td>102</td>\n",
       "      <td>6</td>\n",
       "    </tr>\n",
       "    <tr>\n",
       "      <th>254</th>\n",
       "      <td>2021-03-07 00:12:38</td>\n",
       "      <td>83</td>\n",
       "      <td>6</td>\n",
       "    </tr>\n",
       "    <tr>\n",
       "      <th>255</th>\n",
       "      <td>2021-03-07 00:20:31</td>\n",
       "      <td>94</td>\n",
       "      <td>6</td>\n",
       "    </tr>\n",
       "    <tr>\n",
       "      <th>256</th>\n",
       "      <td>2021-03-07 00:23:49</td>\n",
       "      <td>92</td>\n",
       "      <td>6</td>\n",
       "    </tr>\n",
       "    <tr>\n",
       "      <th>...</th>\n",
       "      <td>...</td>\n",
       "      <td>...</td>\n",
       "      <td>...</td>\n",
       "    </tr>\n",
       "    <tr>\n",
       "      <th>248847</th>\n",
       "      <td>2022-01-09 13:05:59</td>\n",
       "      <td>130</td>\n",
       "      <td>6</td>\n",
       "    </tr>\n",
       "    <tr>\n",
       "      <th>249322</th>\n",
       "      <td>2022-01-09 19:03:07</td>\n",
       "      <td>152</td>\n",
       "      <td>6</td>\n",
       "    </tr>\n",
       "    <tr>\n",
       "      <th>249323</th>\n",
       "      <td>2022-01-09 19:14:40</td>\n",
       "      <td>155</td>\n",
       "      <td>6</td>\n",
       "    </tr>\n",
       "    <tr>\n",
       "      <th>249324</th>\n",
       "      <td>2022-01-09 19:24:35</td>\n",
       "      <td>158</td>\n",
       "      <td>6</td>\n",
       "    </tr>\n",
       "    <tr>\n",
       "      <th>249325</th>\n",
       "      <td>2022-01-09 19:34:30</td>\n",
       "      <td>166</td>\n",
       "      <td>6</td>\n",
       "    </tr>\n",
       "  </tbody>\n",
       "</table>\n",
       "<p>33519 rows × 3 columns</p>\n",
       "</div>"
      ],
      "text/plain": [
       "                        dt  bpm  day_of_week_in_number\n",
       "252    2021-03-07 00:00:52  102                      6\n",
       "253    2021-03-07 00:06:39  102                      6\n",
       "254    2021-03-07 00:12:38   83                      6\n",
       "255    2021-03-07 00:20:31   94                      6\n",
       "256    2021-03-07 00:23:49   92                      6\n",
       "...                    ...  ...                    ...\n",
       "248847 2022-01-09 13:05:59  130                      6\n",
       "249322 2022-01-09 19:03:07  152                      6\n",
       "249323 2022-01-09 19:14:40  155                      6\n",
       "249324 2022-01-09 19:24:35  158                      6\n",
       "249325 2022-01-09 19:34:30  166                      6\n",
       "\n",
       "[33519 rows x 3 columns]"
      ]
     },
     "execution_count": 6,
     "metadata": {},
     "output_type": "execute_result"
    }
   ],
   "source": [
    "mondaydf = dfhr[dfhr['day_of_week_in_number']==0]\n",
    "#mondaydf\n",
    "tuesdaydf = dfhr[dfhr['day_of_week_in_number']==1]\n",
    "#tuesdaydf\n",
    "wednesdaydf = dfhr[dfhr['day_of_week_in_number']==2]\n",
    "#wednesdaydf\n",
    "\n",
    "thursdaydf = dfhr[dfhr['day_of_week_in_number']==3]\n",
    "#thursdaydf\n",
    "\n",
    "fridaydf = dfhr[dfhr['day_of_week_in_number']==4]\n",
    "#fridaydf\n",
    "\n",
    "saturdaydf = dfhr[dfhr['day_of_week_in_number']==5]\n",
    "#saturdaydf\n",
    "\n",
    "sundaydf = dfhr[dfhr['day_of_week_in_number']==6]\n",
    "sundaydf"
   ]
  },
  {
   "cell_type": "code",
   "execution_count": 7,
   "id": "6f705c81",
   "metadata": {},
   "outputs": [],
   "source": [
    "mondaydf.set_index('dt', inplace=True)  \n",
    "mondaydf.index = pd.to_datetime(mondaydf.index)    \n",
    "df2 = mondaydf.resample(rule = '30Min').mean()\n",
    "\n",
    "tuesdaydf.set_index('dt', inplace=True)  \n",
    "tuesdaydf.index = pd.to_datetime(tuesdaydf.index)    \n",
    "df3 = tuesdaydf.resample(rule = '30Min').mean()\n",
    "\n",
    "wednesdaydf.set_index('dt', inplace=True)  \n",
    "wednesdaydf.index = pd.to_datetime(wednesdaydf.index)    \n",
    "df4 = wednesdaydf.resample(rule = '30Min').mean()\n",
    "\n",
    "\n",
    "thursdaydf.set_index('dt', inplace=True)  \n",
    "thursdaydf.index = pd.to_datetime(thursdaydf.index)    \n",
    "df5 = thursdaydf.resample(rule = '30Min').mean()\n",
    "\n",
    "\n",
    "fridaydf.set_index('dt', inplace=True)  \n",
    "fridaydf.index = pd.to_datetime(fridaydf.index)    \n",
    "df6 = fridaydf.resample(rule = '30Min').mean()\n",
    "\n",
    "\n",
    "saturdaydf.set_index('dt', inplace=True)  \n",
    "saturdaydf.index = pd.to_datetime(saturdaydf.index)    \n",
    "df7 = saturdaydf.resample(rule = '30Min').mean()\n",
    "\n",
    "sundaydf.set_index('dt', inplace=True)  \n",
    "sundaydf.index = pd.to_datetime(sundaydf.index)    \n",
    "df8 = sundaydf.resample(rule = '30Min').mean()"
   ]
  },
  {
   "cell_type": "code",
   "execution_count": 8,
   "id": "69f21acf",
   "metadata": {},
   "outputs": [
    {
     "data": {
      "text/html": [
       "<div>\n",
       "<style scoped>\n",
       "    .dataframe tbody tr th:only-of-type {\n",
       "        vertical-align: middle;\n",
       "    }\n",
       "\n",
       "    .dataframe tbody tr th {\n",
       "        vertical-align: top;\n",
       "    }\n",
       "\n",
       "    .dataframe thead th {\n",
       "        text-align: right;\n",
       "    }\n",
       "</style>\n",
       "<table border=\"1\" class=\"dataframe\">\n",
       "  <thead>\n",
       "    <tr style=\"text-align: right;\">\n",
       "      <th></th>\n",
       "      <th>bpm</th>\n",
       "      <th>day_of_week_in_number</th>\n",
       "    </tr>\n",
       "    <tr>\n",
       "      <th>dt</th>\n",
       "      <th></th>\n",
       "      <th></th>\n",
       "    </tr>\n",
       "  </thead>\n",
       "  <tbody>\n",
       "    <tr>\n",
       "      <th>2021-03-07 00:00:00</th>\n",
       "      <td>94.166667</td>\n",
       "      <td>6.0</td>\n",
       "    </tr>\n",
       "    <tr>\n",
       "      <th>2021-03-07 00:30:00</th>\n",
       "      <td>90.875000</td>\n",
       "      <td>6.0</td>\n",
       "    </tr>\n",
       "    <tr>\n",
       "      <th>2021-03-07 01:00:00</th>\n",
       "      <td>89.000000</td>\n",
       "      <td>6.0</td>\n",
       "    </tr>\n",
       "    <tr>\n",
       "      <th>2021-03-07 01:30:00</th>\n",
       "      <td>92.000000</td>\n",
       "      <td>6.0</td>\n",
       "    </tr>\n",
       "    <tr>\n",
       "      <th>2021-03-07 02:00:00</th>\n",
       "      <td>77.857143</td>\n",
       "      <td>6.0</td>\n",
       "    </tr>\n",
       "    <tr>\n",
       "      <th>...</th>\n",
       "      <td>...</td>\n",
       "      <td>...</td>\n",
       "    </tr>\n",
       "    <tr>\n",
       "      <th>2022-05-08 21:30:00</th>\n",
       "      <td>70.600000</td>\n",
       "      <td>6.0</td>\n",
       "    </tr>\n",
       "    <tr>\n",
       "      <th>2022-05-08 22:00:00</th>\n",
       "      <td>65.000000</td>\n",
       "      <td>6.0</td>\n",
       "    </tr>\n",
       "    <tr>\n",
       "      <th>2022-05-08 22:30:00</th>\n",
       "      <td>69.500000</td>\n",
       "      <td>6.0</td>\n",
       "    </tr>\n",
       "    <tr>\n",
       "      <th>2022-05-08 23:00:00</th>\n",
       "      <td>68.000000</td>\n",
       "      <td>6.0</td>\n",
       "    </tr>\n",
       "    <tr>\n",
       "      <th>2022-05-08 23:30:00</th>\n",
       "      <td>55.000000</td>\n",
       "      <td>6.0</td>\n",
       "    </tr>\n",
       "  </tbody>\n",
       "</table>\n",
       "<p>20544 rows × 2 columns</p>\n",
       "</div>"
      ],
      "text/plain": [
       "                           bpm  day_of_week_in_number\n",
       "dt                                                   \n",
       "2021-03-07 00:00:00  94.166667                    6.0\n",
       "2021-03-07 00:30:00  90.875000                    6.0\n",
       "2021-03-07 01:00:00  89.000000                    6.0\n",
       "2021-03-07 01:30:00  92.000000                    6.0\n",
       "2021-03-07 02:00:00  77.857143                    6.0\n",
       "...                        ...                    ...\n",
       "2022-05-08 21:30:00  70.600000                    6.0\n",
       "2022-05-08 22:00:00  65.000000                    6.0\n",
       "2022-05-08 22:30:00  69.500000                    6.0\n",
       "2022-05-08 23:00:00  68.000000                    6.0\n",
       "2022-05-08 23:30:00  55.000000                    6.0\n",
       "\n",
       "[20544 rows x 2 columns]"
      ]
     },
     "execution_count": 8,
     "metadata": {},
     "output_type": "execute_result"
    }
   ],
   "source": [
    "df8"
   ]
  },
  {
   "cell_type": "markdown",
   "id": "44b52843",
   "metadata": {},
   "source": [
    "# from 7am to 9pm"
   ]
  },
  {
   "cell_type": "markdown",
   "id": "c088097f",
   "metadata": {},
   "source": [
    "# Wednesday"
   ]
  },
  {
   "cell_type": "code",
   "execution_count": 10,
   "id": "a6ba26f6",
   "metadata": {},
   "outputs": [
    {
     "data": {
      "text/plain": [
       "72.86989561928586"
      ]
     },
     "execution_count": 10,
     "metadata": {},
     "output_type": "execute_result"
    }
   ],
   "source": [
    "wednesday0 = df4.between_time('07:00',  '07:30')\n",
    "wednesday0.dropna()\n",
    "AVGdfwednesday0 = wednesday0['bpm'].mean()\n",
    "AVGdfwednesday0"
   ]
  },
  {
   "cell_type": "code",
   "execution_count": 11,
   "id": "c14ba71e",
   "metadata": {},
   "outputs": [
    {
     "data": {
      "text/plain": [
       "74.07402138985154"
      ]
     },
     "execution_count": 11,
     "metadata": {},
     "output_type": "execute_result"
    }
   ],
   "source": [
    "wednesday1 = df4.between_time('07:30',  '08:00')\n",
    "wednesday1.dropna()\n",
    "AVGdfwednesday1 = wednesday1['bpm'].mean()\n",
    "AVGdfwednesday1"
   ]
  },
  {
   "cell_type": "code",
   "execution_count": 12,
   "id": "fc5e4cf4",
   "metadata": {},
   "outputs": [
    {
     "data": {
      "text/plain": [
       "74.37788540505254"
      ]
     },
     "execution_count": 12,
     "metadata": {},
     "output_type": "execute_result"
    }
   ],
   "source": [
    "wednesday2 = df4.between_time('08:00',  '08:30')\n",
    "wednesday2.dropna()\n",
    "AVGdfwednesday2 = wednesday2['bpm'].mean()\n",
    "AVGdfwednesday2"
   ]
  },
  {
   "cell_type": "code",
   "execution_count": 13,
   "id": "26c490bb",
   "metadata": {},
   "outputs": [
    {
     "data": {
      "text/plain": [
       "76.06596810922413"
      ]
     },
     "execution_count": 13,
     "metadata": {},
     "output_type": "execute_result"
    }
   ],
   "source": [
    "wednesday3 = df4.between_time('08:30',  '09:00')\n",
    "wednesday3.dropna()\n",
    "AVGdfwednesday3 = wednesday3['bpm'].mean()\n",
    "AVGdfwednesday3"
   ]
  },
  {
   "cell_type": "code",
   "execution_count": 14,
   "id": "71a0ce32",
   "metadata": {},
   "outputs": [
    {
     "data": {
      "text/plain": [
       "76.89479771821473"
      ]
     },
     "execution_count": 14,
     "metadata": {},
     "output_type": "execute_result"
    }
   ],
   "source": [
    "wednesday4 = df4.between_time('09:00',  '09:30')\n",
    "wednesday4.dropna()\n",
    "AVGdfwednesday4 = wednesday4['bpm'].mean()\n",
    "AVGdfwednesday4"
   ]
  },
  {
   "cell_type": "code",
   "execution_count": 15,
   "id": "566bf442",
   "metadata": {},
   "outputs": [
    {
     "data": {
      "text/plain": [
       "77.10082742863831"
      ]
     },
     "execution_count": 15,
     "metadata": {},
     "output_type": "execute_result"
    }
   ],
   "source": [
    "wednesday5= df4.between_time('09:30',  '10:00')\n",
    "wednesday5.dropna()\n",
    "AVGdfwednesday5 = wednesday5['bpm'].mean()\n",
    "AVGdfwednesday5"
   ]
  },
  {
   "cell_type": "code",
   "execution_count": 16,
   "id": "63fe9c12",
   "metadata": {},
   "outputs": [
    {
     "data": {
      "text/plain": [
       "77.47357656953625"
      ]
     },
     "execution_count": 16,
     "metadata": {},
     "output_type": "execute_result"
    }
   ],
   "source": [
    "wednesday6= df4.between_time('10:00',  '10:30')\n",
    "wednesday6.dropna()\n",
    "AVGdfwednesday6 = wednesday6['bpm'].mean()\n",
    "AVGdfwednesday6"
   ]
  },
  {
   "cell_type": "code",
   "execution_count": 17,
   "id": "cf25542e",
   "metadata": {},
   "outputs": [
    {
     "data": {
      "text/plain": [
       "75.60840396575611"
      ]
     },
     "execution_count": 17,
     "metadata": {},
     "output_type": "execute_result"
    }
   ],
   "source": [
    "wednesday7= df4.between_time('10:30',  '11:00')\n",
    "wednesday7.dropna()\n",
    "AVGdfwednesday7 = wednesday7['bpm'].mean()\n",
    "AVGdfwednesday7"
   ]
  },
  {
   "cell_type": "code",
   "execution_count": 19,
   "id": "daac3814",
   "metadata": {},
   "outputs": [
    {
     "data": {
      "text/plain": [
       "73.73913560892142"
      ]
     },
     "execution_count": 19,
     "metadata": {},
     "output_type": "execute_result"
    }
   ],
   "source": [
    "wednesday8 = df4.between_time('11:00',  '11:30')\n",
    "wednesday8.dropna()\n",
    "AVGdfwednesday8 = wednesday8['bpm'].mean()\n",
    "AVGdfwednesday8"
   ]
  },
  {
   "cell_type": "code",
   "execution_count": 20,
   "id": "f5792918",
   "metadata": {},
   "outputs": [
    {
     "data": {
      "text/plain": [
       "73.80471161008204"
      ]
     },
     "execution_count": 20,
     "metadata": {},
     "output_type": "execute_result"
    }
   ],
   "source": [
    "wednesday9 = df4.between_time('11:30',  '12:00')\n",
    "wednesday9.dropna()\n",
    "AVGdfwednesday9 = wednesday9['bpm'].mean()\n",
    "AVGdfwednesday9"
   ]
  },
  {
   "cell_type": "code",
   "execution_count": 21,
   "id": "3c6cdcf6",
   "metadata": {},
   "outputs": [
    {
     "data": {
      "text/plain": [
       "77.49439208134915"
      ]
     },
     "execution_count": 21,
     "metadata": {},
     "output_type": "execute_result"
    }
   ],
   "source": [
    "wednesday10 = df4.between_time('12:00',  '12:30')\n",
    "wednesday10.dropna()\n",
    "AVGdfwednesday10 = wednesday10['bpm'].mean()\n",
    "AVGdfwednesday10"
   ]
  },
  {
   "cell_type": "code",
   "execution_count": 22,
   "id": "093f9e8c",
   "metadata": {},
   "outputs": [
    {
     "data": {
      "text/plain": [
       "79.73522689913224"
      ]
     },
     "execution_count": 22,
     "metadata": {},
     "output_type": "execute_result"
    }
   ],
   "source": [
    "wednesday11 = df4.between_time('12:30',  '13:00')\n",
    "wednesday11.dropna()\n",
    "AVGdfwednesday11 = wednesday11['bpm'].mean()\n",
    "AVGdfwednesday11"
   ]
  },
  {
   "cell_type": "code",
   "execution_count": 23,
   "id": "55c391bf",
   "metadata": {},
   "outputs": [
    {
     "data": {
      "text/plain": [
       "77.79815218479915"
      ]
     },
     "execution_count": 23,
     "metadata": {},
     "output_type": "execute_result"
    }
   ],
   "source": [
    "wednesday12 = df4.between_time('13:00',  '13:30')\n",
    "wednesday12.dropna()\n",
    "AVGdfwednesday12 = wednesday12['bpm'].mean()\n",
    "AVGdfwednesday12"
   ]
  },
  {
   "cell_type": "code",
   "execution_count": 24,
   "id": "3732da98",
   "metadata": {},
   "outputs": [
    {
     "data": {
      "text/plain": [
       "74.711265863799"
      ]
     },
     "execution_count": 24,
     "metadata": {},
     "output_type": "execute_result"
    }
   ],
   "source": [
    "wednesday13 = df4.between_time('13:30',  '14:00')\n",
    "wednesday13.dropna()\n",
    "AVGdfwednesday13 = wednesday13['bpm'].mean()\n",
    "AVGdfwednesday13"
   ]
  },
  {
   "cell_type": "code",
   "execution_count": 25,
   "id": "2b2e93ef",
   "metadata": {},
   "outputs": [
    {
     "data": {
      "text/plain": [
       "73.70601747069537"
      ]
     },
     "execution_count": 25,
     "metadata": {},
     "output_type": "execute_result"
    }
   ],
   "source": [
    "wednesday14 = df4.between_time('14:00',  '14:30')\n",
    "wednesday14.dropna()\n",
    "AVGdfwednesday14 = wednesday14['bpm'].mean()\n",
    "AVGdfwednesday14"
   ]
  },
  {
   "cell_type": "code",
   "execution_count": 26,
   "id": "1d56f180",
   "metadata": {},
   "outputs": [
    {
     "data": {
      "text/plain": [
       "74.72931411785527"
      ]
     },
     "execution_count": 26,
     "metadata": {},
     "output_type": "execute_result"
    }
   ],
   "source": [
    "wednesday15 = df4.between_time('14:30',  '15:00')\n",
    "wednesday15.dropna()\n",
    "AVGdfwednesday15 = wednesday15['bpm'].mean()\n",
    "AVGdfwednesday15"
   ]
  },
  {
   "cell_type": "code",
   "execution_count": 27,
   "id": "8fab2fac",
   "metadata": {},
   "outputs": [
    {
     "data": {
      "text/plain": [
       "75.59108835611538"
      ]
     },
     "execution_count": 27,
     "metadata": {},
     "output_type": "execute_result"
    }
   ],
   "source": [
    "wednesday16 = df4.between_time('15:00',  '15:30')\n",
    "wednesday16.dropna()\n",
    "AVGdfwednesday16 = wednesday16['bpm'].mean()\n",
    "AVGdfwednesday16"
   ]
  },
  {
   "cell_type": "code",
   "execution_count": 28,
   "id": "337cd763",
   "metadata": {},
   "outputs": [
    {
     "data": {
      "text/plain": [
       "73.2581936733229"
      ]
     },
     "execution_count": 28,
     "metadata": {},
     "output_type": "execute_result"
    }
   ],
   "source": [
    "wednesday17 = df4.between_time('15:30',  '16:00')\n",
    "wednesday17.dropna()\n",
    "AVGdfwednesday17 = wednesday17['bpm'].mean()\n",
    "AVGdfwednesday17"
   ]
  },
  {
   "cell_type": "code",
   "execution_count": 29,
   "id": "a604fbf5",
   "metadata": {},
   "outputs": [
    {
     "data": {
      "text/plain": [
       "73.89189875140744"
      ]
     },
     "execution_count": 29,
     "metadata": {},
     "output_type": "execute_result"
    }
   ],
   "source": [
    "wednesday18 = df4.between_time('16:00',  '16:30')\n",
    "wednesday18.dropna()\n",
    "AVGdfwednesday18 = wednesday18['bpm'].mean()\n",
    "AVGdfwednesday18"
   ]
  },
  {
   "cell_type": "code",
   "execution_count": 30,
   "id": "fc89a494",
   "metadata": {},
   "outputs": [
    {
     "data": {
      "text/plain": [
       "77.74919683162163"
      ]
     },
     "execution_count": 30,
     "metadata": {},
     "output_type": "execute_result"
    }
   ],
   "source": [
    "wednesday19 = df4.between_time('16:30',  '17:00')\n",
    "wednesday19.dropna()\n",
    "AVGdfwednesday19 = wednesday19['bpm'].mean()\n",
    "AVGdfwednesday19"
   ]
  },
  {
   "cell_type": "code",
   "execution_count": 31,
   "id": "1168cd77",
   "metadata": {},
   "outputs": [
    {
     "data": {
      "text/plain": [
       "77.13655001299126"
      ]
     },
     "execution_count": 31,
     "metadata": {},
     "output_type": "execute_result"
    }
   ],
   "source": [
    "wednesday20 = df4.between_time('17:00',  '17:30')\n",
    "wednesday20.dropna()\n",
    "AVGdfwednesday20 = wednesday20['bpm'].mean()\n",
    "AVGdfwednesday20"
   ]
  },
  {
   "cell_type": "code",
   "execution_count": 32,
   "id": "0454e683",
   "metadata": {},
   "outputs": [
    {
     "data": {
      "text/plain": [
       "76.31485547591197"
      ]
     },
     "execution_count": 32,
     "metadata": {},
     "output_type": "execute_result"
    }
   ],
   "source": [
    "wednesday21 = df4.between_time('17:30',  '18:00')\n",
    "wednesday21.dropna()\n",
    "AVGdfwednesday21 = wednesday21['bpm'].mean()\n",
    "AVGdfwednesday21"
   ]
  },
  {
   "cell_type": "code",
   "execution_count": 33,
   "id": "af65d0f7",
   "metadata": {},
   "outputs": [
    {
     "data": {
      "text/plain": [
       "79.20310793106692"
      ]
     },
     "execution_count": 33,
     "metadata": {},
     "output_type": "execute_result"
    }
   ],
   "source": [
    "wednesday22 = df4.between_time('18:00',  '18:30')\n",
    "wednesday22.dropna()\n",
    "AVGdfwednesday22 = wednesday22['bpm'].mean()\n",
    "AVGdfwednesday22"
   ]
  },
  {
   "cell_type": "code",
   "execution_count": 34,
   "id": "67572d9b",
   "metadata": {},
   "outputs": [
    {
     "data": {
      "text/plain": [
       "80.83297550256073"
      ]
     },
     "execution_count": 34,
     "metadata": {},
     "output_type": "execute_result"
    }
   ],
   "source": [
    "wednesday23 = df4.between_time('18:30',  '19:00')\n",
    "wednesday23.dropna()\n",
    "AVGdfwednesday23 = wednesday23['bpm'].mean()\n",
    "AVGdfwednesday23"
   ]
  },
  {
   "cell_type": "code",
   "execution_count": 35,
   "id": "413f2799",
   "metadata": {},
   "outputs": [
    {
     "data": {
      "text/plain": [
       "79.91579331891974"
      ]
     },
     "execution_count": 35,
     "metadata": {},
     "output_type": "execute_result"
    }
   ],
   "source": [
    "wednesday24 = df4.between_time('19:00',  '19:30')\n",
    "wednesday24.dropna()\n",
    "AVGdfwednesday24 = wednesday24['bpm'].mean()\n",
    "AVGdfwednesday24"
   ]
  },
  {
   "cell_type": "code",
   "execution_count": 36,
   "id": "5d0e0f93",
   "metadata": {},
   "outputs": [
    {
     "data": {
      "text/plain": [
       "78.90302860221703"
      ]
     },
     "execution_count": 36,
     "metadata": {},
     "output_type": "execute_result"
    }
   ],
   "source": [
    "wednesday25 = df4.between_time('19:30',  '20:00')\n",
    "wednesday25.dropna()\n",
    "AVGdfwednesday25 = wednesday25['bpm'].mean()\n",
    "AVGdfwednesday25"
   ]
  },
  {
   "cell_type": "code",
   "execution_count": 37,
   "id": "071db0fd",
   "metadata": {},
   "outputs": [
    {
     "data": {
      "text/plain": [
       "77.3273979293872"
      ]
     },
     "execution_count": 37,
     "metadata": {},
     "output_type": "execute_result"
    }
   ],
   "source": [
    "wednesday26 = df4.between_time('20:00',  '20:30')\n",
    "wednesday26.dropna()\n",
    "AVGdfwednesday26 = wednesday26['bpm'].mean()\n",
    "AVGdfwednesday26"
   ]
  },
  {
   "cell_type": "code",
   "execution_count": 38,
   "id": "7c368040",
   "metadata": {},
   "outputs": [
    {
     "data": {
      "text/plain": [
       "75.92227457344438"
      ]
     },
     "execution_count": 38,
     "metadata": {},
     "output_type": "execute_result"
    }
   ],
   "source": [
    "wednesday27 = df4.between_time('20:30',  '21:00')\n",
    "wednesday27.dropna()\n",
    "AVGdfwednesday27 = wednesday27['bpm'].mean()\n",
    "AVGdfwednesday27"
   ]
  },
  {
   "cell_type": "markdown",
   "id": "89963fe9",
   "metadata": {},
   "source": [
    "# Tuesday"
   ]
  },
  {
   "cell_type": "code",
   "execution_count": 39,
   "id": "efcd1799",
   "metadata": {},
   "outputs": [
    {
     "data": {
      "text/plain": [
       "79.88082129353843"
      ]
     },
     "execution_count": 39,
     "metadata": {},
     "output_type": "execute_result"
    }
   ],
   "source": [
    "tuesday0 = df3.between_time('07:00',  '07:30')\n",
    "tuesday0.dropna()\n",
    "AVGdftuesday0 = tuesday0['bpm'].mean()\n",
    "AVGdftuesday0\n",
    "\n",
    "tuesday1 = df3.between_time('07:30',  '08:00')\n",
    "tuesday1.dropna()\n",
    "AVGdftuesday1 = tuesday1['bpm'].mean()\n",
    "AVGdftuesday1\n",
    "\n",
    "tuesday2 = df3.between_time('08:00',  '08:30')\n",
    "tuesday2.dropna()\n",
    "AVGdftuesday2 = tuesday2['bpm'].mean()\n",
    "AVGdftuesday2\n",
    "\n",
    "tuesday3 = df3.between_time('08:30',  '09:00')\n",
    "tuesday3.dropna()\n",
    "AVGdftuesday3 = tuesday3['bpm'].mean()\n",
    "AVGdftuesday3\n",
    "\n",
    "tuesday4 = df3.between_time('09:00',  '09:30')\n",
    "tuesday4.dropna()\n",
    "AVGdftuesday4 = tuesday4['bpm'].mean()\n",
    "AVGdftuesday4\n",
    "\n",
    "tuesday5= df3.between_time('09:30',  '10:00')\n",
    "tuesday5.dropna()\n",
    "AVGdftuesday5 = tuesday5['bpm'].mean()\n",
    "AVGdftuesday5\n",
    "\n",
    "tuesday6= df3.between_time('10:00',  '10:30')\n",
    "tuesday6.dropna()\n",
    "AVGdftuesday6 = tuesday6['bpm'].mean()\n",
    "AVGdftuesday6\n",
    "\n",
    "tuesday7= df3.between_time('10:30',  '11:00')\n",
    "tuesday7.dropna()\n",
    "AVGdftuesday7 = tuesday7['bpm'].mean()\n",
    "AVGdftuesday7\n",
    "\n",
    "tuesday8 = df3.between_time('11:00',  '11:30')\n",
    "tuesday8.dropna()\n",
    "AVGdftuesday8 = tuesday8['bpm'].mean()\n",
    "AVGdftuesday8\n",
    "\n",
    "tuesday9 = df3.between_time('11:30',  '12:00')\n",
    "tuesday9.dropna()\n",
    "AVGdftuesday9 = tuesday9['bpm'].mean()\n",
    "AVGdftuesday9\n",
    "\n",
    "tuesday10 = df3.between_time('12:00',  '12:30')\n",
    "tuesday10.dropna()\n",
    "AVGdftuesday10 = tuesday10['bpm'].mean()\n",
    "AVGdftuesday10\n",
    "\n",
    "tuesday11 = df3.between_time('12:30',  '13:00')\n",
    "tuesday11.dropna()\n",
    "AVGdftuesday11 = tuesday11['bpm'].mean()\n",
    "AVGdftuesday11\n",
    "\n",
    "tuesday12 = df3.between_time('13:00',  '13:30')\n",
    "tuesday12.dropna()\n",
    "AVGdftuesday12 = tuesday12['bpm'].mean()\n",
    "AVGdftuesday12\n",
    "\n",
    "tuesday13 = df3.between_time('13:30',  '14:00')\n",
    "tuesday13.dropna()\n",
    "AVGdftuesday13 = tuesday13['bpm'].mean()\n",
    "AVGdftuesday13\n",
    "\n",
    "tuesday14 = df3.between_time('14:00',  '14:30')\n",
    "tuesday14.dropna()\n",
    "AVGdftuesday14 = tuesday14['bpm'].mean()\n",
    "AVGdftuesday14\n",
    "\n",
    "tuesday15 = df3.between_time('14:30',  '15:00')\n",
    "tuesday15.dropna()\n",
    "AVGdftuesday15 = tuesday15['bpm'].mean()\n",
    "AVGdftuesday15\n",
    "\n",
    "tuesday16 = df3.between_time('15:00',  '15:30')\n",
    "tuesday16.dropna()\n",
    "AVGdftuesday16 = tuesday16['bpm'].mean()\n",
    "AVGdftuesday16\n",
    "\n",
    "tuesday17 = df3.between_time('15:30',  '16:00')\n",
    "tuesday17.dropna()\n",
    "AVGdftuesday17 = tuesday17['bpm'].mean()\n",
    "AVGdftuesday17\n",
    "\n",
    "tuesday18 = df3.between_time('16:00',  '16:30')\n",
    "tuesday18.dropna()\n",
    "AVGdftuesday18 = tuesday18['bpm'].mean()\n",
    "AVGdftuesday18\n",
    "\n",
    "tuesday19 = df3.between_time('16:30',  '17:00')\n",
    "tuesday19.dropna()\n",
    "AVGdftuesday19 = tuesday19['bpm'].mean()\n",
    "AVGdftuesday19\n",
    "\n",
    "\n",
    "tuesday20 = df3.between_time('17:00',  '17:30')\n",
    "tuesday20.dropna()\n",
    "AVGdftuesday20 = tuesday20['bpm'].mean()\n",
    "AVGdftuesday20\n",
    "\n",
    "tuesday21 = df3.between_time('17:30',  '18:00')\n",
    "tuesday21.dropna()\n",
    "AVGdftuesday21 = tuesday21['bpm'].mean()\n",
    "AVGdftuesday21\n",
    "\n",
    "tuesday22 = df3.between_time('18:00',  '18:30')\n",
    "tuesday22.dropna()\n",
    "AVGdftuesday22 = tuesday22['bpm'].mean()\n",
    "AVGdftuesday22\n",
    "\n",
    "tuesday23 = df3.between_time('18:30',  '19:00')\n",
    "tuesday23.dropna()\n",
    "AVGdftuesday23 = tuesday23['bpm'].mean()\n",
    "AVGdftuesday23\n",
    "\n",
    "tuesday24 = df3.between_time('19:00',  '19:30')\n",
    "tuesday24.dropna()\n",
    "AVGdftuesday24 = tuesday24['bpm'].mean()\n",
    "AVGdftuesday24\n",
    "\n",
    "tuesday25 = df3.between_time('19:30',  '20:00')\n",
    "tuesday25.dropna()\n",
    "AVGdftuesday25 = tuesday25['bpm'].mean()\n",
    "AVGdftuesday25\n",
    "\n",
    "tuesday26 = df3.between_time('20:00',  '20:30')\n",
    "tuesday26.dropna()\n",
    "AVGdftuesday26 = tuesday26['bpm'].mean()\n",
    "AVGdftuesday26\n",
    "\n",
    "tuesday27 = df3.between_time('20:30',  '21:00')\n",
    "tuesday27.dropna()\n",
    "AVGdftuesday27 = tuesday27['bpm'].mean()\n",
    "AVGdftuesday27"
   ]
  },
  {
   "cell_type": "markdown",
   "id": "db6768c7",
   "metadata": {},
   "source": [
    "# Monday "
   ]
  },
  {
   "cell_type": "code",
   "execution_count": 40,
   "id": "aa9e4cd0",
   "metadata": {},
   "outputs": [
    {
     "data": {
      "text/plain": [
       "75.34266003161353"
      ]
     },
     "execution_count": 40,
     "metadata": {},
     "output_type": "execute_result"
    }
   ],
   "source": [
    "monday25 = df2.between_time('07:00',  '07:30')\n",
    "monday25.dropna()\n",
    "AVGdfmonday25 = monday25['bpm'].mean()\n",
    "AVGdfmonday25"
   ]
  },
  {
   "cell_type": "code",
   "execution_count": 41,
   "id": "e7591dc2",
   "metadata": {},
   "outputs": [
    {
     "data": {
      "text/plain": [
       "75.19042028356907"
      ]
     },
     "execution_count": 41,
     "metadata": {},
     "output_type": "execute_result"
    }
   ],
   "source": [
    "monday0 = df2.between_time('07:30',  '08:00')\n",
    "monday0.dropna()\n",
    "AVGdfmonday0 = monday0['bpm'].mean()\n",
    "AVGdfmonday0"
   ]
  },
  {
   "cell_type": "code",
   "execution_count": 42,
   "id": "0b755f16",
   "metadata": {},
   "outputs": [
    {
     "data": {
      "text/plain": [
       "75.31691318358605"
      ]
     },
     "execution_count": 42,
     "metadata": {},
     "output_type": "execute_result"
    }
   ],
   "source": [
    "monday830 = df2.between_time('08:00',  '08:30')\n",
    "monday830.dropna()\n",
    "AVGdfmonday830 = monday830['bpm'].mean()\n",
    "AVGdfmonday830"
   ]
  },
  {
   "cell_type": "code",
   "execution_count": 43,
   "id": "0b8de758",
   "metadata": {},
   "outputs": [
    {
     "data": {
      "text/plain": [
       "79.38868798326224"
      ]
     },
     "execution_count": 43,
     "metadata": {},
     "output_type": "execute_result"
    }
   ],
   "source": [
    "monday8309 = df2.between_time('08:30',  '09:00')\n",
    "monday8309.dropna()\n",
    "AVGdfmonday8309 = monday8309['bpm'].mean()\n",
    "AVGdfmonday8309"
   ]
  },
  {
   "cell_type": "code",
   "execution_count": 44,
   "id": "4dd9dc8e",
   "metadata": {},
   "outputs": [
    {
     "data": {
      "text/plain": [
       "79.29430468025186"
      ]
     },
     "execution_count": 44,
     "metadata": {},
     "output_type": "execute_result"
    }
   ],
   "source": [
    "monday930 = df2.between_time('09:00',  '09:30')\n",
    "monday930.dropna()\n",
    "AVGdfmonday930 = monday930['bpm'].mean()\n",
    "AVGdfmonday930"
   ]
  },
  {
   "cell_type": "code",
   "execution_count": 45,
   "id": "b6d0688c",
   "metadata": {},
   "outputs": [
    {
     "data": {
      "text/plain": [
       "75.57384180137025"
      ]
     },
     "execution_count": 45,
     "metadata": {},
     "output_type": "execute_result"
    }
   ],
   "source": [
    "monday9301 = df2.between_time('09:30',  '10:00')\n",
    "monday9301.dropna()\n",
    "AVGdfmonday9301 = monday9301['bpm'].mean()\n",
    "AVGdfmonday9301"
   ]
  },
  {
   "cell_type": "code",
   "execution_count": 46,
   "id": "54bd827d",
   "metadata": {},
   "outputs": [
    {
     "data": {
      "text/plain": [
       "73.64770940776351"
      ]
     },
     "execution_count": 46,
     "metadata": {},
     "output_type": "execute_result"
    }
   ],
   "source": [
    "monday1030 = df2.between_time('10:00',  '10:30')\n",
    "monday1030.dropna()\n",
    "AVGdfmonday1030 = monday1030['bpm'].mean()\n",
    "AVGdfmonday1030"
   ]
  },
  {
   "cell_type": "code",
   "execution_count": 47,
   "id": "1564245c",
   "metadata": {},
   "outputs": [
    {
     "data": {
      "text/plain": [
       "72.92338318949166"
      ]
     },
     "execution_count": 47,
     "metadata": {},
     "output_type": "execute_result"
    }
   ],
   "source": [
    "monday103011 = df2.between_time('10:30',  '11:00')\n",
    "monday103011.dropna()\n",
    "AVGdfmonday103011 = monday103011['bpm'].mean()\n",
    "AVGdfmonday103011"
   ]
  },
  {
   "cell_type": "code",
   "execution_count": 48,
   "id": "62dd7040",
   "metadata": {},
   "outputs": [
    {
     "data": {
      "text/plain": [
       "72.06497410050821"
      ]
     },
     "execution_count": 48,
     "metadata": {},
     "output_type": "execute_result"
    }
   ],
   "source": [
    "monday1130 = df2.between_time('11:00',  '11:30')\n",
    "monday1130.dropna()\n",
    "AVGdfmonday1130 = monday1130['bpm'].mean()\n",
    "AVGdfmonday1130"
   ]
  },
  {
   "cell_type": "code",
   "execution_count": 49,
   "id": "340295ae",
   "metadata": {},
   "outputs": [
    {
     "data": {
      "text/plain": [
       "72.24607186101358"
      ]
     },
     "execution_count": 49,
     "metadata": {},
     "output_type": "execute_result"
    }
   ],
   "source": [
    "monday113012 = df2.between_time('11:30','12:00')\n",
    "monday113012.dropna()\n",
    "AVGdfmonday113012 = monday113012['bpm'].mean()\n",
    "AVGdfmonday113012"
   ]
  },
  {
   "cell_type": "code",
   "execution_count": 50,
   "id": "ae9a0c0c",
   "metadata": {},
   "outputs": [
    {
     "data": {
      "text/plain": [
       "75.18685423155956"
      ]
     },
     "execution_count": 50,
     "metadata": {},
     "output_type": "execute_result"
    }
   ],
   "source": [
    "dfmonday1230 = df2.between_time('12:00','12:30')\n",
    "dfmonday1230.dropna()\n",
    "AVGdfmonday1230 = dfmonday1230['bpm'].mean()\n",
    "AVGdfmonday1230"
   ]
  },
  {
   "cell_type": "code",
   "execution_count": 51,
   "id": "76e78ccd",
   "metadata": {},
   "outputs": [
    {
     "data": {
      "text/plain": [
       "76.13330994798916"
      ]
     },
     "execution_count": 51,
     "metadata": {},
     "output_type": "execute_result"
    }
   ],
   "source": [
    "dfmonday10 = df2.between_time('12:30','13:00')\n",
    "dfmonday10.dropna()\n",
    "AVGdfmonday10 = dfmonday10['bpm'].mean()\n",
    "AVGdfmonday10"
   ]
  },
  {
   "cell_type": "code",
   "execution_count": 52,
   "id": "9a7659fd",
   "metadata": {},
   "outputs": [
    {
     "data": {
      "text/plain": [
       "73.83519064483662"
      ]
     },
     "execution_count": 52,
     "metadata": {},
     "output_type": "execute_result"
    }
   ],
   "source": [
    "dfmonday11 = df2.between_time('13:00','13:30')\n",
    "dfmonday11.dropna()\n",
    "AVGdfmonday11 = dfmonday11['bpm'].mean()\n",
    "AVGdfmonday11"
   ]
  },
  {
   "cell_type": "code",
   "execution_count": 53,
   "id": "a8dd35b8",
   "metadata": {},
   "outputs": [
    {
     "data": {
      "text/plain": [
       "74.5307184835743"
      ]
     },
     "execution_count": 53,
     "metadata": {},
     "output_type": "execute_result"
    }
   ],
   "source": [
    "dfmonday12 = df2.between_time('13:30','14:00')\n",
    "dfmonday12.dropna()\n",
    "AVGdfmonday12 = dfmonday12['bpm'].mean()\n",
    "AVGdfmonday12"
   ]
  },
  {
   "cell_type": "code",
   "execution_count": 54,
   "id": "1d67c0dd",
   "metadata": {},
   "outputs": [
    {
     "data": {
      "text/plain": [
       "77.74071206341239"
      ]
     },
     "execution_count": 54,
     "metadata": {},
     "output_type": "execute_result"
    }
   ],
   "source": [
    "dfmonday13 = df2.between_time('14:00','14:30')\n",
    "dfmonday13.dropna()\n",
    "AVGdfmonday13 = dfmonday13['bpm'].mean()\n",
    "AVGdfmonday13"
   ]
  },
  {
   "cell_type": "code",
   "execution_count": 55,
   "id": "09d89877",
   "metadata": {},
   "outputs": [
    {
     "data": {
      "text/plain": [
       "78.61767234506402"
      ]
     },
     "execution_count": 55,
     "metadata": {},
     "output_type": "execute_result"
    }
   ],
   "source": [
    "dfmonday14 = df2.between_time('14:30','15:00')\n",
    "dfmonday14.dropna()\n",
    "AVGdfmonday14 = dfmonday14['bpm'].mean()\n",
    "AVGdfmonday14"
   ]
  },
  {
   "cell_type": "code",
   "execution_count": 56,
   "id": "230106dd",
   "metadata": {},
   "outputs": [
    {
     "data": {
      "text/plain": [
       "78.70506295091589"
      ]
     },
     "execution_count": 56,
     "metadata": {},
     "output_type": "execute_result"
    }
   ],
   "source": [
    "dfmonday15 = df2.between_time('15:00','15:30')\n",
    "dfmonday15.dropna()\n",
    "AVGdfmonday15 = dfmonday15['bpm'].mean()\n",
    "AVGdfmonday15"
   ]
  },
  {
   "cell_type": "code",
   "execution_count": 57,
   "id": "c9f4a8de",
   "metadata": {},
   "outputs": [
    {
     "data": {
      "text/plain": [
       "78.66156431042364"
      ]
     },
     "execution_count": 57,
     "metadata": {},
     "output_type": "execute_result"
    }
   ],
   "source": [
    "dfmonday16 = df2.between_time('15:30','16:00')\n",
    "dfmonday16.dropna()\n",
    "AVGdfmonday16 = dfmonday16['bpm'].mean()\n",
    "AVGdfmonday16"
   ]
  },
  {
   "cell_type": "code",
   "execution_count": 58,
   "id": "c699ce5b",
   "metadata": {},
   "outputs": [
    {
     "data": {
      "text/plain": [
       "79.84822609213089"
      ]
     },
     "execution_count": 58,
     "metadata": {},
     "output_type": "execute_result"
    }
   ],
   "source": [
    "dfmonday17 = df2.between_time('16:00','16:30')\n",
    "dfmonday17.dropna()\n",
    "AVGdfmonday17 = dfmonday17['bpm'].mean()\n",
    "AVGdfmonday17"
   ]
  },
  {
   "cell_type": "code",
   "execution_count": 59,
   "id": "132f684f",
   "metadata": {},
   "outputs": [
    {
     "data": {
      "text/plain": [
       "80.30257992260476"
      ]
     },
     "execution_count": 59,
     "metadata": {},
     "output_type": "execute_result"
    }
   ],
   "source": [
    "dfmonday18 = df2.between_time('16:30','17:00')\n",
    "dfmonday18.dropna()\n",
    "AVGdfmonday18 = dfmonday18['bpm'].mean()\n",
    "AVGdfmonday18"
   ]
  },
  {
   "cell_type": "code",
   "execution_count": 60,
   "id": "a37cabb5",
   "metadata": {},
   "outputs": [
    {
     "data": {
      "text/plain": [
       "78.18863848099143"
      ]
     },
     "execution_count": 60,
     "metadata": {},
     "output_type": "execute_result"
    }
   ],
   "source": [
    "dfmonday19 = df2.between_time('17:00','17:30')\n",
    "dfmonday19.dropna()\n",
    "AVGdfmonday19 = dfmonday19['bpm'].mean()\n",
    "AVGdfmonday19"
   ]
  },
  {
   "cell_type": "code",
   "execution_count": 61,
   "id": "b9fcfc7f",
   "metadata": {},
   "outputs": [
    {
     "data": {
      "text/plain": [
       "76.25619880089947"
      ]
     },
     "execution_count": 61,
     "metadata": {},
     "output_type": "execute_result"
    }
   ],
   "source": [
    "dfmonday20 = df2.between_time('17:30','18:00')\n",
    "dfmonday20.dropna()\n",
    "AVGdfmonday20 = dfmonday20['bpm'].mean()\n",
    "AVGdfmonday20"
   ]
  },
  {
   "cell_type": "code",
   "execution_count": 62,
   "id": "d7200cf4",
   "metadata": {},
   "outputs": [
    {
     "data": {
      "text/plain": [
       "76.74110624996045"
      ]
     },
     "execution_count": 62,
     "metadata": {},
     "output_type": "execute_result"
    }
   ],
   "source": [
    "dfmonday21 = df2.between_time('18:00','18:30')\n",
    "dfmonday21.dropna()\n",
    "AVGdfmonday21 = dfmonday21['bpm'].mean()\n",
    "AVGdfmonday21"
   ]
  },
  {
   "cell_type": "code",
   "execution_count": 63,
   "id": "5f877436",
   "metadata": {},
   "outputs": [
    {
     "data": {
      "text/plain": [
       "76.45978684625129"
      ]
     },
     "execution_count": 63,
     "metadata": {},
     "output_type": "execute_result"
    }
   ],
   "source": [
    "dfmonday22 = df2.between_time('18:30','19:00')\n",
    "dfmonday22.dropna()\n",
    "AVGdfmonday22 = dfmonday22['bpm'].mean()\n",
    "AVGdfmonday22"
   ]
  },
  {
   "cell_type": "code",
   "execution_count": 64,
   "id": "280fd57a",
   "metadata": {},
   "outputs": [
    {
     "data": {
      "text/plain": [
       "74.97144791263703"
      ]
     },
     "execution_count": 64,
     "metadata": {},
     "output_type": "execute_result"
    }
   ],
   "source": [
    "dfmonday23 = df2.between_time('19:00','19:30')\n",
    "dfmonday23.dropna()\n",
    "AVGdfmonday23 = dfmonday23['bpm'].mean()\n",
    "AVGdfmonday23"
   ]
  },
  {
   "cell_type": "code",
   "execution_count": 65,
   "id": "ae05f3b4",
   "metadata": {},
   "outputs": [
    {
     "data": {
      "text/plain": [
       "77.39014759982837"
      ]
     },
     "execution_count": 65,
     "metadata": {},
     "output_type": "execute_result"
    }
   ],
   "source": [
    "dfmonday24 = df2.between_time('19:30','20:00')\n",
    "dfmonday24.dropna()\n",
    "AVGdfmonday24 = dfmonday24['bpm'].mean()\n",
    "AVGdfmonday24"
   ]
  },
  {
   "cell_type": "code",
   "execution_count": 66,
   "id": "6f758f32",
   "metadata": {},
   "outputs": [
    {
     "data": {
      "text/plain": [
       "76.95318623521466"
      ]
     },
     "execution_count": 66,
     "metadata": {},
     "output_type": "execute_result"
    }
   ],
   "source": [
    "dfmonday25 = df2.between_time('20:00','20:30')\n",
    "dfmonday25.dropna()\n",
    "AVGdfmonday25 = dfmonday25['bpm'].mean()\n",
    "AVGdfmonday25"
   ]
  },
  {
   "cell_type": "code",
   "execution_count": 67,
   "id": "b0d5979d",
   "metadata": {},
   "outputs": [
    {
     "data": {
      "text/plain": [
       "74.93073268602481"
      ]
     },
     "execution_count": 67,
     "metadata": {},
     "output_type": "execute_result"
    }
   ],
   "source": [
    "dfmonday26 = df2.between_time('20:30','21:00')\n",
    "dfmonday26.dropna()\n",
    "AVGdfmonday26 = dfmonday26['bpm'].mean()\n",
    "AVGdfmonday26"
   ]
  },
  {
   "cell_type": "markdown",
   "id": "980f3e9f",
   "metadata": {},
   "source": [
    "time to find a way to build a for loop"
   ]
  },
  {
   "cell_type": "code",
   "execution_count": 68,
   "id": "e0288f06",
   "metadata": {},
   "outputs": [],
   "source": [
    "import datetime\n",
    "from datetime import timedelta"
   ]
  },
  {
   "cell_type": "code",
   "execution_count": 69,
   "id": "78eb553a",
   "metadata": {},
   "outputs": [
    {
     "name": "stdout",
     "output_type": "stream",
     "text": [
      "07:00:00\n",
      "time: 07:00:00\n"
     ]
    }
   ],
   "source": [
    "dep_time = datetime.time(hour = 7,minute = 0 )\n",
    "print(dep_time)\n",
    "\n",
    "time = dep_time.strftime(\"%H:%M:%S\")\n",
    "print(\"time:\", time)"
   ]
  },
  {
   "cell_type": "markdown",
   "id": "4db5c943",
   "metadata": {},
   "source": [
    "# Thursday"
   ]
  },
  {
   "cell_type": "code",
   "execution_count": 79,
   "id": "fee66634",
   "metadata": {},
   "outputs": [
    {
     "name": "stdout",
     "output_type": "stream",
     "text": [
      "70.53879545354614\n",
      "75.55378945214048\n",
      "75.11253903117591\n",
      "73.52333018888338\n",
      "71.5159278099275\n",
      "72.88903558434299\n",
      "78.91294345844462\n",
      "82.35261470275556\n",
      "81.69792089762055\n",
      "78.08113186105635\n",
      "75.89742019358683\n",
      "74.50318439367538\n",
      "75.11461879508826\n",
      "76.76130811720407\n",
      "76.17414042150672\n",
      "78.37166407438232\n",
      "80.72499121065223\n",
      "81.0232797396651\n",
      "81.99081190100888\n",
      "83.24111182793351\n",
      "83.79264949419745\n",
      "81.85155002403539\n",
      "77.19576356532333\n",
      "73.57771805526475\n",
      "77.43595843751474\n",
      "81.58442232287375\n",
      "79.39247695174872\n",
      "74.85536809538155\n",
      "72.77657396459797\n"
     ]
    }
   ],
   "source": [
    "import datetime\n",
    "from datetime import timedelta\n",
    "box_list = []\n",
    "\n",
    "def loop():\n",
    "    for i in range(29):\n",
    "        \n",
    "        dep_time = datetime.datetime(year= 2021, month = 1, day = 1, hour = 7,minute = 0 )\n",
    "        end_time = datetime.datetime(year= 2021, month = 1, day = 1, hour = 7,minute = 30 )\n",
    "        x=0\n",
    "        dep_time = dep_time + timedelta(minutes=30*i)\n",
    "        end_time = end_time + timedelta(minutes=30*i)\n",
    "        \n",
    "        dep_time_str = dep_time.strftime(\"%H:%M\")\n",
    "        end_time_str = end_time.strftime(\"%H:%M\")\n",
    "        \n",
    "        globals()[f\"dfthursday{i}\"] = df5.between_time(dep_time_str,end_time_str)\n",
    "\n",
    "        globals()[f\"dfthursday{i}\"].dropna()\n",
    "        globals()[f\"AVGthursday{i}\"] =  globals()[f\"dfthursday{i}\"]['bpm'].mean()\n",
    "        box_list.append(globals()[f\"AVGthursday{i}\"])\n",
    "        print(globals()[f\"AVGthursday{i}\"])\n",
    "loop()\n",
    "\n",
    "    "
   ]
  },
  {
   "cell_type": "code",
   "execution_count": 71,
   "id": "103c6ecc",
   "metadata": {},
   "outputs": [
    {
     "name": "stdout",
     "output_type": "stream",
     "text": [
      "72.77657396459797\n"
     ]
    }
   ],
   "source": [
    "boxlistdf = pd.DataFrame (box_list)\n",
    "boxlistdf = boxlistdf.T\n",
    "print(boxlistdf.iloc[0][28])"
   ]
  },
  {
   "cell_type": "markdown",
   "id": "ec52e9a3",
   "metadata": {},
   "source": [
    "# Friday"
   ]
  },
  {
   "cell_type": "code",
   "execution_count": 78,
   "id": "24932254",
   "metadata": {},
   "outputs": [
    {
     "name": "stdout",
     "output_type": "stream",
     "text": [
      "73.78993005121596\n",
      "73.71397260077659\n",
      "72.8561307823261\n",
      "75.3471986899076\n",
      "75.12130450027296\n",
      "72.96534665075394\n",
      "73.44636808771354\n",
      "72.52540173989702\n",
      "71.66633604717704\n",
      "71.97989040453561\n",
      "72.60367896642575\n",
      "73.76405028785874\n",
      "73.62373600402259\n",
      "73.32790934547086\n",
      "72.02192000571851\n",
      "72.22110542209397\n",
      "75.20659601171658\n",
      "78.61536353624714\n",
      "81.28382519196353\n",
      "81.7634314683575\n",
      "81.45081181695039\n",
      "82.62326800005117\n",
      "82.13771730858845\n",
      "78.57123757548923\n",
      "76.73203304015074\n",
      "77.92998132601231\n",
      "80.96910642452376\n",
      "79.9425377390155\n",
      "75.42650407918522\n"
     ]
    }
   ],
   "source": [
    "box_list2 = []\n",
    "def loop2():\n",
    "    for i in range(29):\n",
    "        \n",
    "        dep_time = datetime.datetime(year= 2021, month = 1, day = 1, hour = 7,minute = 0 )\n",
    "        end_time = datetime.datetime(year= 2021, month = 1, day = 1, hour = 7,minute = 30 )\n",
    "        x=0\n",
    "        dep_time = dep_time + timedelta(minutes=30*i)\n",
    "        end_time = end_time + timedelta(minutes=30*i)\n",
    "        \n",
    "        dep_time_str = dep_time.strftime(\"%H:%M\")\n",
    "        end_time_str = end_time.strftime(\"%H:%M\")\n",
    "        \n",
    "        globals()[f\"dffriday{i}\"] = df6.between_time(dep_time_str,end_time_str)\n",
    "\n",
    "        globals()[f\"dffriday{i}\"].dropna()\n",
    "        globals()[f\"AVGfriday{i}\"] =  globals()[f\"dffriday{i}\"]['bpm'].mean()\n",
    "        box_list2.append(globals()[f\"AVGfriday{x}\"])\n",
    "        print(globals()[f\"AVGfriday{i}\"])\n",
    "loop2()"
   ]
  },
  {
   "cell_type": "code",
   "execution_count": 81,
   "id": "62f00d36",
   "metadata": {},
   "outputs": [
    {
     "data": {
      "text/plain": [
       "72.96534665075394"
      ]
     },
     "execution_count": 81,
     "metadata": {},
     "output_type": "execute_result"
    }
   ],
   "source": [
    "AVGfriday5"
   ]
  },
  {
   "cell_type": "markdown",
   "id": "6c374d0e",
   "metadata": {},
   "source": [
    "# Saturday"
   ]
  },
  {
   "cell_type": "code",
   "execution_count": 84,
   "id": "3bc89cbb",
   "metadata": {},
   "outputs": [
    {
     "name": "stdout",
     "output_type": "stream",
     "text": [
      "79.82539682539684\n",
      "77.23968253968253\n",
      "73.26759225429302\n",
      "70.5368286112259\n",
      "71.83915223882549\n",
      "76.89720465590591\n",
      "85.85266012906108\n",
      "91.14785299079398\n",
      "88.73662802500202\n",
      "83.57581672402074\n",
      "80.50644505718942\n",
      "78.21696480995922\n",
      "76.61915365828735\n",
      "76.41751065365477\n",
      "77.96440702651422\n",
      "82.03587494549204\n",
      "86.83668178612707\n",
      "89.74105026515919\n",
      "87.3849400912089\n",
      "82.71318138957912\n",
      "82.04222100270495\n",
      "85.40093844528353\n",
      "84.63856916704152\n",
      "80.50629264893635\n",
      "77.8571316398751\n",
      "76.26593434021993\n",
      "74.78811686332268\n",
      "75.18070399882014\n",
      "74.30150648908665\n"
     ]
    }
   ],
   "source": [
    "box_list3 = []\n",
    "def loop3():\n",
    "    for i in range(29):\n",
    "        \n",
    "        dep_time = datetime.datetime(year= 2021, month = 1, day = 1, hour = 7,minute = 0 )\n",
    "        end_time = datetime.datetime(year= 2021, month = 1, day = 1, hour = 7,minute = 30 )\n",
    "        x=0\n",
    "        dep_time = dep_time + timedelta(minutes=30*i)\n",
    "        end_time = end_time + timedelta(minutes=30*i)\n",
    "        \n",
    "        dep_time_str = dep_time.strftime(\"%H:%M\")\n",
    "        end_time_str = end_time.strftime(\"%H:%M\")\n",
    "        \n",
    "        globals()[f\"dfsaturday{i}\"] = df7.between_time(dep_time_str,end_time_str)\n",
    "\n",
    "        globals()[f\"dfsaturday{i}\"].dropna()\n",
    "        globals()[f\"AVGsaturday{i}\"] =  globals()[f\"dfsaturday{i}\"]['bpm'].mean()\n",
    "        box_list2.append(globals()[f\"AVGsaturday{i}\"])\n",
    "        print(globals()[f\"AVGsaturday{i}\"])\n",
    "loop3()"
   ]
  },
  {
   "cell_type": "markdown",
   "id": "4069e4db",
   "metadata": {},
   "source": [
    "# Sunday"
   ]
  },
  {
   "cell_type": "code",
   "execution_count": 88,
   "id": "159d9144",
   "metadata": {},
   "outputs": [
    {
     "name": "stdout",
     "output_type": "stream",
     "text": [
      "73.93333333333332\n",
      "73.92772108843535\n",
      "70.66446655397743\n",
      "69.03229344006768\n",
      "73.46150102891599\n",
      "79.66618659226515\n",
      "82.47280824691974\n",
      "84.28528344172469\n",
      "87.80586887592439\n",
      "89.70605981942091\n",
      "86.3128147561395\n",
      "82.20773677416189\n",
      "80.24357695600987\n",
      "80.42673410730751\n",
      "82.60621519526198\n",
      "81.86595200069239\n",
      "79.30159224754966\n",
      "78.92674634775206\n",
      "79.67477007158328\n",
      "78.88753829564085\n",
      "77.2994539359032\n",
      "79.36987395655761\n",
      "82.65752169884308\n",
      "80.53709662456326\n",
      "77.8604129263053\n",
      "77.69784350411967\n",
      "75.74865980417695\n",
      "75.86633559223912\n",
      "76.62457819535122\n"
     ]
    }
   ],
   "source": [
    "box_list4 = []\n",
    "def loop4():\n",
    "    for i in range(29):\n",
    "        \n",
    "        dep_time = datetime.datetime(year= 2021, month = 1, day = 1, hour = 7,minute = 0 )\n",
    "        end_time = datetime.datetime(year= 2021, month = 1, day = 1, hour = 7,minute = 30 )\n",
    "        x=0\n",
    "        dep_time = dep_time + timedelta(minutes=30*i)\n",
    "        end_time = end_time + timedelta(minutes=30*i)\n",
    "        \n",
    "        dep_time_str = dep_time.strftime(\"%H:%M\")\n",
    "        end_time_str = end_time.strftime(\"%H:%M\")\n",
    "        \n",
    "        globals()[f\"dfsunday{i}\"] = df8.between_time(dep_time_str,end_time_str)\n",
    "\n",
    "        globals()[f\"dfsunday{i}\"].dropna()\n",
    "        globals()[f\"AVGsunday{i}\"] =  globals()[f\"dfsunday{i}\"]['bpm'].mean()\n",
    "        box_list2.append(globals()[f\"AVGsunday{i}\"])\n",
    "        print(globals()[f\"AVGsunday{i}\"])\n",
    "loop4()"
   ]
  },
  {
   "cell_type": "code",
   "execution_count": 89,
   "id": "aa50656d",
   "metadata": {
    "scrolled": true
   },
   "outputs": [
    {
     "name": "stdout",
     "output_type": "stream",
     "text": [
      "                  Monday    Tuesday  Wednesday   Thursday     Friday  \\\n",
      "07:00 - 07:30  76.953186  75.629937  72.869896  70.538795  73.789930   \n",
      "07:30 - 08:00  75.190420  78.866566  74.074021  75.553789  73.713973   \n",
      "08:00 - 08:30  75.316913  79.369711  74.377885  75.112539  72.856131   \n",
      "08:30 - 09:00  79.388688  82.568168  76.065968  73.523330  75.347199   \n",
      "09:00 - 09:30  79.294305  79.075790  76.894798  71.515928  75.121305   \n",
      "09:30 - 10:00  75.573842  74.176276  77.100827  72.889036  72.965347   \n",
      "10:00 - 10:30  73.647709  75.536429  77.473577  78.912943  73.446368   \n",
      "10:30 - 11:00  72.923383  76.624002  75.608404  82.352615  72.525402   \n",
      "11:00 - 11:30  72.064974  77.924855  73.739136  81.697921  71.666336   \n",
      "11:30 - 12:00  72.246072  77.037519  73.804712  78.081132  71.979890   \n",
      "12:00 - 12:30  75.186854  78.065282  77.494392  75.897420  72.603679   \n",
      "12:30 - 13:00  76.133310  78.515172  79.735227  74.503184  73.764050   \n",
      "13:00 - 13:30  73.835191  76.716351  77.798152  75.114619  73.623736   \n",
      "13:30 - 14:00  74.530718  76.131853  74.711266  76.761308  73.327909   \n",
      "14:00 - 14:30  77.740712  77.208761  73.706017  76.174140  72.021920   \n",
      "14:30 - 15:00  78.617672  78.203883  74.729314  78.371664  72.221105   \n",
      "15:00 - 15:30  78.705063  77.904186  75.591088  81.023280  75.206596   \n",
      "15:30 - 16:00  78.661564  78.459257  73.258194  81.990812  78.615364   \n",
      "16:00 - 16:30  79.848226  78.149111  73.891899  83.241112  81.283825   \n",
      "16:30 - 17:00  80.302580  77.600788  77.749197  83.792649  81.763431   \n",
      "17:00 - 17:30  78.188638  77.791988  77.136550  81.851550  81.450812   \n",
      "17:30 - 18:00  76.256199  78.083299  76.314855  77.195764  82.623268   \n",
      "18:00 - 18:30  76.741106  76.804367  79.203108  73.577718  82.137717   \n",
      "18:30 - 19:00  76.459787  74.996222  80.832976  77.435958  78.571238   \n",
      "19:00 - 19:30  74.971448  76.491275  79.915793  81.584422  76.732033   \n",
      "19:30 - 20:00  77.390148  81.452810  78.903029  79.392477  77.929981   \n",
      "20:00 - 20:30  76.953186  83.237033  77.327398  74.855368  80.969106   \n",
      "20:30 - 21:00  74.930733  79.880821  75.922275  72.776574  79.942538   \n",
      "\n",
      "                Saturday     Sunday  \n",
      "07:00 - 07:30  79.825397  73.933333  \n",
      "07:30 - 08:00  77.239683  73.927721  \n",
      "08:00 - 08:30  73.267592  70.664467  \n",
      "08:30 - 09:00  70.536829  69.032293  \n",
      "09:00 - 09:30  71.839152  73.461501  \n",
      "09:30 - 10:00  76.897205  79.666187  \n",
      "10:00 - 10:30  85.852660  82.472808  \n",
      "10:30 - 11:00  91.147853  84.285283  \n",
      "11:00 - 11:30  88.736628  87.805869  \n",
      "11:30 - 12:00  83.575817  89.706060  \n",
      "12:00 - 12:30  80.506445  86.312815  \n",
      "12:30 - 13:00  78.216965  82.207737  \n",
      "13:00 - 13:30  76.619154  80.243577  \n",
      "13:30 - 14:00  76.417511  80.426734  \n",
      "14:00 - 14:30  77.964407  82.606215  \n",
      "14:30 - 15:00  82.035875  81.865952  \n",
      "15:00 - 15:30  86.836682  79.301592  \n",
      "15:30 - 16:00  89.741050  78.926746  \n",
      "16:00 - 16:30  87.384940  79.674770  \n",
      "16:30 - 17:00  82.713181  78.887538  \n",
      "17:00 - 17:30  82.042221  77.299454  \n",
      "17:30 - 18:00  85.400938  79.369874  \n",
      "18:00 - 18:30  84.638569  82.657522  \n",
      "18:30 - 19:00  80.506293  80.537097  \n",
      "19:00 - 19:30  77.857132  77.860413  \n",
      "19:30 - 20:00  76.265934  77.697844  \n",
      "20:00 - 20:30  74.788117  75.748660  \n",
      "20:30 - 21:00  75.180704  75.866336  \n"
     ]
    }
   ],
   "source": [
    "data = {\n",
    "    \"Monday\":[AVGdfmonday25,AVGdfmonday0,AVGdfmonday830,AVGdfmonday8309,AVGdfmonday930,AVGdfmonday9301,AVGdfmonday1030,AVGdfmonday103011,AVGdfmonday1130,AVGdfmonday113012,AVGdfmonday1230,AVGdfmonday10,AVGdfmonday11,AVGdfmonday12,AVGdfmonday13,AVGdfmonday14,AVGdfmonday15,AVGdfmonday16,AVGdfmonday17,AVGdfmonday18,AVGdfmonday19,AVGdfmonday20,AVGdfmonday21,AVGdfmonday22,AVGdfmonday23,AVGdfmonday24,AVGdfmonday25,AVGdfmonday26],\n",
    "    \"Tuesday\":[AVGdftuesday0,AVGdftuesday1,AVGdftuesday2,AVGdftuesday3,AVGdftuesday4,AVGdftuesday5,AVGdftuesday6,AVGdftuesday7,AVGdftuesday8,AVGdftuesday9,AVGdftuesday10,AVGdftuesday11,AVGdftuesday12,AVGdftuesday13,AVGdftuesday14,AVGdftuesday15,AVGdftuesday16,AVGdftuesday17,AVGdftuesday18,AVGdftuesday19,AVGdftuesday20,AVGdftuesday21,AVGdftuesday22,AVGdftuesday23,AVGdftuesday24,AVGdftuesday25,AVGdftuesday26,AVGdftuesday27],\n",
    "    \"Wednesday\":[AVGdfwednesday0, AVGdfwednesday1, AVGdfwednesday2, AVGdfwednesday3, AVGdfwednesday4, AVGdfwednesday5, AVGdfwednesday6, AVGdfwednesday7, AVGdfwednesday8, AVGdfwednesday9, AVGdfwednesday10, AVGdfwednesday11, AVGdfwednesday12, AVGdfwednesday13, AVGdfwednesday14, AVGdfwednesday15, AVGdfwednesday16, AVGdfwednesday17, AVGdfwednesday18, AVGdfwednesday19, AVGdfwednesday20, AVGdfwednesday21, AVGdfwednesday22, AVGdfwednesday23, AVGdfwednesday24, AVGdfwednesday25, AVGdfwednesday26, AVGdfwednesday27],\n",
    "    \"Thursday\":[boxlistdf.iloc[0][0],boxlistdf.iloc[0][1],boxlistdf.iloc[0][2],boxlistdf.iloc[0][3],boxlistdf.iloc[0][4], boxlistdf.iloc[0][5], boxlistdf.iloc[0][6], boxlistdf.iloc[0][7], boxlistdf.iloc[0][8],boxlistdf.iloc[0][9],boxlistdf.iloc[0][10],boxlistdf.iloc[0][11],boxlistdf.iloc[0][12],boxlistdf.iloc[0][13],boxlistdf.iloc[0][14], boxlistdf.iloc[0][15],boxlistdf.iloc[0][17],boxlistdf.iloc[0][18],boxlistdf.iloc[0][19],boxlistdf.iloc[0][20],boxlistdf.iloc[0][21], boxlistdf.iloc[0][22],boxlistdf.iloc[0][23],boxlistdf.iloc[0][24],boxlistdf.iloc[0][25],boxlistdf.iloc[0][26],boxlistdf.iloc[0][27],boxlistdf.iloc[0][28]],    \n",
    "    \"Friday\":[AVGfriday0, AVGfriday1, AVGfriday2 ,AVGfriday3 ,AVGfriday4, AVGfriday5,AVGfriday6, AVGfriday7, AVGfriday8, AVGfriday9, AVGfriday10, AVGfriday11, AVGfriday12, AVGfriday13, AVGfriday14, AVGfriday15, AVGfriday16, AVGfriday17, AVGfriday18, AVGfriday19, AVGfriday20, AVGfriday21, AVGfriday22, AVGfriday23, AVGfriday24, AVGfriday25, AVGfriday26, AVGfriday27],\n",
    "    \"Saturday\":[AVGsaturday0, AVGsaturday1, AVGsaturday2, AVGsaturday3, AVGsaturday4, AVGsaturday5, AVGsaturday6, AVGsaturday7, AVGsaturday8, AVGsaturday9, AVGsaturday10, AVGsaturday11, AVGsaturday12, AVGsaturday13, AVGsaturday14, AVGsaturday15, AVGsaturday16, AVGsaturday17, AVGsaturday18, AVGsaturday19, AVGsaturday20, AVGsaturday21, AVGsaturday22, AVGsaturday23, AVGsaturday24, AVGsaturday25, AVGsaturday26, AVGsaturday27],\n",
    "    \"Sunday\":[AVGsunday0, AVGsunday1, AVGsunday2, AVGsunday3, AVGsunday4, AVGsunday5, AVGsunday6, AVGsunday7, AVGsunday8, AVGsunday9, AVGsunday10, AVGsunday11, AVGsunday12, AVGsunday13, AVGsunday14, AVGsunday15, AVGsunday16, AVGsunday17, AVGsunday18, AVGsunday19, AVGsunday20, AVGsunday21, AVGsunday22, AVGsunday23, AVGsunday24, AVGsunday25, AVGsunday26, AVGsunday27],\n",
    "}\n",
    "df_ = pd.DataFrame(data, index=['07:00 - 07:30','07:30 - 08:00','08:00 - 08:30','08:30 - 09:00','09:00 - 09:30','09:30 - 10:00','10:00 - 10:30','10:30 - 11:00','11:00 - 11:30','11:30 - 12:00','12:00 - 12:30','12:30 - 13:00','13:00 - 13:30', '13:30 - 14:00', '14:00 - 14:30', '14:30 - 15:00', '15:00 - 15:30', '15:30 - 16:00', '16:00 - 16:30', '16:30 - 17:00','17:00 - 17:30', '17:30 - 18:00', '18:00 - 18:30', '18:30 - 19:00', '19:00 - 19:30', '19:30 - 20:00', '20:00 - 20:30','20:30 - 21:00'])\n",
    "\n",
    "print (df_)"
   ]
  },
  {
   "cell_type": "code",
   "execution_count": 90,
   "id": "c8b94c9d",
   "metadata": {
    "scrolled": true
   },
   "outputs": [
    {
     "data": {
      "text/plain": [
       "<AxesSubplot:>"
      ]
     },
     "execution_count": 90,
     "metadata": {},
     "output_type": "execute_result"
    },
    {
     "data": {
      "image/png": "[encoded data removed]",
      "text/plain": [
       "<Figure size 432x288 with 1 Axes>"
      ]
     },
     "metadata": {
      "needs_background": "light"
     },
     "output_type": "display_data"
    }
   ],
   "source": [
    "df_.plot()"
   ]
  },
  {
   "cell_type": "code",
   "execution_count": 91,
   "id": "f81f8b55",
   "metadata": {},
   "outputs": [],
   "source": [
    "df_.to_csv(\"dailyaveragebpm.csv\")"
   ]
  },
  {
   "cell_type": "code",
   "execution_count": null,
   "id": "0f67ebe1",
   "metadata": {},
   "outputs": [],
   "source": []
  }
 ],
 "metadata": {
  "celltoolbar": "Tags",
  "kernelspec": {
   "display_name": "Python 3 (ipykernel)",
   "language": "python",
   "name": "python3"
  },
  "language_info": {
   "codemirror_mode": {
    "name": "ipython",
    "version": 3
   },
   "file_extension": ".py",
   "mimetype": "text/x-python",
   "name": "python",
   "nbconvert_exporter": "python",
   "pygments_lexer": "ipython3",
   "version": "3.9.12"
  }
 },
 "nbformat": 4,
 "nbformat_minor": 5
}
