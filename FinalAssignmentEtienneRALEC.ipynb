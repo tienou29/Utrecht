{
 "cells": [
  {
   "cell_type": "code",
   "execution_count": 1,
   "id": "a103e1b6",
   "metadata": {},
   "outputs": [
    {
     "data": {
      "text/html": [
       "        <script type=\"text/javascript\">\n",
       "        window.PlotlyConfig = {MathJaxConfig: 'local'};\n",
       "        if (window.MathJax) {MathJax.Hub.Config({SVG: {font: \"STIX-Web\"}});}\n",
       "        if (typeof require !== 'undefined') {\n",
       "        require.undef(\"plotly\");\n",
       "        requirejs.config({\n",
       "            paths: {\n",
       "                'plotly': ['https://cdn.plot.ly/plotly-2.9.0.min']\n",
       "            }\n",
       "        });\n",
       "        require(['plotly'], function(Plotly) {\n",
       "            window._Plotly = Plotly;\n",
       "        });\n",
       "        }\n",
       "        </script>\n",
       "        "
      ]
     },
     "metadata": {},
     "output_type": "display_data"
    }
   ],
   "source": [
    "import pandas as pd\n",
    "import xmltodict \n",
    "import seaborn as sns\n",
    "import matplotlib.pyplot as plt\n",
    "import sklearn as sk\n",
    "from sklearn.model_selection import train_test_split\n",
    "from sklearn.metrics import mean_squared_error\n",
    "from sklearn.metrics import r2_score\n",
    "import math\n",
    "\n",
    "import plotly.offline as pyo\n",
    "import plotly.express as px\n",
    "\n",
    "\n",
    "# Set notebook mode to work in offline\n",
    "pyo.init_notebook_mode(connected=True)"
   ]
  },
  {
   "cell_type": "markdown",
   "id": "251530e8",
   "metadata": {},
   "source": [
    "# How many calories will I burn if I go from Utrecht to Brussels by bike? "
   ]
  },
  {
   "cell_type": "markdown",
   "id": "74068ca0",
   "metadata": {},
   "source": [
    "# Introduction"
   ]
  },
  {
   "cell_type": "markdown",
   "id": "0abea46c",
   "metadata": {},
   "source": [
    "I decided to take the data from my watch rather quickly. I use it every day. I love this tool. I asked myself what I could do with 1 year of data.\n",
    "\n",
    "I took the data from the 2021-03-06 to the 2022-05-11.\n",
    "\n",
    "Then I decided to go to Brussel on the 27 of Mai. That day I ate a lot, because 180km is long.\n",
    "\n",
    "But with all the data recorded before, could I have predicted the number of calories spent and the time on the bike to do 180km? for example, to optimize my nutrition.\n",
    "\n",
    "And as I managed to go to Brussel by bike I will also be able to compare and discuss the predicted value and the real value!\n",
    "\n"
   ]
  },
  {
   "cell_type": "markdown",
   "id": "14fee9e7",
   "metadata": {},
   "source": [
    "# Data set and Apple Wash"
   ]
  },
  {
   "cell_type": "markdown",
   "id": "4e696cc3",
   "metadata": {},
   "source": [
    "When you request the data in your health application. You receive a compressed xml file. Then my goal was to get dataframes from this xml file."
   ]
  },
  {
   "cell_type": "code",
   "execution_count": 2,
   "id": "a5ba4a9b",
   "metadata": {},
   "outputs": [],
   "source": [
    "input_path = 'export.xml'\n",
    "with open(input_path, 'r') as xml_file:\n",
    "    input_data = xmltodict.parse(xml_file.read())\n",
    "#Records list for general health data & imported as Pandas Data Frame\n",
    "records_list = input_data['HealthData']['Record']\n",
    "df_records = pd.DataFrame(records_list)\n",
    "#Workout list for workout data\n",
    "workouts_list = input_data['HealthData']['Workout']\n",
    "df_workouts = pd.DataFrame(workouts_list)\n",
    "\n",
    "#Towards Data Science's code (1)"
   ]
  },
  {
   "cell_type": "markdown",
   "id": "0e286114",
   "metadata": {},
   "source": [
    "Scrapping this data wasn't very challenging however I already scrape online market in project 1, html tables in dataplayground, and use API in project 2 so it was nice to discover xml export and how to work with it. "
   ]
  },
  {
   "cell_type": "code",
   "execution_count": 3,
   "id": "84d8e155",
   "metadata": {},
   "outputs": [
    {
     "data": {
      "text/html": [
       "<div>\n",
       "<style scoped>\n",
       "    .dataframe tbody tr th:only-of-type {\n",
       "        vertical-align: middle;\n",
       "    }\n",
       "\n",
       "    .dataframe tbody tr th {\n",
       "        vertical-align: top;\n",
       "    }\n",
       "\n",
       "    .dataframe thead th {\n",
       "        text-align: right;\n",
       "    }\n",
       "</style>\n",
       "<table border=\"1\" class=\"dataframe\">\n",
       "  <thead>\n",
       "    <tr style=\"text-align: right;\">\n",
       "      <th></th>\n",
       "      <th>@workoutActivityType</th>\n",
       "      <th>@duration</th>\n",
       "      <th>@durationUnit</th>\n",
       "      <th>@totalDistance</th>\n",
       "      <th>@totalDistanceUnit</th>\n",
       "      <th>@totalEnergyBurned</th>\n",
       "      <th>@totalEnergyBurnedUnit</th>\n",
       "      <th>@sourceName</th>\n",
       "      <th>@sourceVersion</th>\n",
       "      <th>@creationDate</th>\n",
       "      <th>@startDate</th>\n",
       "      <th>@endDate</th>\n",
       "      <th>MetadataEntry</th>\n",
       "      <th>@device</th>\n",
       "      <th>WorkoutEvent</th>\n",
       "      <th>WorkoutRoute</th>\n",
       "    </tr>\n",
       "  </thead>\n",
       "  <tbody>\n",
       "    <tr>\n",
       "      <th>0</th>\n",
       "      <td>HKWorkoutActivityTypeCycling</td>\n",
       "      <td>90.87145182291667</td>\n",
       "      <td>min</td>\n",
       "      <td>28.572669921875</td>\n",
       "      <td>km</td>\n",
       "      <td>726</td>\n",
       "      <td>kcal</td>\n",
       "      <td>Connect</td>\n",
       "      <td>1</td>\n",
       "      <td>2020-05-21 12:36:21 +0200</td>\n",
       "      <td>2020-05-17 14:30:03 +0200</td>\n",
       "      <td>2020-05-17 16:00:55 +0200</td>\n",
       "      <td>{'@key': 'HKIndoorWorkout', '@value': '0'}</td>\n",
       "      <td>NaN</td>\n",
       "      <td>NaN</td>\n",
       "      <td>NaN</td>\n",
       "    </tr>\n",
       "    <tr>\n",
       "      <th>1</th>\n",
       "      <td>HKWorkoutActivityTypeCycling</td>\n",
       "      <td>31.13196614583333</td>\n",
       "      <td>min</td>\n",
       "      <td>10.923419921875</td>\n",
       "      <td>km</td>\n",
       "      <td>308</td>\n",
       "      <td>kcal</td>\n",
       "      <td>Connect</td>\n",
       "      <td>1</td>\n",
       "      <td>2020-06-18 19:20:57 +0200</td>\n",
       "      <td>2020-05-19 19:56:54 +0200</td>\n",
       "      <td>2020-05-19 20:28:01 +0200</td>\n",
       "      <td>{'@key': 'HKIndoorWorkout', '@value': '0'}</td>\n",
       "      <td>NaN</td>\n",
       "      <td>NaN</td>\n",
       "      <td>NaN</td>\n",
       "    </tr>\n",
       "    <tr>\n",
       "      <th>2</th>\n",
       "      <td>HKWorkoutActivityTypeCycling</td>\n",
       "      <td>110.1818033854167</td>\n",
       "      <td>min</td>\n",
       "      <td>37.6965</td>\n",
       "      <td>km</td>\n",
       "      <td>1040</td>\n",
       "      <td>kcal</td>\n",
       "      <td>Connect</td>\n",
       "      <td>1</td>\n",
       "      <td>2020-06-19 11:45:20 +0200</td>\n",
       "      <td>2020-05-21 10:43:19 +0200</td>\n",
       "      <td>2020-05-21 12:33:29 +0200</td>\n",
       "      <td>{'@key': 'HKIndoorWorkout', '@value': '0'}</td>\n",
       "      <td>NaN</td>\n",
       "      <td>NaN</td>\n",
       "      <td>NaN</td>\n",
       "    </tr>\n",
       "    <tr>\n",
       "      <th>3</th>\n",
       "      <td>HKWorkoutActivityTypeCycling</td>\n",
       "      <td>27.34184977213542</td>\n",
       "      <td>min</td>\n",
       "      <td>8.905269531249999</td>\n",
       "      <td>km</td>\n",
       "      <td>241</td>\n",
       "      <td>kcal</td>\n",
       "      <td>Connect</td>\n",
       "      <td>1</td>\n",
       "      <td>2020-06-21 17:00:25 +0200</td>\n",
       "      <td>2020-05-22 16:07:26 +0200</td>\n",
       "      <td>2020-05-22 16:34:46 +0200</td>\n",
       "      <td>{'@key': 'HKIndoorWorkout', '@value': '0'}</td>\n",
       "      <td>NaN</td>\n",
       "      <td>NaN</td>\n",
       "      <td>NaN</td>\n",
       "    </tr>\n",
       "    <tr>\n",
       "      <th>4</th>\n",
       "      <td>HKWorkoutActivityTypeCycling</td>\n",
       "      <td>28.68728434244792</td>\n",
       "      <td>min</td>\n",
       "      <td>11.5847998046875</td>\n",
       "      <td>km</td>\n",
       "      <td>358</td>\n",
       "      <td>kcal</td>\n",
       "      <td>Connect</td>\n",
       "      <td>1</td>\n",
       "      <td>2020-06-21 17:00:25 +0200</td>\n",
       "      <td>2020-05-22 20:38:36 +0200</td>\n",
       "      <td>2020-05-22 21:07:17 +0200</td>\n",
       "      <td>{'@key': 'HKIndoorWorkout', '@value': '0'}</td>\n",
       "      <td>NaN</td>\n",
       "      <td>NaN</td>\n",
       "      <td>NaN</td>\n",
       "    </tr>\n",
       "  </tbody>\n",
       "</table>\n",
       "</div>"
      ],
      "text/plain": [
       "           @workoutActivityType          @duration @durationUnit  \\\n",
       "0  HKWorkoutActivityTypeCycling  90.87145182291667           min   \n",
       "1  HKWorkoutActivityTypeCycling  31.13196614583333           min   \n",
       "2  HKWorkoutActivityTypeCycling  110.1818033854167           min   \n",
       "3  HKWorkoutActivityTypeCycling  27.34184977213542           min   \n",
       "4  HKWorkoutActivityTypeCycling  28.68728434244792           min   \n",
       "\n",
       "      @totalDistance @totalDistanceUnit @totalEnergyBurned  \\\n",
       "0    28.572669921875                 km                726   \n",
       "1    10.923419921875                 km                308   \n",
       "2            37.6965                 km               1040   \n",
       "3  8.905269531249999                 km                241   \n",
       "4   11.5847998046875                 km                358   \n",
       "\n",
       "  @totalEnergyBurnedUnit @sourceName @sourceVersion  \\\n",
       "0                   kcal     Connect              1   \n",
       "1                   kcal     Connect              1   \n",
       "2                   kcal     Connect              1   \n",
       "3                   kcal     Connect              1   \n",
       "4                   kcal     Connect              1   \n",
       "\n",
       "               @creationDate                 @startDate  \\\n",
       "0  2020-05-21 12:36:21 +0200  2020-05-17 14:30:03 +0200   \n",
       "1  2020-06-18 19:20:57 +0200  2020-05-19 19:56:54 +0200   \n",
       "2  2020-06-19 11:45:20 +0200  2020-05-21 10:43:19 +0200   \n",
       "3  2020-06-21 17:00:25 +0200  2020-05-22 16:07:26 +0200   \n",
       "4  2020-06-21 17:00:25 +0200  2020-05-22 20:38:36 +0200   \n",
       "\n",
       "                    @endDate                               MetadataEntry  \\\n",
       "0  2020-05-17 16:00:55 +0200  {'@key': 'HKIndoorWorkout', '@value': '0'}   \n",
       "1  2020-05-19 20:28:01 +0200  {'@key': 'HKIndoorWorkout', '@value': '0'}   \n",
       "2  2020-05-21 12:33:29 +0200  {'@key': 'HKIndoorWorkout', '@value': '0'}   \n",
       "3  2020-05-22 16:34:46 +0200  {'@key': 'HKIndoorWorkout', '@value': '0'}   \n",
       "4  2020-05-22 21:07:17 +0200  {'@key': 'HKIndoorWorkout', '@value': '0'}   \n",
       "\n",
       "  @device WorkoutEvent WorkoutRoute  \n",
       "0     NaN          NaN          NaN  \n",
       "1     NaN          NaN          NaN  \n",
       "2     NaN          NaN          NaN  \n",
       "3     NaN          NaN          NaN  \n",
       "4     NaN          NaN          NaN  "
      ]
     },
     "execution_count": 3,
     "metadata": {},
     "output_type": "execute_result"
    }
   ],
   "source": [
    "df_workouts.head()  #overview of the export in a dataframe "
   ]
  },
  {
   "cell_type": "code",
   "execution_count": 4,
   "id": "9387f624",
   "metadata": {
    "scrolled": true
   },
   "outputs": [
    {
     "data": {
      "text/html": [
       "<div>\n",
       "<style scoped>\n",
       "    .dataframe tbody tr th:only-of-type {\n",
       "        vertical-align: middle;\n",
       "    }\n",
       "\n",
       "    .dataframe tbody tr th {\n",
       "        vertical-align: top;\n",
       "    }\n",
       "\n",
       "    .dataframe thead th {\n",
       "        text-align: right;\n",
       "    }\n",
       "</style>\n",
       "<table border=\"1\" class=\"dataframe\">\n",
       "  <thead>\n",
       "    <tr style=\"text-align: right;\">\n",
       "      <th></th>\n",
       "      <th>@type</th>\n",
       "      <th>@sourceName</th>\n",
       "      <th>@sourceVersion</th>\n",
       "      <th>@unit</th>\n",
       "      <th>@creationDate</th>\n",
       "      <th>@startDate</th>\n",
       "      <th>@endDate</th>\n",
       "      <th>@value</th>\n",
       "      <th>MetadataEntry</th>\n",
       "      <th>@device</th>\n",
       "      <th>HeartRateVariabilityMetadataList</th>\n",
       "    </tr>\n",
       "  </thead>\n",
       "  <tbody>\n",
       "    <tr>\n",
       "      <th>0</th>\n",
       "      <td>HKQuantityTypeIdentifierHeight</td>\n",
       "      <td>SantÃ©</td>\n",
       "      <td>12.4.1</td>\n",
       "      <td>cm</td>\n",
       "      <td>2020-03-12 18:35:08 +0200</td>\n",
       "      <td>2020-03-12 18:35:08 +0200</td>\n",
       "      <td>2020-03-12 18:35:08 +0200</td>\n",
       "      <td>187</td>\n",
       "      <td>NaN</td>\n",
       "      <td>NaN</td>\n",
       "      <td>NaN</td>\n",
       "    </tr>\n",
       "    <tr>\n",
       "      <th>1</th>\n",
       "      <td>HKQuantityTypeIdentifierBodyMass</td>\n",
       "      <td>SantÃ©</td>\n",
       "      <td>12.4.1</td>\n",
       "      <td>kg</td>\n",
       "      <td>2020-03-12 18:35:08 +0200</td>\n",
       "      <td>2020-03-12 18:35:08 +0200</td>\n",
       "      <td>2020-03-12 18:35:08 +0200</td>\n",
       "      <td>80</td>\n",
       "      <td>NaN</td>\n",
       "      <td>NaN</td>\n",
       "      <td>NaN</td>\n",
       "    </tr>\n",
       "    <tr>\n",
       "      <th>2</th>\n",
       "      <td>HKQuantityTypeIdentifierBodyMass</td>\n",
       "      <td>Connect</td>\n",
       "      <td>1</td>\n",
       "      <td>kg</td>\n",
       "      <td>2020-06-17 09:44:12 +0200</td>\n",
       "      <td>2020-05-18 00:00:00 +0200</td>\n",
       "      <td>2020-05-18 00:00:00 +0200</td>\n",
       "      <td>77</td>\n",
       "      <td>NaN</td>\n",
       "      <td>NaN</td>\n",
       "      <td>NaN</td>\n",
       "    </tr>\n",
       "    <tr>\n",
       "      <th>3</th>\n",
       "      <td>HKQuantityTypeIdentifierBodyMass</td>\n",
       "      <td>Connect</td>\n",
       "      <td>21</td>\n",
       "      <td>kg</td>\n",
       "      <td>2020-08-06 14:41:49 +0200</td>\n",
       "      <td>2020-07-11 00:00:00 +0200</td>\n",
       "      <td>2020-07-11 00:00:00 +0200</td>\n",
       "      <td>76</td>\n",
       "      <td>NaN</td>\n",
       "      <td>NaN</td>\n",
       "      <td>NaN</td>\n",
       "    </tr>\n",
       "    <tr>\n",
       "      <th>4</th>\n",
       "      <td>HKQuantityTypeIdentifierBodyMass</td>\n",
       "      <td>iPhone de Etienne</td>\n",
       "      <td>14.4</td>\n",
       "      <td>kg</td>\n",
       "      <td>2021-03-06 13:26:24 +0200</td>\n",
       "      <td>2021-03-06 13:26:24 +0200</td>\n",
       "      <td>2021-03-06 13:26:24 +0200</td>\n",
       "      <td>79</td>\n",
       "      <td>NaN</td>\n",
       "      <td>NaN</td>\n",
       "      <td>NaN</td>\n",
       "    </tr>\n",
       "  </tbody>\n",
       "</table>\n",
       "</div>"
      ],
      "text/plain": [
       "                              @type        @sourceName @sourceVersion @unit  \\\n",
       "0    HKQuantityTypeIdentifierHeight             SantÃ©         12.4.1    cm   \n",
       "1  HKQuantityTypeIdentifierBodyMass             SantÃ©         12.4.1    kg   \n",
       "2  HKQuantityTypeIdentifierBodyMass            Connect              1    kg   \n",
       "3  HKQuantityTypeIdentifierBodyMass            Connect             21    kg   \n",
       "4  HKQuantityTypeIdentifierBodyMass  iPhone de Etienne           14.4    kg   \n",
       "\n",
       "               @creationDate                 @startDate  \\\n",
       "0  2020-03-12 18:35:08 +0200  2020-03-12 18:35:08 +0200   \n",
       "1  2020-03-12 18:35:08 +0200  2020-03-12 18:35:08 +0200   \n",
       "2  2020-06-17 09:44:12 +0200  2020-05-18 00:00:00 +0200   \n",
       "3  2020-08-06 14:41:49 +0200  2020-07-11 00:00:00 +0200   \n",
       "4  2021-03-06 13:26:24 +0200  2021-03-06 13:26:24 +0200   \n",
       "\n",
       "                    @endDate @value MetadataEntry @device  \\\n",
       "0  2020-03-12 18:35:08 +0200    187           NaN     NaN   \n",
       "1  2020-03-12 18:35:08 +0200     80           NaN     NaN   \n",
       "2  2020-05-18 00:00:00 +0200     77           NaN     NaN   \n",
       "3  2020-07-11 00:00:00 +0200     76           NaN     NaN   \n",
       "4  2021-03-06 13:26:24 +0200     79           NaN     NaN   \n",
       "\n",
       "  HeartRateVariabilityMetadataList  \n",
       "0                              NaN  \n",
       "1                              NaN  \n",
       "2                              NaN  \n",
       "3                              NaN  \n",
       "4                              NaN  "
      ]
     },
     "execution_count": 4,
     "metadata": {},
     "output_type": "execute_result"
    }
   ],
   "source": [
    "df_records.head() #overview of the export in a dataframe "
   ]
  },
  {
   "cell_type": "markdown",
   "id": "20c5e698",
   "metadata": {},
   "source": [
    "So I have now two datasets. \n",
    "\n",
    "One only for workouts. workouts_df\n",
    "\n",
    "One for everything. records_df"
   ]
  },
  {
   "cell_type": "markdown",
   "id": "99dd422a",
   "metadata": {},
   "source": [
    "##### CLEANING df_workouts Steps : \n",
    "\n",
    "1 - Dtype \n",
    "\n",
    "\n",
    "2 - Unit Columns \n",
    "\n",
    "3 - Delete useless columns \n",
    "\n",
    "4 - Rename Columns \n",
    "\n",
    "5 - Rename acitivity Type"
   ]
  },
  {
   "cell_type": "code",
   "execution_count": 5,
   "id": "b1a3d72a",
   "metadata": {},
   "outputs": [],
   "source": [
    "#df_workouts[[\"@duration\", \"@totalDistance\", \"@totalEnergyBurned\"]] = df_workouts[[\"@duration\", \"@totalDistance\", \"@totalEnergyBurned\"]].apply(pd.to_numeric)\n",
    "#df_workouts.dtypes\n",
    "\n",
    "\n",
    "#I used apply to numeric cause these variables were objects before. \n",
    "\n",
    "\n",
    "#Now dates variables  are object so I need first to creat a variable format. Then I use the function to_datetime.\n",
    "#format = '%Y-%m-%d %H:%M:%S %z'\n",
    "#df_workouts['@startDate'] = pd.to_datetime(df_workouts['@startDate'], format=format)\n",
    "#df_workouts['@startDate'] = pd.to_datetime(df_workouts['@startDate'], format=format)\n",
    "#df_workouts['@endDate'] = pd.to_datetime(df_workouts['@endDate'], format=format)\n",
    "#df_workouts['@creationDate'] = pd.to_datetime(df_workouts['@creationDate'], format = format)\n",
    "#df_workouts.dtypes\n",
    "\n",
    "#Columns selection \n",
    "#df_workouts = df_workouts.iloc[:,0:12]\n",
    "#del df_workouts['@sourceName']\n",
    "#del df_workouts['@sourceVersion']\n",
    "#del df_workouts['@durationUnit']\n",
    "#del df_workouts['@totalDistanceUnit']\n",
    "#del df_workouts['@totalEnergyBurnedUnit']\n",
    "\n",
    "#rename\n",
    "#df_workouts.rename(columns = {'@duration':'Duration(min)', '@totalDistance':'totalDistance(km)','@totalEnergyBurned':'totalEnergyBurned(kcal)','@creationDate':'creationDate','@startDate':'startDate','@endDate':'endDate','@workoutActivityType':'ActivityType'}, inplace = True)\n",
    "\n",
    "#rename unique variable in the column \"Activity Type\"\n",
    "#df_workouts[\"ActivityType\"]= df_workouts[\"ActivityType\"].replace(\"HKWorkoutActivityTypeCycling\", \"Cycling\") \n",
    "#df_workouts[\"ActivityType\"]= df_workouts[\"ActivityType\"].replace(\"HKWorkoutActivityTypeRunning\", \"Running\") \n",
    "#df_workouts[\"ActivityType\"]= df_workouts[\"ActivityType\"].replace(\"HKWorkoutActivityTypeWalking\", \"Walking\") \n",
    "#df_workouts[\"ActivityType\"]= df_workouts[\"ActivityType\"].replace(\"HKWorkoutActivityTypeFunctionalStrengthTraining\", \"StrengthTraining\") \n",
    "#df_workouts[\"ActivityType\"]= df_workouts[\"ActivityType\"].replace(\"HKWorkoutActivityTypeSwimming\", \"Swimming\") \n",
    "#df_workouts[\"ActivityType\"]= df_workouts[\"ActivityType\"].replace(\"HKWorkoutActivityTypeYoga\", \"Yoga\") \n",
    "#df_workouts[\"ActivityType\"]= df_workouts[\"ActivityType\"].replace(\"HKWorkoutActivityTypePaddleSports\", \"Kayak\")"
   ]
  },
  {
   "cell_type": "markdown",
   "id": "50383479",
   "metadata": {},
   "source": [
    "# Feature engineering"
   ]
  },
  {
   "cell_type": "markdown",
   "id": "63635b48",
   "metadata": {},
   "source": [
    "Let's create a speed variable"
   ]
  },
  {
   "cell_type": "code",
   "execution_count": 6,
   "id": "f88bd3a3",
   "metadata": {},
   "outputs": [],
   "source": [
    "#df_workouts['hour1'] = df_workouts['startDate'].dt.time df_workouts['hour2'] = df_workouts['endDate'].dt.time\n",
    "\n",
    "#df_workouts[\"deltaT(h)\"] = df_workouts[\"Duration(min)\"]/60\n",
    "\n",
    "#df_workouts[\"averageSpeed(km/h)\"] = df_workouts['totalDistance(km)']/df_workouts[\"deltaT(h)\"]"
   ]
  },
  {
   "cell_type": "markdown",
   "id": "e496d0cd",
   "metadata": {},
   "source": [
    "Let's create a BMI variable"
   ]
  },
  {
   "cell_type": "code",
   "execution_count": 7,
   "id": "d460af60",
   "metadata": {},
   "outputs": [],
   "source": [
    "#Height = df_records[df_records['@type'] == 'HKQuantityTypeIdentifierHeight']\n",
    "#Height = Height[[\"@value\",\"@startDate\",'@endDate']] \n",
    "#Height.rename(columns = {'@value':'Height(cm)','@startDate':'startDate','@endDate':'endDate'}, inplace = True)\n",
    "#format = '%Y-%m-%d %H:%M:%S %z' \n",
    "#Height['startDate'] = pd.to_datetime(Height['startDate'], format=format) \n",
    "#Height['endDate'] = pd.to_datetime(Height['endDate'], format=format) \n",
    "#Height['Height(cm)'] = Height['Height(cm)'].apply(pd.to_numeric) \n",
    "\n",
    "#Weight = df_records[df_records['@type'] == 'HKQuantityTypeIdentifierBodyMass'] Weight = Weight[[\"@value\",\"@startDate\",'@endDate']] Weight.rename(columns = {'@value':'Weight(kg)','@startDate':'startDate','@endDate':'endDate'}, inplace = True) format = '%Y-%m-%d %H:%M:%S %z' Weight['startDate'] = pd.to_datetime(Weight['startDate'], format=format) Weight['endDate'] = pd.to_datetime(Weight['endDate'], format=format) Weight['Weight(kg)'] = Weight['Weight(kg)'].apply(pd.to_numeric) Weight.head()\n",
    "\n",
    "#df = pd.concat([Weight,Height], ignore_index=True)\n",
    "\n",
    "#df['Heihgt(cm)'] = df['Height(cm)'].fillna(187) df.head()\n",
    "\n",
    "#newdf = pd.concat([df_workouts, df ])"
   ]
  },
  {
   "cell_type": "code",
   "execution_count": 8,
   "id": "4831eaa1",
   "metadata": {},
   "outputs": [],
   "source": [
    "#df_workouts['Weight(kg)'] = 0\n",
    "\n",
    "#poids1time = df_workouts.loc[(df_workouts['startDate'] > '2020-03-12 18:35:08+02:00') & (df_workouts['startDate'] < '2020-05-18 00:00:00+02:00')] \n",
    "#poids2time = df_workouts.loc[(df_workouts['startDate'] > '2020-05-18 00:00:00+02:00') & (df_workouts['startDate'] < '2020-07-11 00:00:00+02:00')]\n",
    "#poids3time = df_workouts.loc[(df_workouts['startDate'] > '2020-07-11 00:00:00+02:00') & (df_workouts['startDate'] < '2021-03-06 13:26:24+02:00')]\n",
    "#poids4time = df_workouts.loc[(df_workouts['startDate'] > '2021-03-06 13:26:24+02:00') & (df_workouts['startDate'] < '2022-03-08 10:34:00+02:00')]\n",
    "#poids5time = df_workouts.loc[(df_workouts['startDate'] >= '2022-03-08 10:34:00+02:00')]\n",
    "\n",
    "#poids1time[\"Weight(kg)\"] = 80 \n",
    "#poids2time[\"Weight(kg)\"] = 77\n",
    "#poids3time[\"Weight(kg)\"] = 76 \n",
    "#poids4time[\"Weight(kg)\"] = 79 \n",
    "#poids5time[\"Weight(kg)\"] = 82\n",
    "\n",
    "\n",
    "#frames allows me to concat without problem of index. \n",
    "#frames = [poids1time, poids2time, poids3time, poids4time, poids5time]\n",
    "\n",
    "#finaldf = pd.concat(frames, sort=False)\n",
    "\n",
    "#finaldf\n",
    "\n",
    "#finaldf['Height(cm)'] = 187\n",
    "\n",
    "#finaldf[\"BMI\"] = finaldf[\"Weight(kg)\"]/((finaldf[\"Height(cm)\"]/100)**2) finaldf = finaldf[[\"ActivityType\",\"Duration(min)\",\"totalDistance(km)\",\"totalEnergyBurned(kcal)\",\"averageSpeed(km/h)\",\"BMI\"]] \n",
    "\n",
    "#finaldf.to_csv(\"activity.csv\")"
   ]
  },
  {
   "cell_type": "code",
   "execution_count": 9,
   "id": "10ebaa2c",
   "metadata": {},
   "outputs": [
    {
     "data": {
      "text/html": [
       "<div>\n",
       "<style scoped>\n",
       "    .dataframe tbody tr th:only-of-type {\n",
       "        vertical-align: middle;\n",
       "    }\n",
       "\n",
       "    .dataframe tbody tr th {\n",
       "        vertical-align: top;\n",
       "    }\n",
       "\n",
       "    .dataframe thead th {\n",
       "        text-align: right;\n",
       "    }\n",
       "</style>\n",
       "<table border=\"1\" class=\"dataframe\">\n",
       "  <thead>\n",
       "    <tr style=\"text-align: right;\">\n",
       "      <th></th>\n",
       "      <th>ActivityType</th>\n",
       "      <th>Duration(min)</th>\n",
       "      <th>totalDistance(km)</th>\n",
       "      <th>totalEnergyBurned(kcal)</th>\n",
       "      <th>averageSpeed(km/h)</th>\n",
       "      <th>BMI</th>\n",
       "    </tr>\n",
       "  </thead>\n",
       "  <tbody>\n",
       "    <tr>\n",
       "      <th>0</th>\n",
       "      <td>Cycling</td>\n",
       "      <td>90.871452</td>\n",
       "      <td>28.572670</td>\n",
       "      <td>726.000000</td>\n",
       "      <td>18.865773</td>\n",
       "      <td>22.877406</td>\n",
       "    </tr>\n",
       "    <tr>\n",
       "      <th>1</th>\n",
       "      <td>Cycling</td>\n",
       "      <td>31.131966</td>\n",
       "      <td>10.923420</td>\n",
       "      <td>308.000000</td>\n",
       "      <td>21.052483</td>\n",
       "      <td>22.019503</td>\n",
       "    </tr>\n",
       "    <tr>\n",
       "      <th>2</th>\n",
       "      <td>Cycling</td>\n",
       "      <td>110.181803</td>\n",
       "      <td>37.696500</td>\n",
       "      <td>1040.000000</td>\n",
       "      <td>20.527800</td>\n",
       "      <td>22.019503</td>\n",
       "    </tr>\n",
       "    <tr>\n",
       "      <th>3</th>\n",
       "      <td>Cycling</td>\n",
       "      <td>27.341850</td>\n",
       "      <td>8.905270</td>\n",
       "      <td>241.000000</td>\n",
       "      <td>19.542064</td>\n",
       "      <td>22.019503</td>\n",
       "    </tr>\n",
       "    <tr>\n",
       "      <th>4</th>\n",
       "      <td>Cycling</td>\n",
       "      <td>28.687284</td>\n",
       "      <td>11.584800</td>\n",
       "      <td>358.000000</td>\n",
       "      <td>24.229829</td>\n",
       "      <td>22.019503</td>\n",
       "    </tr>\n",
       "    <tr>\n",
       "      <th>...</th>\n",
       "      <td>...</td>\n",
       "      <td>...</td>\n",
       "      <td>...</td>\n",
       "      <td>...</td>\n",
       "      <td>...</td>\n",
       "      <td>...</td>\n",
       "    </tr>\n",
       "    <tr>\n",
       "      <th>937</th>\n",
       "      <td>Cycling</td>\n",
       "      <td>50.593861</td>\n",
       "      <td>20.186837</td>\n",
       "      <td>505.113894</td>\n",
       "      <td>23.939866</td>\n",
       "      <td>23.449341</td>\n",
       "    </tr>\n",
       "    <tr>\n",
       "      <th>938</th>\n",
       "      <td>Cycling</td>\n",
       "      <td>16.308763</td>\n",
       "      <td>4.551423</td>\n",
       "      <td>75.102000</td>\n",
       "      <td>16.744703</td>\n",
       "      <td>23.449341</td>\n",
       "    </tr>\n",
       "    <tr>\n",
       "      <th>939</th>\n",
       "      <td>Cycling</td>\n",
       "      <td>16.103479</td>\n",
       "      <td>4.541209</td>\n",
       "      <td>75.988000</td>\n",
       "      <td>16.920103</td>\n",
       "      <td>23.449341</td>\n",
       "    </tr>\n",
       "    <tr>\n",
       "      <th>940</th>\n",
       "      <td>Cycling</td>\n",
       "      <td>58.247580</td>\n",
       "      <td>23.191472</td>\n",
       "      <td>563.620278</td>\n",
       "      <td>23.889204</td>\n",
       "      <td>23.449341</td>\n",
       "    </tr>\n",
       "    <tr>\n",
       "      <th>941</th>\n",
       "      <td>Cycling</td>\n",
       "      <td>64.289885</td>\n",
       "      <td>26.115695</td>\n",
       "      <td>632.016175</td>\n",
       "      <td>24.373068</td>\n",
       "      <td>23.449341</td>\n",
       "    </tr>\n",
       "  </tbody>\n",
       "</table>\n",
       "<p>506 rows × 6 columns</p>\n",
       "</div>"
      ],
      "text/plain": [
       "    ActivityType  Duration(min)  totalDistance(km)  totalEnergyBurned(kcal)  \\\n",
       "0        Cycling      90.871452          28.572670               726.000000   \n",
       "1        Cycling      31.131966          10.923420               308.000000   \n",
       "2        Cycling     110.181803          37.696500              1040.000000   \n",
       "3        Cycling      27.341850           8.905270               241.000000   \n",
       "4        Cycling      28.687284          11.584800               358.000000   \n",
       "..           ...            ...                ...                      ...   \n",
       "937      Cycling      50.593861          20.186837               505.113894   \n",
       "938      Cycling      16.308763           4.551423                75.102000   \n",
       "939      Cycling      16.103479           4.541209                75.988000   \n",
       "940      Cycling      58.247580          23.191472               563.620278   \n",
       "941      Cycling      64.289885          26.115695               632.016175   \n",
       "\n",
       "     averageSpeed(km/h)        BMI  \n",
       "0             18.865773  22.877406  \n",
       "1             21.052483  22.019503  \n",
       "2             20.527800  22.019503  \n",
       "3             19.542064  22.019503  \n",
       "4             24.229829  22.019503  \n",
       "..                  ...        ...  \n",
       "937           23.939866  23.449341  \n",
       "938           16.744703  23.449341  \n",
       "939           16.920103  23.449341  \n",
       "940           23.889204  23.449341  \n",
       "941           24.373068  23.449341  \n",
       "\n",
       "[506 rows x 6 columns]"
      ]
     },
     "execution_count": 9,
     "metadata": {},
     "output_type": "execute_result"
    }
   ],
   "source": [
    "df1 = pd.read_csv(\"activity.csv\")\n",
    "\n",
    "#Now for my study I don't need all the unique variable inside the column Activity Type. \n",
    "del df1['Unnamed: 0'] \n",
    "df1 = df1[df1['ActivityType'] != 'StrengthTraining']\n",
    "df1 = df1[df1['ActivityType'] != 'Walking']\n",
    "df1 = df1[df1['ActivityType'] != 'Yoga']\n",
    "df1 = df1[df1['ActivityType'] != 'Kayak']\n",
    "df1 = df1[df1['ActivityType'] != 'Swimming']\n",
    "df1 = df1[df1['ActivityType'] != 'Running']\n",
    "df1 = df1.dropna()\n",
    "df1['ActivityType'].unique()\n",
    "df1"
   ]
  },
  {
   "cell_type": "markdown",
   "id": "805204a5",
   "metadata": {},
   "source": [
    "# Exploratory data analysis"
   ]
  },
  {
   "cell_type": "markdown",
   "id": "164dfb8d",
   "metadata": {},
   "source": [
    "Explore your data set with the research question in mind. Present relevant graphs, tables and numbers with respect to your problem."
   ]
  },
  {
   "cell_type": "code",
   "execution_count": 10,
   "id": "63f4c4cd",
   "metadata": {
    "scrolled": true
   },
   "outputs": [
    {
     "data": {
      "image/png": "[encoded data removed]",
      "text/plain": [
       "<Figure size 900x900 with 30 Axes>"
      ]
     },
     "metadata": {
      "needs_background": "light"
     },
     "output_type": "display_data"
    }
   ],
   "source": [
    "sns.pairplot(df1)\n",
    "plt.show()"
   ]
  },
  {
   "cell_type": "code",
   "execution_count": 11,
   "id": "4460936d",
   "metadata": {},
   "outputs": [
    {
     "data": {
      "image/png": "[encoded data removed]",
      "text/plain": [
       "<Figure size 1008x360 with 1 Axes>"
      ]
     },
     "metadata": {
      "needs_background": "light"
     },
     "output_type": "display_data"
    }
   ],
   "source": [
    "#figure2 = px.scatter(\n",
    "      #  df1, \n",
    "     #   x = \"Duration(min)\",\n",
    "    #    y= \"totalEnergyBurned(kcal)\",\n",
    "   #     title = \"Duration of the ride and Energy Burned\",\n",
    "  #      template = \"presentation\",\n",
    " #       )\n",
    "#figure2.show()\n",
    "\n",
    "plt.figure(figsize=(14, 5))\n",
    "sns.scatterplot(data=df1,\n",
    "                x = \"Duration(min)\",\n",
    "                y = \"totalEnergyBurned(kcal)\"\n",
    "               )\n",
    "\n",
    "plt.title(\"Duration of the ride and Energy Burned\")\n",
    "plt.show()"
   ]
  },
  {
   "cell_type": "markdown",
   "id": "15177fac",
   "metadata": {},
   "source": [
    "The model seems to fit a linear pattern with some outliers. \n",
    "\n",
    "There may not be enough training that lasts more than 200 minutes.\n",
    "\n",
    "The model is probably not as linear as that. The longer the training the less intensive it is. So you burn a lot of calories, but not as fast as on workouts of less than 60 minutes.\n",
    "\n",
    "A study should have been done with cardiac variation. Instead I could take the average speed. Which is a good way to show the intensity. If the playing field and the bike is the same. Which is not the case in this sample. Riding in the mud or riding in a flat country is very different."
   ]
  },
  {
   "cell_type": "code",
   "execution_count": 12,
   "id": "77233e1e",
   "metadata": {},
   "outputs": [
    {
     "data": {
      "image/png": "[encoded data removed]",
      "text/plain": [
       "<Figure size 1008x360 with 1 Axes>"
      ]
     },
     "metadata": {
      "needs_background": "light"
     },
     "output_type": "display_data"
    }
   ],
   "source": [
    "#figure3 = px.scatter(\n",
    "     #   df1, \n",
    "    #    y = \"totalEnergyBurned(kcal)\",\n",
    "   #     x = \"averageSpeed(km/h)\",\n",
    "  #      title = \"Energy Burned and Average Speed \",\n",
    " #       template = \"presentation\",\n",
    "       # )\n",
    "#figure3.show()\n",
    "\n",
    "plt.figure(figsize=(14, 5))\n",
    "sns.scatterplot(data=df1,\n",
    "                x = \"averageSpeed(km/h)\",\n",
    "                y = \"totalEnergyBurned(kcal)\"\n",
    "               )\n",
    "\n",
    "plt.title(\"Energy Burned and Average Speed\")\n",
    "plt.show()"
   ]
  },
  {
   "cell_type": "markdown",
   "id": "c93ec163",
   "metadata": {},
   "source": [
    "This graph is not linear at all. As I said before there is too much factor to the average speed. It's not just about intensity and heart rate"
   ]
  },
  {
   "cell_type": "code",
   "execution_count": 13,
   "id": "ff8574f8",
   "metadata": {
    "scrolled": true
   },
   "outputs": [
    {
     "data": {
      "image/png": "[encoded data removed]",
      "text/plain": [
       "<Figure size 1008x360 with 1 Axes>"
      ]
     },
     "metadata": {
      "needs_background": "light"
     },
     "output_type": "display_data"
    }
   ],
   "source": [
    "#figure4 = px.scatter(\n",
    "      #  df1, \n",
    "     #   y = \"Duration(min)\",\n",
    "    #    x = \"totalDistance(km)\",\n",
    "   #     title = \"The total distance of the ride and his duration\",\n",
    "  #      template = \"presentation\",\n",
    " #       )\n",
    "#figure4.show()\n",
    "\n",
    "\n",
    "plt.figure(figsize=(14, 5))\n",
    "sns.scatterplot(data=df1,\n",
    "                x=\"totalDistance(km)\",\n",
    "                y = \"Duration(min)\"\n",
    "               )\n",
    "\n",
    "plt.title(\"The total distance of the ride and his duration\")\n",
    "plt.show()"
   ]
  },
  {
   "cell_type": "markdown",
   "id": "2f60bf33",
   "metadata": {},
   "source": [
    "This graph seems to show a very linear pattern. I think I can predict a correct value for the Utrecht - Brussels route!"
   ]
  },
  {
   "cell_type": "markdown",
   "id": "186dfa84",
   "metadata": {},
   "source": [
    "# Predictive models"
   ]
  },
  {
   "cell_type": "markdown",
   "id": "3bc572df",
   "metadata": {},
   "source": [
    "I suggest to do a linear regression to predict the duration of my ride Utrecht Brussel and then try a multiple line regression to predict calories burned. "
   ]
  },
  {
   "cell_type": "code",
   "execution_count": 14,
   "id": "ca354ef6",
   "metadata": {},
   "outputs": [
    {
     "data": {
      "image/png": "[encoded data removed]",
      "text/plain": [
       "<Figure size 360x360 with 1 Axes>"
      ]
     },
     "metadata": {
      "needs_background": "light"
     },
     "output_type": "display_data"
    }
   ],
   "source": [
    "sns.lmplot(x='totalDistance(km)', y='Duration(min)', data=df1, ci=False) #ci means \"confidence interval\"\n",
    "plt.title('The total distance of the ride and his duration')\n",
    "plt.show()"
   ]
  },
  {
   "cell_type": "markdown",
   "id": "1253a19d",
   "metadata": {},
   "source": [
    "We want now to determine the coefficients of the line.Let's use sk-learn."
   ]
  },
  {
   "cell_type": "code",
   "execution_count": 15,
   "id": "d38a0f1a",
   "metadata": {},
   "outputs": [
    {
     "name": "stdout",
     "output_type": "stream",
     "text": [
      "The regression line is equal to y = 3.698 + 2.685X\n"
     ]
    }
   ],
   "source": [
    "from sklearn.linear_model import LinearRegression\n",
    "\n",
    "x = df1[['totalDistance(km)']] #independant variable  \n",
    "y = df1['Duration(min)'] #dependant variable\n",
    "lm = LinearRegression() \n",
    "lm.fit(x, y) \n",
    "\n",
    "b0 = lm.intercept_  #intercept represents the value of y when x is 0\n",
    "b1 = lm.coef_[0] #slope coeficient \n",
    "\n",
    "print(f\"The regression line is equal to y = {b0:.3f} + {b1:.3f}X\") "
   ]
  },
  {
   "cell_type": "markdown",
   "id": "fbabb934",
   "metadata": {},
   "source": [
    "$y= 3.698 + 2.685x$"
   ]
  },
  {
   "cell_type": "markdown",
   "id": "8de27cee",
   "metadata": {},
   "source": [
    "There are 175km between Utrecht and Brussels\n",
    "\n",
    "$f(175)= 3.698 + 2.685*175$\n",
    "\n",
    "$f(175)= 473,573$\n",
    "\n",
    "The model predict a faster time than I did (504 minutes). "
   ]
  },
  {
   "cell_type": "code",
   "execution_count": 16,
   "id": "24796ea5",
   "metadata": {},
   "outputs": [
    {
     "data": {
      "text/html": [
       "<div>\n",
       "<style scoped>\n",
       "    .dataframe tbody tr th:only-of-type {\n",
       "        vertical-align: middle;\n",
       "    }\n",
       "\n",
       "    .dataframe tbody tr th {\n",
       "        vertical-align: top;\n",
       "    }\n",
       "\n",
       "    .dataframe thead th {\n",
       "        text-align: right;\n",
       "    }\n",
       "</style>\n",
       "<table border=\"1\" class=\"dataframe\">\n",
       "  <thead>\n",
       "    <tr style=\"text-align: right;\">\n",
       "      <th></th>\n",
       "      <th>ActivityType</th>\n",
       "      <th>Duration(min)</th>\n",
       "      <th>totalDistance(km)</th>\n",
       "      <th>totalEnergyBurned(kcal)</th>\n",
       "      <th>averageSpeed(km/h)</th>\n",
       "      <th>BMI</th>\n",
       "      <th>Duration(min)_p</th>\n",
       "    </tr>\n",
       "  </thead>\n",
       "  <tbody>\n",
       "    <tr>\n",
       "      <th>0</th>\n",
       "      <td>Cycling</td>\n",
       "      <td>90.871452</td>\n",
       "      <td>28.572670</td>\n",
       "      <td>726.0</td>\n",
       "      <td>18.865773</td>\n",
       "      <td>22.877406</td>\n",
       "      <td>80.401757</td>\n",
       "    </tr>\n",
       "    <tr>\n",
       "      <th>1</th>\n",
       "      <td>Cycling</td>\n",
       "      <td>31.131966</td>\n",
       "      <td>10.923420</td>\n",
       "      <td>308.0</td>\n",
       "      <td>21.052483</td>\n",
       "      <td>22.019503</td>\n",
       "      <td>33.021872</td>\n",
       "    </tr>\n",
       "    <tr>\n",
       "      <th>2</th>\n",
       "      <td>Cycling</td>\n",
       "      <td>110.181803</td>\n",
       "      <td>37.696500</td>\n",
       "      <td>1040.0</td>\n",
       "      <td>20.527800</td>\n",
       "      <td>22.019503</td>\n",
       "      <td>104.894924</td>\n",
       "    </tr>\n",
       "    <tr>\n",
       "      <th>3</th>\n",
       "      <td>Cycling</td>\n",
       "      <td>27.341850</td>\n",
       "      <td>8.905270</td>\n",
       "      <td>241.0</td>\n",
       "      <td>19.542064</td>\n",
       "      <td>22.019503</td>\n",
       "      <td>27.604093</td>\n",
       "    </tr>\n",
       "    <tr>\n",
       "      <th>4</th>\n",
       "      <td>Cycling</td>\n",
       "      <td>28.687284</td>\n",
       "      <td>11.584800</td>\n",
       "      <td>358.0</td>\n",
       "      <td>24.229829</td>\n",
       "      <td>22.019503</td>\n",
       "      <td>34.797364</td>\n",
       "    </tr>\n",
       "    <tr>\n",
       "      <th>5</th>\n",
       "      <td>Cycling</td>\n",
       "      <td>86.214966</td>\n",
       "      <td>29.150439</td>\n",
       "      <td>745.0</td>\n",
       "      <td>20.286807</td>\n",
       "      <td>22.019503</td>\n",
       "      <td>81.952795</td>\n",
       "    </tr>\n",
       "    <tr>\n",
       "      <th>6</th>\n",
       "      <td>Cycling</td>\n",
       "      <td>64.238184</td>\n",
       "      <td>19.697660</td>\n",
       "      <td>513.0</td>\n",
       "      <td>18.398086</td>\n",
       "      <td>22.019503</td>\n",
       "      <td>56.576555</td>\n",
       "    </tr>\n",
       "    <tr>\n",
       "      <th>7</th>\n",
       "      <td>Cycling</td>\n",
       "      <td>120.447201</td>\n",
       "      <td>46.290988</td>\n",
       "      <td>1370.0</td>\n",
       "      <td>23.059559</td>\n",
       "      <td>22.019503</td>\n",
       "      <td>127.967058</td>\n",
       "    </tr>\n",
       "    <tr>\n",
       "      <th>8</th>\n",
       "      <td>Cycling</td>\n",
       "      <td>46.367834</td>\n",
       "      <td>13.594530</td>\n",
       "      <td>349.0</td>\n",
       "      <td>17.591329</td>\n",
       "      <td>22.019503</td>\n",
       "      <td>40.192539</td>\n",
       "    </tr>\n",
       "    <tr>\n",
       "      <th>9</th>\n",
       "      <td>Cycling</td>\n",
       "      <td>86.490031</td>\n",
       "      <td>30.111570</td>\n",
       "      <td>789.0</td>\n",
       "      <td>20.889046</td>\n",
       "      <td>22.019503</td>\n",
       "      <td>84.532976</td>\n",
       "    </tr>\n",
       "  </tbody>\n",
       "</table>\n",
       "</div>"
      ],
      "text/plain": [
       "  ActivityType  Duration(min)  totalDistance(km)  totalEnergyBurned(kcal)  \\\n",
       "0      Cycling      90.871452          28.572670                    726.0   \n",
       "1      Cycling      31.131966          10.923420                    308.0   \n",
       "2      Cycling     110.181803          37.696500                   1040.0   \n",
       "3      Cycling      27.341850           8.905270                    241.0   \n",
       "4      Cycling      28.687284          11.584800                    358.0   \n",
       "5      Cycling      86.214966          29.150439                    745.0   \n",
       "6      Cycling      64.238184          19.697660                    513.0   \n",
       "7      Cycling     120.447201          46.290988                   1370.0   \n",
       "8      Cycling      46.367834          13.594530                    349.0   \n",
       "9      Cycling      86.490031          30.111570                    789.0   \n",
       "\n",
       "   averageSpeed(km/h)        BMI  Duration(min)_p  \n",
       "0           18.865773  22.877406        80.401757  \n",
       "1           21.052483  22.019503        33.021872  \n",
       "2           20.527800  22.019503       104.894924  \n",
       "3           19.542064  22.019503        27.604093  \n",
       "4           24.229829  22.019503        34.797364  \n",
       "5           20.286807  22.019503        81.952795  \n",
       "6           18.398086  22.019503        56.576555  \n",
       "7           23.059559  22.019503       127.967058  \n",
       "8           17.591329  22.019503        40.192539  \n",
       "9           20.889046  22.019503        84.532976  "
      ]
     },
     "execution_count": 16,
     "metadata": {},
     "output_type": "execute_result"
    }
   ],
   "source": [
    "df1['Duration(min)_p'] = lm.predict(x) #use built-in predict() method to generate predictions; store in original dataframe\n",
    "df1.head(10)"
   ]
  },
  {
   "cell_type": "markdown",
   "id": "b55d77de",
   "metadata": {},
   "source": [
    "Some predictions are right, some not so much!"
   ]
  },
  {
   "cell_type": "markdown",
   "id": "fb82173d",
   "metadata": {},
   "source": [
    "Let's now work on calories. With multiple linear regression."
   ]
  },
  {
   "cell_type": "code",
   "execution_count": 17,
   "id": "d603f156",
   "metadata": {
    "scrolled": true
   },
   "outputs": [
    {
     "data": {
      "text/html": [
       "<div>\n",
       "<style scoped>\n",
       "    .dataframe tbody tr th:only-of-type {\n",
       "        vertical-align: middle;\n",
       "    }\n",
       "\n",
       "    .dataframe tbody tr th {\n",
       "        vertical-align: top;\n",
       "    }\n",
       "\n",
       "    .dataframe thead th {\n",
       "        text-align: right;\n",
       "    }\n",
       "</style>\n",
       "<table border=\"1\" class=\"dataframe\">\n",
       "  <thead>\n",
       "    <tr style=\"text-align: right;\">\n",
       "      <th></th>\n",
       "      <th>Duration(min)</th>\n",
       "      <th>totalDistance(km)</th>\n",
       "      <th>totalEnergyBurned(kcal)</th>\n",
       "      <th>averageSpeed(km/h)</th>\n",
       "      <th>BMI</th>\n",
       "      <th>Duration(min)_p</th>\n",
       "    </tr>\n",
       "  </thead>\n",
       "  <tbody>\n",
       "    <tr>\n",
       "      <th>Duration(min)</th>\n",
       "      <td>1.000000</td>\n",
       "      <td>0.958182</td>\n",
       "      <td>0.914008</td>\n",
       "      <td>0.119973</td>\n",
       "      <td>-0.110866</td>\n",
       "      <td>0.958182</td>\n",
       "    </tr>\n",
       "    <tr>\n",
       "      <th>totalDistance(km)</th>\n",
       "      <td>0.958182</td>\n",
       "      <td>1.000000</td>\n",
       "      <td>0.978819</td>\n",
       "      <td>0.315404</td>\n",
       "      <td>-0.108086</td>\n",
       "      <td>1.000000</td>\n",
       "    </tr>\n",
       "    <tr>\n",
       "      <th>totalEnergyBurned(kcal)</th>\n",
       "      <td>0.914008</td>\n",
       "      <td>0.978819</td>\n",
       "      <td>1.000000</td>\n",
       "      <td>0.351433</td>\n",
       "      <td>-0.143733</td>\n",
       "      <td>0.978819</td>\n",
       "    </tr>\n",
       "    <tr>\n",
       "      <th>averageSpeed(km/h)</th>\n",
       "      <td>0.119973</td>\n",
       "      <td>0.315404</td>\n",
       "      <td>0.351433</td>\n",
       "      <td>1.000000</td>\n",
       "      <td>-0.172220</td>\n",
       "      <td>0.315404</td>\n",
       "    </tr>\n",
       "    <tr>\n",
       "      <th>BMI</th>\n",
       "      <td>-0.110866</td>\n",
       "      <td>-0.108086</td>\n",
       "      <td>-0.143733</td>\n",
       "      <td>-0.172220</td>\n",
       "      <td>1.000000</td>\n",
       "      <td>-0.108086</td>\n",
       "    </tr>\n",
       "    <tr>\n",
       "      <th>Duration(min)_p</th>\n",
       "      <td>0.958182</td>\n",
       "      <td>1.000000</td>\n",
       "      <td>0.978819</td>\n",
       "      <td>0.315404</td>\n",
       "      <td>-0.108086</td>\n",
       "      <td>1.000000</td>\n",
       "    </tr>\n",
       "  </tbody>\n",
       "</table>\n",
       "</div>"
      ],
      "text/plain": [
       "                         Duration(min)  totalDistance(km)  \\\n",
       "Duration(min)                 1.000000           0.958182   \n",
       "totalDistance(km)             0.958182           1.000000   \n",
       "totalEnergyBurned(kcal)       0.914008           0.978819   \n",
       "averageSpeed(km/h)            0.119973           0.315404   \n",
       "BMI                          -0.110866          -0.108086   \n",
       "Duration(min)_p               0.958182           1.000000   \n",
       "\n",
       "                         totalEnergyBurned(kcal)  averageSpeed(km/h)  \\\n",
       "Duration(min)                           0.914008            0.119973   \n",
       "totalDistance(km)                       0.978819            0.315404   \n",
       "totalEnergyBurned(kcal)                 1.000000            0.351433   \n",
       "averageSpeed(km/h)                      0.351433            1.000000   \n",
       "BMI                                    -0.143733           -0.172220   \n",
       "Duration(min)_p                         0.978819            0.315404   \n",
       "\n",
       "                              BMI  Duration(min)_p  \n",
       "Duration(min)           -0.110866         0.958182  \n",
       "totalDistance(km)       -0.108086         1.000000  \n",
       "totalEnergyBurned(kcal) -0.143733         0.978819  \n",
       "averageSpeed(km/h)      -0.172220         0.315404  \n",
       "BMI                      1.000000        -0.108086  \n",
       "Duration(min)_p         -0.108086         1.000000  "
      ]
     },
     "execution_count": 17,
     "metadata": {},
     "output_type": "execute_result"
    }
   ],
   "source": [
    "df1.corr()"
   ]
  },
  {
   "cell_type": "markdown",
   "id": "6d803841",
   "metadata": {},
   "source": [
    "1–0.8 → Very strong\n",
    "\n",
    "0.799–0.6 → Strong\n",
    "\n",
    "0.599–0.4 → Moderate\n",
    "\n",
    "0.399–0.2 → Weak\n",
    "\n",
    "0.199–0 → Very Weak"
   ]
  },
  {
   "cell_type": "code",
   "execution_count": 18,
   "id": "1767385b",
   "metadata": {},
   "outputs": [
    {
     "name": "stdout",
     "output_type": "stream",
     "text": [
      "(0.914008163765792, 1.3256977968818672e-199)\n",
      "(0.9788188760015909, 0.0)\n"
     ]
    }
   ],
   "source": [
    "from scipy.stats.stats import pearsonr\n",
    "print(pearsonr(df1['totalEnergyBurned(kcal)'],df1['Duration(min)']))\n",
    "print(pearsonr(df1['totalEnergyBurned(kcal)'],df1['totalDistance(km)']))"
   ]
  },
  {
   "cell_type": "markdown",
   "id": "fc3165a2",
   "metadata": {},
   "source": [
    "p < 0 (\"A low p-value shows that the effect is large or that the result is of major theoretical, clinical or practical importance.\")\n",
    "\n",
    "A p-value higher than 0.05 (> 0.05) is not statistically significant and indicates strong evidence for the null hypothesis. This means we retain the null hypothesis and reject the alternative hypothesis. You should note that you cannot accept the null hypothesis, we can only reject the null or fail to reject it."
   ]
  },
  {
   "cell_type": "markdown",
   "id": "a7b23370",
   "metadata": {},
   "source": [
    "##### Dependant variable ?"
   ]
  },
  {
   "cell_type": "code",
   "execution_count": 19,
   "id": "34c03f45",
   "metadata": {},
   "outputs": [
    {
     "data": {
      "text/plain": [
       "0     726.0\n",
       "1     308.0\n",
       "2    1040.0\n",
       "3     241.0\n",
       "4     358.0\n",
       "Name: totalEnergyBurned(kcal), dtype: float64"
      ]
     },
     "execution_count": 19,
     "metadata": {},
     "output_type": "execute_result"
    }
   ],
   "source": [
    "y = df1['totalEnergyBurned(kcal)'] \n",
    "y.dropna(inplace=True)\n",
    "y.head()"
   ]
  },
  {
   "cell_type": "markdown",
   "id": "0fa93b06",
   "metadata": {},
   "source": [
    "##### independant variable ?"
   ]
  },
  {
   "cell_type": "code",
   "execution_count": 20,
   "id": "a1a73f9d",
   "metadata": {},
   "outputs": [
    {
     "data": {
      "text/html": [
       "<div>\n",
       "<style scoped>\n",
       "    .dataframe tbody tr th:only-of-type {\n",
       "        vertical-align: middle;\n",
       "    }\n",
       "\n",
       "    .dataframe tbody tr th {\n",
       "        vertical-align: top;\n",
       "    }\n",
       "\n",
       "    .dataframe thead th {\n",
       "        text-align: right;\n",
       "    }\n",
       "</style>\n",
       "<table border=\"1\" class=\"dataframe\">\n",
       "  <thead>\n",
       "    <tr style=\"text-align: right;\">\n",
       "      <th></th>\n",
       "      <th>totalDistance(km)</th>\n",
       "      <th>Duration(min)</th>\n",
       "    </tr>\n",
       "  </thead>\n",
       "  <tbody>\n",
       "    <tr>\n",
       "      <th>0</th>\n",
       "      <td>28.57267</td>\n",
       "      <td>90.871452</td>\n",
       "    </tr>\n",
       "    <tr>\n",
       "      <th>1</th>\n",
       "      <td>10.92342</td>\n",
       "      <td>31.131966</td>\n",
       "    </tr>\n",
       "    <tr>\n",
       "      <th>2</th>\n",
       "      <td>37.69650</td>\n",
       "      <td>110.181803</td>\n",
       "    </tr>\n",
       "    <tr>\n",
       "      <th>3</th>\n",
       "      <td>8.90527</td>\n",
       "      <td>27.341850</td>\n",
       "    </tr>\n",
       "    <tr>\n",
       "      <th>4</th>\n",
       "      <td>11.58480</td>\n",
       "      <td>28.687284</td>\n",
       "    </tr>\n",
       "  </tbody>\n",
       "</table>\n",
       "</div>"
      ],
      "text/plain": [
       "   totalDistance(km)  Duration(min)\n",
       "0           28.57267      90.871452\n",
       "1           10.92342      31.131966\n",
       "2           37.69650     110.181803\n",
       "3            8.90527      27.341850\n",
       "4           11.58480      28.687284"
      ]
     },
     "execution_count": 20,
     "metadata": {},
     "output_type": "execute_result"
    }
   ],
   "source": [
    "X = df1[['totalDistance(km)','Duration(min)']]\n",
    "X.head()"
   ]
  },
  {
   "cell_type": "markdown",
   "id": "c9fbd350",
   "metadata": {},
   "source": [
    " Now that we have our dependant and independants values, let's split the data into a training set and a test set."
   ]
  },
  {
   "cell_type": "code",
   "execution_count": 21,
   "id": "44f8575b",
   "metadata": {},
   "outputs": [
    {
     "data": {
      "text/html": [
       "<div>\n",
       "<style scoped>\n",
       "    .dataframe tbody tr th:only-of-type {\n",
       "        vertical-align: middle;\n",
       "    }\n",
       "\n",
       "    .dataframe tbody tr th {\n",
       "        vertical-align: top;\n",
       "    }\n",
       "\n",
       "    .dataframe thead th {\n",
       "        text-align: right;\n",
       "    }\n",
       "</style>\n",
       "<table border=\"1\" class=\"dataframe\">\n",
       "  <thead>\n",
       "    <tr style=\"text-align: right;\">\n",
       "      <th></th>\n",
       "      <th>totalDistance(km)</th>\n",
       "      <th>Duration(min)</th>\n",
       "    </tr>\n",
       "  </thead>\n",
       "  <tbody>\n",
       "    <tr>\n",
       "      <th>13</th>\n",
       "      <td>24.710430</td>\n",
       "      <td>89.005835</td>\n",
       "    </tr>\n",
       "    <tr>\n",
       "      <th>70</th>\n",
       "      <td>6.246100</td>\n",
       "      <td>16.766667</td>\n",
       "    </tr>\n",
       "    <tr>\n",
       "      <th>705</th>\n",
       "      <td>4.529225</td>\n",
       "      <td>12.687909</td>\n",
       "    </tr>\n",
       "    <tr>\n",
       "      <th>39</th>\n",
       "      <td>28.593230</td>\n",
       "      <td>75.694132</td>\n",
       "    </tr>\n",
       "    <tr>\n",
       "      <th>685</th>\n",
       "      <td>21.413135</td>\n",
       "      <td>62.236906</td>\n",
       "    </tr>\n",
       "  </tbody>\n",
       "</table>\n",
       "</div>"
      ],
      "text/plain": [
       "     totalDistance(km)  Duration(min)\n",
       "13           24.710430      89.005835\n",
       "70            6.246100      16.766667\n",
       "705           4.529225      12.687909\n",
       "39           28.593230      75.694132\n",
       "685          21.413135      62.236906"
      ]
     },
     "execution_count": 21,
     "metadata": {},
     "output_type": "execute_result"
    }
   ],
   "source": [
    "X_train, X_test, y_train, y_test = train_test_split(X, y, test_size=0.3, random_state=1) \n",
    "X_train.head() "
   ]
  },
  {
   "cell_type": "markdown",
   "id": "ae76c687",
   "metadata": {},
   "source": [
    "let's see how the linear model is working "
   ]
  },
  {
   "cell_type": "code",
   "execution_count": 22,
   "id": "86daf999",
   "metadata": {},
   "outputs": [],
   "source": [
    "lm = LinearRegression() \n",
    "model = lm.fit(X_train, y_train) "
   ]
  },
  {
   "cell_type": "code",
   "execution_count": 23,
   "id": "90ac1745",
   "metadata": {},
   "outputs": [
    {
     "data": {
      "text/html": [
       "<div>\n",
       "<style scoped>\n",
       "    .dataframe tbody tr th:only-of-type {\n",
       "        vertical-align: middle;\n",
       "    }\n",
       "\n",
       "    .dataframe tbody tr th {\n",
       "        vertical-align: top;\n",
       "    }\n",
       "\n",
       "    .dataframe thead th {\n",
       "        text-align: right;\n",
       "    }\n",
       "</style>\n",
       "<table border=\"1\" class=\"dataframe\">\n",
       "  <thead>\n",
       "    <tr style=\"text-align: right;\">\n",
       "      <th></th>\n",
       "      <th>0</th>\n",
       "    </tr>\n",
       "  </thead>\n",
       "  <tbody>\n",
       "    <tr>\n",
       "      <th>39.563818</th>\n",
       "      <td>totalDistance(km)</td>\n",
       "    </tr>\n",
       "    <tr>\n",
       "      <th>-4.204279</th>\n",
       "      <td>Duration(min)</td>\n",
       "    </tr>\n",
       "  </tbody>\n",
       "</table>\n",
       "</div>"
      ],
      "text/plain": [
       "                            0\n",
       " 39.563818  totalDistance(km)\n",
       "-4.204279       Duration(min)"
      ]
     },
     "execution_count": 23,
     "metadata": {},
     "output_type": "execute_result"
    }
   ],
   "source": [
    "coef = pd.DataFrame(X.columns.values, lm.coef_) \n",
    "coef"
   ]
  },
  {
   "cell_type": "markdown",
   "id": "80511528",
   "metadata": {},
   "source": [
    "Each km it'as add 39kcal and each minutes it removes 4kcal. "
   ]
  },
  {
   "cell_type": "code",
   "execution_count": 24,
   "id": "cf3acd40",
   "metadata": {},
   "outputs": [
    {
     "data": {
      "text/plain": [
       "1.4505593427305712"
      ]
     },
     "execution_count": 24,
     "metadata": {},
     "output_type": "execute_result"
    }
   ],
   "source": [
    "intercept = lm.intercept_\n",
    "intercept"
   ]
  },
  {
   "cell_type": "markdown",
   "id": "9fd9b6ef",
   "metadata": {},
   "source": [
    "#### FUNCTION TIME\n",
    "\n",
    "#### Towards Data Science's code (4)"
   ]
  },
  {
   "cell_type": "markdown",
   "id": "7c43ef1f",
   "metadata": {},
   "source": [
    "$Y’i = b0 + b1X1i + b2X2i$"
   ]
  },
  {
   "cell_type": "markdown",
   "id": "966a112c",
   "metadata": {},
   "source": [
    "b0 = 1,45\n",
    "\n",
    "b1 = 39,56 (distance)\n",
    "B2 = -4,20 (duration)"
   ]
  },
  {
   "cell_type": "markdown",
   "id": "1dda3fbc",
   "metadata": {},
   "source": [
    "$Y = 1,45 + 39,56x1- 4,20x2$"
   ]
  },
  {
   "cell_type": "markdown",
   "id": "44eb0473",
   "metadata": {},
   "source": [
    "So how many calories for \n",
    "504 minutes\n",
    "175,97km\n",
    "\n",
    "$Y = 1,45 + 39,56*(175,97)- 4,20*(504)$\n",
    "$Y = 1,45 + 6961,37 - 2116,8)$\n",
    "$Y = 4846,02$\n",
    "\n",
    "Kcal activity : 3829\n",
    "Total Kcal 4706, This is not about this data cause I check my apple health app and the  dataset. \n",
    "\n",
    "my y variable is total energy burned(kcal) during the activity \n",
    "\n",
    "There is thus a big difference, lets evaluate the performance. "
   ]
  },
  {
   "cell_type": "markdown",
   "id": "da3ff1b4",
   "metadata": {},
   "source": [
    "#### Another way to evaluate the performance of our modele"
   ]
  },
  {
   "cell_type": "markdown",
   "id": "93bc14fd",
   "metadata": {},
   "source": [
    "How to look at the model performance ? \n",
    "\n",
    "We need to generate predictions and calculate the R^2 and RMSE."
   ]
  },
  {
   "cell_type": "code",
   "execution_count": 25,
   "id": "a8cb2ed0",
   "metadata": {},
   "outputs": [
    {
     "data": {
      "text/plain": [
       "0.8934303069169048"
      ]
     },
     "execution_count": 25,
     "metadata": {},
     "output_type": "execute_result"
    }
   ],
   "source": [
    "y_test_p = lm.predict(X_test) \n",
    "r2_score(y_test, y_test_p)"
   ]
  },
  {
   "cell_type": "markdown",
   "id": "71b2aac1",
   "metadata": {},
   "source": [
    "The R^2 is 0.89, which means 89% of the variation in kcal is explained by the model. "
   ]
  },
  {
   "cell_type": "markdown",
   "id": "f1fd1fc5",
   "metadata": {},
   "source": [
    "now we have to calculate : RMSE : root mean square error"
   ]
  },
  {
   "cell_type": "code",
   "execution_count": 26,
   "id": "ea047bf1",
   "metadata": {},
   "outputs": [
    {
     "data": {
      "text/plain": [
       "109.21938846055336"
      ]
     },
     "execution_count": 26,
     "metadata": {},
     "output_type": "execute_result"
    }
   ],
   "source": [
    "math.sqrt(mean_squared_error(y_test, y_test_p))"
   ]
  },
  {
   "cell_type": "markdown",
   "id": "4d53a69c",
   "metadata": {},
   "source": [
    "We have errors of + or - 109 kcal. "
   ]
  },
  {
   "cell_type": "code",
   "execution_count": 27,
   "id": "733c78ff",
   "metadata": {},
   "outputs": [
    {
     "name": "stderr",
     "output_type": "stream",
     "text": [
      "C:\\Users\\etien\\anaconda3\\lib\\site-packages\\seaborn\\_decorators.py:36: FutureWarning:\n",
      "\n",
      "Pass the following variables as keyword args: x, y. From version 0.12, the only valid positional argument will be `data`, and passing other arguments without an explicit keyword will result in an error or misinterpretation.\n",
      "\n"
     ]
    },
    {
     "data": {
      "image/png": "[encoded data removed]",
      "text/plain": [
       "<Figure size 432x288 with 1 Axes>"
      ]
     },
     "metadata": {
      "needs_background": "light"
     },
     "output_type": "display_data"
    }
   ],
   "source": [
    "sns.scatterplot(y_test, y_test_p)\n",
    "plt.xlabel('Actual Calories Burned')\n",
    "plt.ylabel('Predicted Calories Burned')\n",
    "plt.xlim([100,2000]) \n",
    "plt.ylim([100,2000])\n",
    "plt.plot([100, 2000], [100, 2000], color='red', lw=2) \n",
    "plt.show()"
   ]
  },
  {
   "cell_type": "markdown",
   "id": "5fabaf12",
   "metadata": {},
   "source": [
    "The model is doing a fine job. "
   ]
  },
  {
   "cell_type": "markdown",
   "id": "69e107c8",
   "metadata": {},
   "source": [
    "Perhaps there are errors to predict correctly this activity Utrecht - Brussels because I wasn't alone. Also we did lots of breaks. So I think Utrecht - Brussels activivity would have been an outlier in this chart. "
   ]
  },
  {
   "cell_type": "markdown",
   "id": "63f73aaa",
   "metadata": {},
   "source": [
    "# Conclusion"
   ]
  },
  {
   "cell_type": "markdown",
   "id": "4fa70616",
   "metadata": {},
   "source": [
    "I read this very interesting study recently. About the way the apple watch calculates the calories spent in activity. The study concludes that the calculations are poor. "
   ]
  },
  {
   "cell_type": "markdown",
   "id": "32014669",
   "metadata": {},
   "source": [
    "\"We assessed, in a controlled laboratory setting, the reliability of seven wrist-worn devices in a diverse group of individuals performing walking, running and cycling at low and high intensity. We found that in most settings, heart rate measurements were within acceptable error range (5%). In contrast, none of the devices provided estimates of energy expenditure that were within an acceptable range in any setting. Individuals and practitioners should be aware of the strengths and limitations of consumer devices that measure heart rate and estimate energy expenditure.\"\n",
    "\n",
    "https://www.mdpi.com/2075-4426/7/2/3/htm\n"
   ]
  },
  {
   "cell_type": "markdown",
   "id": "f8b6cafc",
   "metadata": {},
   "source": [
    "Nevertheless we can always predict. The predictions are good in relation to this calorie calculation model. \n",
    "\n",
    "In these predictions we have seen that Utrecht Brussel activity is an outlier. "
   ]
  },
  {
   "cell_type": "markdown",
   "id": "3387fc2e",
   "metadata": {},
   "source": [
    "Brussels Journey data : \n",
    "\n",
    "Duration : 504 minutes\n",
    "Predicted duration : 473 minutes\n",
    "\n",
    "Kcal activity : 3829\n",
    "Predicted Kcal activity  : 4846,02"
   ]
  },
  {
   "cell_type": "markdown",
   "id": "8a1f2ab8",
   "metadata": {},
   "source": [
    "# Bonus data learning visualization, Daily BPM average along the year"
   ]
  },
  {
   "cell_type": "markdown",
   "id": "cd7e109b",
   "metadata": {},
   "source": [
    "I wanted to work with workouts, and heart rates, sadly I did'nt manage to link in the same dataframe. So I decided to make a cool graphic. Where we can visualize and learn a lot from it. "
   ]
  },
  {
   "cell_type": "markdown",
   "id": "56c89c30",
   "metadata": {},
   "source": [
    "I was browsing the reddit named \"dataisbeautiful\". And I saw this pretty funny post : https://www.reddit.com/r/dataisbeautiful/comments/p5o7wo/oc_my_average_heart_rate_along_the_day_data/\n",
    "\n",
    "reddit's inspirations (3)"
   ]
  },
  {
   "cell_type": "markdown",
   "id": "f506af3f",
   "metadata": {},
   "source": [
    "With this kind of graphic you could know so much about the author of the publication. So I wanted to try the method on myself. There was no source code provided so it was a nice challenge. In particular the for loop!"
   ]
  },
  {
   "cell_type": "markdown",
   "id": "0e272dad",
   "metadata": {},
   "source": [
    "Get the heart rates values. references(2)"
   ]
  },
  {
   "cell_type": "code",
   "execution_count": 28,
   "id": "deb42f75",
   "metadata": {},
   "outputs": [
    {
     "data": {
      "text/html": [
       "<div>\n",
       "<style scoped>\n",
       "    .dataframe tbody tr th:only-of-type {\n",
       "        vertical-align: middle;\n",
       "    }\n",
       "\n",
       "    .dataframe tbody tr th {\n",
       "        vertical-align: top;\n",
       "    }\n",
       "\n",
       "    .dataframe thead th {\n",
       "        text-align: right;\n",
       "    }\n",
       "</style>\n",
       "<table border=\"1\" class=\"dataframe\">\n",
       "  <thead>\n",
       "    <tr style=\"text-align: right;\">\n",
       "      <th></th>\n",
       "      <th>dt</th>\n",
       "      <th>bpm</th>\n",
       "    </tr>\n",
       "  </thead>\n",
       "  <tbody>\n",
       "    <tr>\n",
       "      <th>0</th>\n",
       "      <td>2021-03-06 13:27:34</td>\n",
       "      <td>88</td>\n",
       "    </tr>\n",
       "    <tr>\n",
       "      <th>1</th>\n",
       "      <td>2021-03-06 13:32:23</td>\n",
       "      <td>67</td>\n",
       "    </tr>\n",
       "    <tr>\n",
       "      <th>2</th>\n",
       "      <td>2021-03-06 13:38:29</td>\n",
       "      <td>74</td>\n",
       "    </tr>\n",
       "    <tr>\n",
       "      <th>3</th>\n",
       "      <td>2021-03-06 13:38:34</td>\n",
       "      <td>75</td>\n",
       "    </tr>\n",
       "    <tr>\n",
       "      <th>4</th>\n",
       "      <td>2021-03-06 13:38:39</td>\n",
       "      <td>74</td>\n",
       "    </tr>\n",
       "  </tbody>\n",
       "</table>\n",
       "</div>"
      ],
      "text/plain": [
       "                    dt  bpm\n",
       "0  2021-03-06 13:27:34   88\n",
       "1  2021-03-06 13:32:23   67\n",
       "2  2021-03-06 13:38:29   74\n",
       "3  2021-03-06 13:38:34   75\n",
       "4  2021-03-06 13:38:39   74"
      ]
     },
     "execution_count": 28,
     "metadata": {},
     "output_type": "execute_result"
    }
   ],
   "source": [
    "import re\n",
    "import csv\n",
    "\n",
    "file_name = 'export.xml'\n",
    "pattern = '^.*IdentifierHeartRate\".*startDate=\"(.{19}).*value=\"([0-9]*).*$'\n",
    "\n",
    "with open('hr_export.csv', 'w') as f:\n",
    "    writer = csv.writer(f)\n",
    "    writer.writerow(['dt', 'bpm'])\n",
    "\n",
    "    with open(file_name, 'r') as f2:\n",
    "        for line in f2:\n",
    "            search = re.search(pattern, line)\n",
    "            if search is not None:\n",
    "                writer.writerow([search.group(1), search.group(2)])\n",
    "                \n",
    "dfhr = pd.read_csv(\"hr_export.csv\")\n",
    "dfhr.head()\n",
    "\n",
    "#github's code (2)"
   ]
  },
  {
   "cell_type": "markdown",
   "id": "de6d980a",
   "metadata": {},
   "source": [
    "#### cleaning : "
   ]
  },
  {
   "cell_type": "markdown",
   "id": "3a78b4f7",
   "metadata": {},
   "source": [
    "So we need to clean these values. \n",
    "\n",
    "Dates need to be numbers to subset them.\n",
    "\n",
    "Then I can find average heart bpm each day of the week over each time interval \n",
    "\n",
    "I want to know for exemple : how many heart bpm on mondays between 8 and 8:30\n",
    "\n",
    "Obtain Heart Rate values (Applewash's notebook) file : \"hr_export.csv\", title : \"Getting BPM values\"\n",
    "\n",
    "Creation of daily average (Cleaning Data2's notebook) thanks to a for loop and those functions : deltatime, datetime, between_time, strftime..."
   ]
  },
  {
   "cell_type": "code",
   "execution_count": 29,
   "id": "578955fa",
   "metadata": {},
   "outputs": [
    {
     "data": {
      "text/html": [
       "<div>\n",
       "<style scoped>\n",
       "    .dataframe tbody tr th:only-of-type {\n",
       "        vertical-align: middle;\n",
       "    }\n",
       "\n",
       "    .dataframe tbody tr th {\n",
       "        vertical-align: top;\n",
       "    }\n",
       "\n",
       "    .dataframe thead th {\n",
       "        text-align: right;\n",
       "    }\n",
       "</style>\n",
       "<table border=\"1\" class=\"dataframe\">\n",
       "  <thead>\n",
       "    <tr style=\"text-align: right;\">\n",
       "      <th></th>\n",
       "      <th>dt</th>\n",
       "      <th>bpm</th>\n",
       "      <th>day_of_week_in_number</th>\n",
       "    </tr>\n",
       "  </thead>\n",
       "  <tbody>\n",
       "    <tr>\n",
       "      <th>0</th>\n",
       "      <td>2021-03-06 13:27:34</td>\n",
       "      <td>88</td>\n",
       "      <td>5</td>\n",
       "    </tr>\n",
       "    <tr>\n",
       "      <th>1</th>\n",
       "      <td>2021-03-06 13:32:23</td>\n",
       "      <td>67</td>\n",
       "      <td>5</td>\n",
       "    </tr>\n",
       "    <tr>\n",
       "      <th>2</th>\n",
       "      <td>2021-03-06 13:38:29</td>\n",
       "      <td>74</td>\n",
       "      <td>5</td>\n",
       "    </tr>\n",
       "    <tr>\n",
       "      <th>3</th>\n",
       "      <td>2021-03-06 13:38:34</td>\n",
       "      <td>75</td>\n",
       "      <td>5</td>\n",
       "    </tr>\n",
       "    <tr>\n",
       "      <th>4</th>\n",
       "      <td>2021-03-06 13:38:39</td>\n",
       "      <td>74</td>\n",
       "      <td>5</td>\n",
       "    </tr>\n",
       "    <tr>\n",
       "      <th>...</th>\n",
       "      <td>...</td>\n",
       "      <td>...</td>\n",
       "      <td>...</td>\n",
       "    </tr>\n",
       "    <tr>\n",
       "      <th>251242</th>\n",
       "      <td>2022-05-11 11:53:48</td>\n",
       "      <td>69</td>\n",
       "      <td>2</td>\n",
       "    </tr>\n",
       "    <tr>\n",
       "      <th>251243</th>\n",
       "      <td>2022-05-11 11:56:45</td>\n",
       "      <td>67</td>\n",
       "      <td>2</td>\n",
       "    </tr>\n",
       "    <tr>\n",
       "      <th>251244</th>\n",
       "      <td>2022-05-11 12:07:42</td>\n",
       "      <td>76</td>\n",
       "      <td>2</td>\n",
       "    </tr>\n",
       "    <tr>\n",
       "      <th>251245</th>\n",
       "      <td>2022-05-11 12:04:42</td>\n",
       "      <td>67</td>\n",
       "      <td>2</td>\n",
       "    </tr>\n",
       "    <tr>\n",
       "      <th>251246</th>\n",
       "      <td>2022-05-11 12:08:55</td>\n",
       "      <td>80</td>\n",
       "      <td>2</td>\n",
       "    </tr>\n",
       "  </tbody>\n",
       "</table>\n",
       "<p>251247 rows × 3 columns</p>\n",
       "</div>"
      ],
      "text/plain": [
       "                        dt  bpm  day_of_week_in_number\n",
       "0      2021-03-06 13:27:34   88                      5\n",
       "1      2021-03-06 13:32:23   67                      5\n",
       "2      2021-03-06 13:38:29   74                      5\n",
       "3      2021-03-06 13:38:34   75                      5\n",
       "4      2021-03-06 13:38:39   74                      5\n",
       "...                    ...  ...                    ...\n",
       "251242 2022-05-11 11:53:48   69                      2\n",
       "251243 2022-05-11 11:56:45   67                      2\n",
       "251244 2022-05-11 12:07:42   76                      2\n",
       "251245 2022-05-11 12:04:42   67                      2\n",
       "251246 2022-05-11 12:08:55   80                      2\n",
       "\n",
       "[251247 rows x 3 columns]"
      ]
     },
     "execution_count": 29,
     "metadata": {},
     "output_type": "execute_result"
    }
   ],
   "source": [
    "import datetime\n",
    "dfhr = pd.read_csv(\"hr_export.csv\")\n",
    "dfhr['dt'] = pd.to_datetime(dfhr['dt'])\n",
    "dfhr['day_of_week_in_number'] = dfhr['dt'].dt.dayofweek\n",
    "\n",
    "dfhr"
   ]
  },
  {
   "cell_type": "code",
   "execution_count": 30,
   "id": "9d96a59e",
   "metadata": {},
   "outputs": [
    {
     "data": {
      "text/html": [
       "<div>\n",
       "<style scoped>\n",
       "    .dataframe tbody tr th:only-of-type {\n",
       "        vertical-align: middle;\n",
       "    }\n",
       "\n",
       "    .dataframe tbody tr th {\n",
       "        vertical-align: top;\n",
       "    }\n",
       "\n",
       "    .dataframe thead th {\n",
       "        text-align: right;\n",
       "    }\n",
       "</style>\n",
       "<table border=\"1\" class=\"dataframe\">\n",
       "  <thead>\n",
       "    <tr style=\"text-align: right;\">\n",
       "      <th></th>\n",
       "      <th>dt</th>\n",
       "      <th>bpm</th>\n",
       "      <th>day_of_week_in_number</th>\n",
       "    </tr>\n",
       "  </thead>\n",
       "  <tbody>\n",
       "    <tr>\n",
       "      <th>252</th>\n",
       "      <td>2021-03-07 00:00:52</td>\n",
       "      <td>102</td>\n",
       "      <td>6</td>\n",
       "    </tr>\n",
       "    <tr>\n",
       "      <th>253</th>\n",
       "      <td>2021-03-07 00:06:39</td>\n",
       "      <td>102</td>\n",
       "      <td>6</td>\n",
       "    </tr>\n",
       "    <tr>\n",
       "      <th>254</th>\n",
       "      <td>2021-03-07 00:12:38</td>\n",
       "      <td>83</td>\n",
       "      <td>6</td>\n",
       "    </tr>\n",
       "    <tr>\n",
       "      <th>255</th>\n",
       "      <td>2021-03-07 00:20:31</td>\n",
       "      <td>94</td>\n",
       "      <td>6</td>\n",
       "    </tr>\n",
       "    <tr>\n",
       "      <th>256</th>\n",
       "      <td>2021-03-07 00:23:49</td>\n",
       "      <td>92</td>\n",
       "      <td>6</td>\n",
       "    </tr>\n",
       "    <tr>\n",
       "      <th>...</th>\n",
       "      <td>...</td>\n",
       "      <td>...</td>\n",
       "      <td>...</td>\n",
       "    </tr>\n",
       "    <tr>\n",
       "      <th>248847</th>\n",
       "      <td>2022-01-09 13:05:59</td>\n",
       "      <td>130</td>\n",
       "      <td>6</td>\n",
       "    </tr>\n",
       "    <tr>\n",
       "      <th>249322</th>\n",
       "      <td>2022-01-09 19:03:07</td>\n",
       "      <td>152</td>\n",
       "      <td>6</td>\n",
       "    </tr>\n",
       "    <tr>\n",
       "      <th>249323</th>\n",
       "      <td>2022-01-09 19:14:40</td>\n",
       "      <td>155</td>\n",
       "      <td>6</td>\n",
       "    </tr>\n",
       "    <tr>\n",
       "      <th>249324</th>\n",
       "      <td>2022-01-09 19:24:35</td>\n",
       "      <td>158</td>\n",
       "      <td>6</td>\n",
       "    </tr>\n",
       "    <tr>\n",
       "      <th>249325</th>\n",
       "      <td>2022-01-09 19:34:30</td>\n",
       "      <td>166</td>\n",
       "      <td>6</td>\n",
       "    </tr>\n",
       "  </tbody>\n",
       "</table>\n",
       "<p>33519 rows × 3 columns</p>\n",
       "</div>"
      ],
      "text/plain": [
       "                        dt  bpm  day_of_week_in_number\n",
       "252    2021-03-07 00:00:52  102                      6\n",
       "253    2021-03-07 00:06:39  102                      6\n",
       "254    2021-03-07 00:12:38   83                      6\n",
       "255    2021-03-07 00:20:31   94                      6\n",
       "256    2021-03-07 00:23:49   92                      6\n",
       "...                    ...  ...                    ...\n",
       "248847 2022-01-09 13:05:59  130                      6\n",
       "249322 2022-01-09 19:03:07  152                      6\n",
       "249323 2022-01-09 19:14:40  155                      6\n",
       "249324 2022-01-09 19:24:35  158                      6\n",
       "249325 2022-01-09 19:34:30  166                      6\n",
       "\n",
       "[33519 rows x 3 columns]"
      ]
     },
     "execution_count": 30,
     "metadata": {},
     "output_type": "execute_result"
    }
   ],
   "source": [
    "mondaydf = dfhr[dfhr['day_of_week_in_number']==0]\n",
    "#mondaydf\n",
    "tuesdaydf = dfhr[dfhr['day_of_week_in_number']==1]\n",
    "#tuesdaydf\n",
    "wednesdaydf = dfhr[dfhr['day_of_week_in_number']==2]\n",
    "#wednesdaydf\n",
    "\n",
    "thursdaydf = dfhr[dfhr['day_of_week_in_number']==3]\n",
    "#thursdaydf\n",
    "\n",
    "fridaydf = dfhr[dfhr['day_of_week_in_number']==4]\n",
    "#fridaydf\n",
    "\n",
    "saturdaydf = dfhr[dfhr['day_of_week_in_number']==5]\n",
    "#saturdaydf\n",
    "\n",
    "sundaydf = dfhr[dfhr['day_of_week_in_number']==6]\n",
    "sundaydf"
   ]
  },
  {
   "cell_type": "code",
   "execution_count": 31,
   "id": "973c514a",
   "metadata": {},
   "outputs": [],
   "source": [
    "mondaydf.set_index('dt', inplace=True)  \n",
    "mondaydf.index = pd.to_datetime(mondaydf.index)    \n",
    "df2 = mondaydf.resample(rule = '30Min').mean()\n",
    "\n",
    "tuesdaydf.set_index('dt', inplace=True)  \n",
    "tuesdaydf.index = pd.to_datetime(tuesdaydf.index)    \n",
    "df3 = tuesdaydf.resample(rule = '30Min').mean()\n",
    "\n",
    "wednesdaydf.set_index('dt', inplace=True)  \n",
    "wednesdaydf.index = pd.to_datetime(wednesdaydf.index)    \n",
    "df4 = wednesdaydf.resample(rule = '30Min').mean()\n",
    "\n",
    "\n",
    "thursdaydf.set_index('dt', inplace=True)  \n",
    "thursdaydf.index = pd.to_datetime(thursdaydf.index)    \n",
    "df5 = thursdaydf.resample(rule = '30Min').mean()\n",
    "\n",
    "\n",
    "fridaydf.set_index('dt', inplace=True)  \n",
    "fridaydf.index = pd.to_datetime(fridaydf.index)    \n",
    "df6 = fridaydf.resample(rule = '30Min').mean()\n",
    "\n",
    "\n",
    "saturdaydf.set_index('dt', inplace=True)  \n",
    "saturdaydf.index = pd.to_datetime(saturdaydf.index)    \n",
    "df7 = saturdaydf.resample(rule = '30Min').mean()\n",
    "\n",
    "sundaydf.set_index('dt', inplace=True)  \n",
    "sundaydf.index = pd.to_datetime(sundaydf.index)    \n",
    "df8 = sundaydf.resample(rule = '30Min').mean()"
   ]
  },
  {
   "cell_type": "markdown",
   "id": "99b74ddb",
   "metadata": {},
   "source": [
    "exemple of the thursdayloop"
   ]
  },
  {
   "cell_type": "code",
   "execution_count": 32,
   "id": "9851543e",
   "metadata": {},
   "outputs": [
    {
     "name": "stdout",
     "output_type": "stream",
     "text": [
      "70.53879545354614\n",
      "75.55378945214048\n",
      "75.11253903117591\n",
      "73.52333018888338\n",
      "71.5159278099275\n",
      "72.88903558434299\n",
      "78.91294345844462\n",
      "82.35261470275556\n",
      "81.69792089762055\n",
      "78.08113186105635\n",
      "75.89742019358683\n",
      "74.50318439367538\n",
      "75.11461879508826\n",
      "76.76130811720407\n",
      "76.17414042150672\n",
      "78.37166407438232\n",
      "80.72499121065223\n",
      "81.0232797396651\n",
      "81.99081190100888\n",
      "83.24111182793351\n",
      "83.79264949419745\n",
      "81.85155002403539\n",
      "77.19576356532333\n",
      "73.57771805526475\n",
      "77.43595843751474\n",
      "81.58442232287375\n",
      "79.39247695174872\n",
      "74.85536809538155\n",
      "72.77657396459797\n"
     ]
    }
   ],
   "source": [
    "import datetime\n",
    "from datetime import timedelta\n",
    "box_list = []\n",
    "\n",
    "def loop():\n",
    "    for i in range(29):\n",
    "        \n",
    "        dep_time = datetime.datetime(year= 2021, month = 1, day = 1, hour = 7,minute = 0 )\n",
    "        end_time = datetime.datetime(year= 2021, month = 1, day = 1, hour = 7,minute = 30 )\n",
    "        x=0\n",
    "        dep_time = dep_time + timedelta(minutes=30*i)\n",
    "        end_time = end_time + timedelta(minutes=30*i)\n",
    "        \n",
    "        dep_time_str = dep_time.strftime(\"%H:%M\")\n",
    "        end_time_str = end_time.strftime(\"%H:%M\")\n",
    "        \n",
    "        globals()[f\"dfthursday{i}\"] = df5.between_time(dep_time_str,end_time_str)\n",
    "\n",
    "        globals()[f\"dfthursday{i}\"].dropna()\n",
    "        globals()[f\"AVGthursday{i}\"] =  globals()[f\"dfthursday{i}\"]['bpm'].mean()\n",
    "        box_list.append(globals()[f\"AVGthursday{i}\"])\n",
    "        print(globals()[f\"AVGthursday{i}\"])\n",
    "loop()"
   ]
  },
  {
   "cell_type": "markdown",
   "id": "56837484",
   "metadata": {},
   "source": [
    "I repeated this loop for each day of the week "
   ]
  },
  {
   "cell_type": "code",
   "execution_count": 33,
   "id": "73ba2589",
   "metadata": {},
   "outputs": [],
   "source": [
    "#data = {\n",
    " #   \"Monday\":[AVGdfmonday25,AVGdfmonday0,AVGdfmonday830,AVGdfmonday8309,AVGdfmonday930,AVGdfmonday9301,AVGdfmonday1030,AVGdfmonday103011,AVGdfmonday1130,AVGdfmonday113012,AVGdfmonday1230,AVGdfmonday10,AVGdfmonday11,AVGdfmonday12,AVGdfmonday13,AVGdfmonday14,AVGdfmonday15,AVGdfmonday16,AVGdfmonday17,AVGdfmonday18,AVGdfmonday19,AVGdfmonday20,AVGdfmonday21,AVGdfmonday22,AVGdfmonday23,AVGdfmonday24,AVGdfmonday25,AVGdfmonday26],\n",
    "  #  \"Tuesday\":[AVGdftuesday0,AVGdftuesday1,AVGdftuesday2,AVGdftuesday3,AVGdftuesday4,AVGdftuesday5,AVGdftuesday6,AVGdftuesday7,AVGdftuesday8,AVGdftuesday9,AVGdftuesday10,AVGdftuesday11,AVGdftuesday12,AVGdftuesday13,AVGdftuesday14,AVGdftuesday15,AVGdftuesday16,AVGdftuesday17,AVGdftuesday18,AVGdftuesday19,AVGdftuesday20,AVGdftuesday21,AVGdftuesday22,AVGdftuesday23,AVGdftuesday24,AVGdftuesday25,AVGdftuesday26,AVGdftuesday27],\n",
    "   # \"Wednesday\":[AVGdfwednesday0, AVGdfwednesday1, AVGdfwednesday2, AVGdfwednesday3, AVGdfwednesday4, AVGdfwednesday5, AVGdfwednesday6, AVGdfwednesday7, AVGdfwednesday8, AVGdfwednesday9, AVGdfwednesday10, AVGdfwednesday11, AVGdfwednesday12, AVGdfwednesday13, AVGdfwednesday14, AVGdfwednesday15, AVGdfwednesday16, AVGdfwednesday17, AVGdfwednesday18, AVGdfwednesday19, AVGdfwednesday20, AVGdfwednesday21, AVGdfwednesday22, AVGdfwednesday23, AVGdfwednesday24, AVGdfwednesday25, AVGdfwednesday26, AVGdfwednesday27],\n",
    "    #\"Thursday\":[boxlistdf.iloc[0][0],boxlistdf.iloc[0][1],boxlistdf.iloc[0][2],boxlistdf.iloc[0][3],boxlistdf.iloc[0][4], boxlistdf.iloc[0][5], boxlistdf.iloc[0][6], boxlistdf.iloc[0][7], boxlistdf.iloc[0][8],boxlistdf.iloc[0][9],boxlistdf.iloc[0][10],boxlistdf.iloc[0][11],boxlistdf.iloc[0][12],boxlistdf.iloc[0][13],boxlistdf.iloc[0][14], boxlistdf.iloc[0][15],boxlistdf.iloc[0][17],boxlistdf.iloc[0][18],boxlistdf.iloc[0][19],boxlistdf.iloc[0][20],boxlistdf.iloc[0][21], boxlistdf.iloc[0][22],boxlistdf.iloc[0][23],boxlistdf.iloc[0][24],boxlistdf.iloc[0][25],boxlistdf.iloc[0][26],boxlistdf.iloc[0][27],boxlistdf.iloc[0][28]],    \n",
    "    #\"Friday\":[AVGfriday0, AVGfriday1, AVGfriday2 ,AVGfriday3 ,AVGfriday4, AVGfriday5,AVGfriday6, AVGfriday7, AVGfriday8, AVGfriday9, AVGfriday10, AVGfriday11, AVGfriday12, AVGfriday13, AVGfriday14, AVGfriday15, AVGfriday16, AVGfriday17, AVGfriday18, AVGfriday19, AVGfriday20, AVGfriday21, AVGfriday22, AVGfriday23, AVGfriday24, AVGfriday25, AVGfriday26, AVGfriday27],\n",
    "    #\"Saturday\":[AVGsaturday0, AVGsaturday1, AVGsaturday2, AVGsaturday3, AVGsaturday4, AVGsaturday5, AVGsaturday6, AVGsaturday7, AVGsaturday8, AVGsaturday9, AVGsaturday10, AVGsaturday11, AVGsaturday12, AVGsaturday13, AVGsaturday14, AVGsaturday15, AVGsaturday16, AVGsaturday17, AVGsaturday18, AVGsaturday19, AVGsaturday20, AVGsaturday21, AVGsaturday22, AVGsaturday23, AVGsaturday24, AVGsaturday25, AVGsaturday26, AVGsaturday27],\n",
    "    #\"Sunday\":[AVGsunday0, AVGsunday1, AVGsunday2, AVGsunday3, AVGsunday4, AVGsunday5, AVGsunday6, AVGsunday7, AVGsunday8, AVGsunday9, AVGsunday10, AVGsunday11, AVGsunday12, AVGsunday13, AVGsunday14, AVGsunday15, AVGsunday16, AVGsunday17, AVGsunday18, AVGsunday19, AVGsunday20, AVGsunday21, AVGsunday22, AVGsunday23, AVGsunday24, AVGsunday25, AVGsunday26, AVGsunday27],\n",
    "#}\n",
    "#df_ = pd.DataFrame(data, index=['07:00 - 07:30','07:30 - 08:00','08:00 - 08:30','08:30 - 09:00','09:00 - 09:30','09:30 - 10:00','10:00 - 10:30','10:30 - 11:00','11:00 - 11:30','11:30 - 12:00','12:00 - 12:30','12:30 - 13:00','13:00 - 13:30', '13:30 - 14:00', '14:00 - 14:30', '14:30 - 15:00', '15:00 - 15:30', '15:30 - 16:00', '16:00 - 16:30', '16:30 - 17:00','17:00 - 17:30', '17:30 - 18:00', '18:00 - 18:30', '18:30 - 19:00', '19:00 - 19:30', '19:30 - 20:00', '20:00 - 20:30','20:30 - 21:00'])\n",
    "\n",
    "#print (df_)\n",
    "\n",
    "#df_.to_csv(\"dailyaveragebpm.csv\")"
   ]
  },
  {
   "cell_type": "markdown",
   "id": "4a70ede2",
   "metadata": {},
   "source": [
    "This how I made the dataframe after using the loop. I probably should have found an algorithmy to put the loop data inside a dataframe. "
   ]
  },
  {
   "cell_type": "code",
   "execution_count": 34,
   "id": "38f6f61e",
   "metadata": {},
   "outputs": [
    {
     "data": {
      "text/html": [
       "<div>\n",
       "<style scoped>\n",
       "    .dataframe tbody tr th:only-of-type {\n",
       "        vertical-align: middle;\n",
       "    }\n",
       "\n",
       "    .dataframe tbody tr th {\n",
       "        vertical-align: top;\n",
       "    }\n",
       "\n",
       "    .dataframe thead th {\n",
       "        text-align: right;\n",
       "    }\n",
       "</style>\n",
       "<table border=\"1\" class=\"dataframe\">\n",
       "  <thead>\n",
       "    <tr style=\"text-align: right;\">\n",
       "      <th></th>\n",
       "      <th>Timetable</th>\n",
       "      <th>Monday</th>\n",
       "      <th>Tuesday</th>\n",
       "      <th>Wednesday</th>\n",
       "      <th>Thursday</th>\n",
       "      <th>Friday</th>\n",
       "      <th>Saturday</th>\n",
       "      <th>Sunday</th>\n",
       "    </tr>\n",
       "  </thead>\n",
       "  <tbody>\n",
       "    <tr>\n",
       "      <th>0</th>\n",
       "      <td>07:00 - 07:30</td>\n",
       "      <td>76.953186</td>\n",
       "      <td>75.629937</td>\n",
       "      <td>72.869896</td>\n",
       "      <td>70.538795</td>\n",
       "      <td>73.789930</td>\n",
       "      <td>79.825397</td>\n",
       "      <td>73.933333</td>\n",
       "    </tr>\n",
       "    <tr>\n",
       "      <th>1</th>\n",
       "      <td>07:30 - 08:00</td>\n",
       "      <td>75.190420</td>\n",
       "      <td>78.866566</td>\n",
       "      <td>74.074021</td>\n",
       "      <td>75.553789</td>\n",
       "      <td>73.713973</td>\n",
       "      <td>77.239683</td>\n",
       "      <td>73.927721</td>\n",
       "    </tr>\n",
       "    <tr>\n",
       "      <th>2</th>\n",
       "      <td>08:00 - 08:30</td>\n",
       "      <td>75.316913</td>\n",
       "      <td>79.369711</td>\n",
       "      <td>74.377885</td>\n",
       "      <td>75.112539</td>\n",
       "      <td>72.856131</td>\n",
       "      <td>73.267592</td>\n",
       "      <td>70.664467</td>\n",
       "    </tr>\n",
       "    <tr>\n",
       "      <th>3</th>\n",
       "      <td>08:30 - 09:00</td>\n",
       "      <td>79.388688</td>\n",
       "      <td>82.568168</td>\n",
       "      <td>76.065968</td>\n",
       "      <td>73.523330</td>\n",
       "      <td>75.347199</td>\n",
       "      <td>70.536829</td>\n",
       "      <td>69.032293</td>\n",
       "    </tr>\n",
       "    <tr>\n",
       "      <th>4</th>\n",
       "      <td>09:00 - 09:30</td>\n",
       "      <td>79.294305</td>\n",
       "      <td>79.075790</td>\n",
       "      <td>76.894798</td>\n",
       "      <td>71.515928</td>\n",
       "      <td>75.121305</td>\n",
       "      <td>71.839152</td>\n",
       "      <td>73.461501</td>\n",
       "    </tr>\n",
       "  </tbody>\n",
       "</table>\n",
       "</div>"
      ],
      "text/plain": [
       "       Timetable     Monday    Tuesday  Wednesday   Thursday     Friday  \\\n",
       "0  07:00 - 07:30  76.953186  75.629937  72.869896  70.538795  73.789930   \n",
       "1  07:30 - 08:00  75.190420  78.866566  74.074021  75.553789  73.713973   \n",
       "2  08:00 - 08:30  75.316913  79.369711  74.377885  75.112539  72.856131   \n",
       "3  08:30 - 09:00  79.388688  82.568168  76.065968  73.523330  75.347199   \n",
       "4  09:00 - 09:30  79.294305  79.075790  76.894798  71.515928  75.121305   \n",
       "\n",
       "    Saturday     Sunday  \n",
       "0  79.825397  73.933333  \n",
       "1  77.239683  73.927721  \n",
       "2  73.267592  70.664467  \n",
       "3  70.536829  69.032293  \n",
       "4  71.839152  73.461501  "
      ]
     },
     "execution_count": 34,
     "metadata": {},
     "output_type": "execute_result"
    }
   ],
   "source": [
    "df = pd.read_csv(\"dailyaveragebpm.csv\")\n",
    "df.rename(columns = {'Unnamed: 0':'Timetable'}, inplace = True)\n",
    "df.head()"
   ]
  },
  {
   "cell_type": "markdown",
   "id": "e2bfe54f",
   "metadata": {},
   "source": [
    "# Graphic, Data visualization"
   ]
  },
  {
   "cell_type": "markdown",
   "id": "c402d2fc",
   "metadata": {},
   "source": [
    "figure1 = px.line(\n",
    "        df, \n",
    "        x = \"Timetable\",\n",
    "        y= [\"Monday\", \"Tuesday\", \"Wednesday\", \"Thursday\", \"Friday\", \"Saturday\", \"Sunday\"],\n",
    "        title = \"Daily BPM average along the year\",\n",
    "        template = \"presentation\",\n",
    "        labels={\"value\": \"BPM\", \"variable\": \"Days\"}\n",
    "        )\n",
    "figure1.show()"
   ]
  },
  {
   "cell_type": "markdown",
   "id": "101d1b02",
   "metadata": {},
   "source": [
    "I can't use plotly express on Jupyter Notebook offline so I need to work with sns.. "
   ]
  },
  {
   "cell_type": "code",
   "execution_count": 35,
   "id": "b3897386",
   "metadata": {},
   "outputs": [
    {
     "data": {
      "text/html": [
       "<div>\n",
       "<style scoped>\n",
       "    .dataframe tbody tr th:only-of-type {\n",
       "        vertical-align: middle;\n",
       "    }\n",
       "\n",
       "    .dataframe tbody tr th {\n",
       "        vertical-align: top;\n",
       "    }\n",
       "\n",
       "    .dataframe thead th {\n",
       "        text-align: right;\n",
       "    }\n",
       "</style>\n",
       "<table border=\"1\" class=\"dataframe\">\n",
       "  <thead>\n",
       "    <tr style=\"text-align: right;\">\n",
       "      <th></th>\n",
       "      <th>Timetable</th>\n",
       "      <th>Days</th>\n",
       "      <th>heart beat</th>\n",
       "    </tr>\n",
       "  </thead>\n",
       "  <tbody>\n",
       "    <tr>\n",
       "      <th>0</th>\n",
       "      <td>07:00 - 07:30</td>\n",
       "      <td>Monday</td>\n",
       "      <td>76.953186</td>\n",
       "    </tr>\n",
       "    <tr>\n",
       "      <th>1</th>\n",
       "      <td>07:30 - 08:00</td>\n",
       "      <td>Monday</td>\n",
       "      <td>75.190420</td>\n",
       "    </tr>\n",
       "    <tr>\n",
       "      <th>2</th>\n",
       "      <td>08:00 - 08:30</td>\n",
       "      <td>Monday</td>\n",
       "      <td>75.316913</td>\n",
       "    </tr>\n",
       "    <tr>\n",
       "      <th>3</th>\n",
       "      <td>08:30 - 09:00</td>\n",
       "      <td>Monday</td>\n",
       "      <td>79.388688</td>\n",
       "    </tr>\n",
       "    <tr>\n",
       "      <th>4</th>\n",
       "      <td>09:00 - 09:30</td>\n",
       "      <td>Monday</td>\n",
       "      <td>79.294305</td>\n",
       "    </tr>\n",
       "    <tr>\n",
       "      <th>...</th>\n",
       "      <td>...</td>\n",
       "      <td>...</td>\n",
       "      <td>...</td>\n",
       "    </tr>\n",
       "    <tr>\n",
       "      <th>191</th>\n",
       "      <td>18:30 - 19:00</td>\n",
       "      <td>Sunday</td>\n",
       "      <td>80.537097</td>\n",
       "    </tr>\n",
       "    <tr>\n",
       "      <th>192</th>\n",
       "      <td>19:00 - 19:30</td>\n",
       "      <td>Sunday</td>\n",
       "      <td>77.860413</td>\n",
       "    </tr>\n",
       "    <tr>\n",
       "      <th>193</th>\n",
       "      <td>19:30 - 20:00</td>\n",
       "      <td>Sunday</td>\n",
       "      <td>77.697844</td>\n",
       "    </tr>\n",
       "    <tr>\n",
       "      <th>194</th>\n",
       "      <td>20:00 - 20:30</td>\n",
       "      <td>Sunday</td>\n",
       "      <td>75.748660</td>\n",
       "    </tr>\n",
       "    <tr>\n",
       "      <th>195</th>\n",
       "      <td>20:30 - 21:00</td>\n",
       "      <td>Sunday</td>\n",
       "      <td>75.866336</td>\n",
       "    </tr>\n",
       "  </tbody>\n",
       "</table>\n",
       "<p>196 rows × 3 columns</p>\n",
       "</div>"
      ],
      "text/plain": [
       "         Timetable    Days  heart beat\n",
       "0    07:00 - 07:30  Monday   76.953186\n",
       "1    07:30 - 08:00  Monday   75.190420\n",
       "2    08:00 - 08:30  Monday   75.316913\n",
       "3    08:30 - 09:00  Monday   79.388688\n",
       "4    09:00 - 09:30  Monday   79.294305\n",
       "..             ...     ...         ...\n",
       "191  18:30 - 19:00  Sunday   80.537097\n",
       "192  19:00 - 19:30  Sunday   77.860413\n",
       "193  19:30 - 20:00  Sunday   77.697844\n",
       "194  20:00 - 20:30  Sunday   75.748660\n",
       "195  20:30 - 21:00  Sunday   75.866336\n",
       "\n",
       "[196 rows x 3 columns]"
      ]
     },
     "execution_count": 35,
     "metadata": {},
     "output_type": "execute_result"
    }
   ],
   "source": [
    "df = df.melt(id_vars=['Timetable'], value_vars=[\"Monday\", \"Tuesday\", \"Wednesday\", \"Thursday\", \"Friday\", \"Saturday\", \"Sunday\"],  var_name='Days', value_name='heart beat')\n",
    "df"
   ]
  },
  {
   "cell_type": "code",
   "execution_count": 36,
   "id": "90b7af10",
   "metadata": {},
   "outputs": [
    {
     "data": {
      "image/png": "[encoded data removed]",
      "text/plain": [
       "<Figure size 1800x432 with 1 Axes>"
      ]
     },
     "metadata": {
      "needs_background": "light"
     },
     "output_type": "display_data"
    }
   ],
   "source": [
    "plt.figure(figsize=(25, 6))\n",
    "sns.lineplot(data = df,\n",
    "             x= \"Timetable\",\n",
    "             y= \"heart beat\",\n",
    "             hue = \"Days\"\n",
    "             )\n",
    "\n",
    "plt.title(\"Daily BPM average along the year\")\n",
    "plt.show()\n"
   ]
  },
  {
   "cell_type": "markdown",
   "id": "a2a59de6",
   "metadata": {},
   "source": [
    "What we learn from this graphic : \n",
    "\n",
    "I do sports during week ends and thursdays afternoon. \n",
    "\n",
    "I go to school by bike during the week. At this same time I am more sleepy during week end. \n",
    "\n",
    "I am going out on tuesday evenings."
   ]
  },
  {
   "cell_type": "markdown",
   "id": "d2d33ae7",
   "metadata": {},
   "source": [
    "# References/ Reaserch"
   ]
  },
  {
   "cell_type": "markdown",
   "id": "889b5a15",
   "metadata": {},
   "source": [
    "https://towardsdatascience.com/data-analysis-of-your-applewatch-workouts-672fe0366e7c"
   ]
  },
  {
   "cell_type": "markdown",
   "id": "f1504961",
   "metadata": {},
   "source": [
    "flo.tausend. (Feb, 2020). Data Analysis Of Your AppleWatch Workouts - Towards Data Science.(code in image 1, and some cleaning tips)"
   ]
  },
  {
   "cell_type": "markdown",
   "id": "fb1af4e4",
   "metadata": {},
   "source": [
    "https://github.com/minimaxir/get-heart-rate-csv/blob/master/hr_xml_to_csv.py"
   ]
  },
  {
   "cell_type": "markdown",
   "id": "247a4448",
   "metadata": {},
   "source": [
    "minimaxir. (Jan, 2018). Git Hub. (hr_xml_to_csv.py)"
   ]
  },
  {
   "cell_type": "markdown",
   "id": "ee839da9",
   "metadata": {},
   "source": [
    "https://www.reddit.com/r/dataisbeautiful/comments/p5o7wo/oc_my_average_heart_rate_along_the_day_data/"
   ]
  },
  {
   "cell_type": "markdown",
   "id": "6aec7807",
   "metadata": {},
   "source": [
    "calibri_light. (Sep, 2021) .Reddit's dataisbeautiful. (inspiration)\n"
   ]
  },
  {
   "cell_type": "markdown",
   "id": "a5fd2ac2",
   "metadata": {},
   "source": [
    "https://towardsdatascience.com/simple-and-multiple-linear-regression-in-python-c928425168f9"
   ]
  },
  {
   "cell_type": "markdown",
   "id": "788ee88e",
   "metadata": {},
   "source": [
    "Adi Bronshtein. (May, 2017). Simple and Multiple Linear Regression in Python - Towards Data Science. (help me to do the multiple linear regression equations)"
   ]
  },
  {
   "cell_type": "markdown",
   "id": "748d52e7",
   "metadata": {},
   "source": [
    "https://www.mdpi.com/2075-4426/7/2/3/htm"
   ]
  },
  {
   "cell_type": "markdown",
   "id": "8f3c20f7",
   "metadata": {},
   "source": [
    "Shcherbina, A., Mattsson, C., Waggott, D., Salisbury, H., Christle, J., Hastie, T., Wheeler, M., & Ashley, E. (2017). Accuracy in Wrist-Worn, Sensor-Based Measurements of Heart Rate and Energy Expenditure in a Diverse Cohort. Journal of Personalized Medicine, 7(2), 3. https://doi.org/10.3390/jpm7020003"
   ]
  },
  {
   "cell_type": "markdown",
   "id": "bf03851a",
   "metadata": {},
   "source": [
    "https://www.geeksforgeeks.org/data-visualization-using-matplotlib/"
   ]
  },
  {
   "cell_type": "markdown",
   "id": "f00e9586",
   "metadata": {},
   "source": [
    "Jonas Moons. Canvas Data Learning, Teams's example. (linear_regression.ipynb, correlation.ipynb, multiple_linear_regression.ipynb)"
   ]
  }
 ],
 "metadata": {
  "kernelspec": {
   "display_name": "Python 3 (ipykernel)",
   "language": "python",
   "name": "python3"
  },
  "language_info": {
   "codemirror_mode": {
    "name": "ipython",
    "version": 3
   },
   "file_extension": ".py",
   "mimetype": "text/x-python",
   "name": "python",
   "nbconvert_exporter": "python",
   "pygments_lexer": "ipython3",
   "version": "3.9.12"
  }
 },
 "nbformat": 4,
 "nbformat_minor": 5
}
